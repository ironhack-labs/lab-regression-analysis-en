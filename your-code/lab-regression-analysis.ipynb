{
 "cells": [
  {
   "cell_type": "markdown",
   "metadata": {},
   "source": [
    "# Lab: Regression Analysis"
   ]
  },
  {
   "cell_type": "markdown",
   "metadata": {},
   "source": [
    "### Before you start:\n",
    "\n",
    "* Read the README.md file\n",
    "* Comment as much as you can and use the resources (README.md file) \n",
    "\n",
    "Happy learning!"
   ]
  },
  {
   "cell_type": "markdown",
   "metadata": {},
   "source": [
    "## Challenge 1\n",
    "I work at a coding bootcamp, and I have developed a theory that the younger my students are, the more often they are late to class. In order to test my hypothesis, I have collected some data in the following table:\n",
    "\n",
    "| StudentID | Age | Tardies |\n",
    "|--------|-----|------------|\n",
    "| 1      | 17  | 10         |\n",
    "| 2      | 51  | 1          |\n",
    "| 3      | 27  | 5          |\n",
    "| 4      | 21  | 9         |\n",
    "| 5      | 36  |  4         |\n",
    "| 6      | 48  |  2         |\n",
    "| 7      | 19  |  9         |\n",
    "| 8      | 26  | 6          |\n",
    "| 9      | 54  |  0         |\n",
    "| 10     | 30  |  3         |"
   ]
  },
  {
   "cell_type": "code",
   "execution_count": 19,
   "metadata": {},
   "outputs": [],
   "source": [
    "import pandas as pd\n",
    "import numpy as np\n",
    "import plotly.express as px\n",
    "import statsmodels.formula.api as smf\n",
    "from sklearn.linear_model import LinearRegression\n",
    "import matplotlib.pyplot as plt\n",
    "import seaborn as sns\n",
    "from sklearn.model_selection import train_test_split\n",
    "from sklearn.metrics import mean_squared_error, r2_score"
   ]
  },
  {
   "cell_type": "markdown",
   "metadata": {},
   "source": [
    "Use this command to create a dataframe with the data provided in the table. \n",
    "~~~~\n",
    "student_data = pd.DataFrame({'Age': [17,51,27,21,36,48,19,26,54,30], 'Tardies': [10,1,5,9,4,2,9,6,0,3]})\n",
    "~~~~"
   ]
  },
  {
   "cell_type": "code",
   "execution_count": 3,
   "metadata": {},
   "outputs": [
    {
     "data": {
      "text/html": [
       "<div>\n",
       "<style scoped>\n",
       "    .dataframe tbody tr th:only-of-type {\n",
       "        vertical-align: middle;\n",
       "    }\n",
       "\n",
       "    .dataframe tbody tr th {\n",
       "        vertical-align: top;\n",
       "    }\n",
       "\n",
       "    .dataframe thead th {\n",
       "        text-align: right;\n",
       "    }\n",
       "</style>\n",
       "<table border=\"1\" class=\"dataframe\">\n",
       "  <thead>\n",
       "    <tr style=\"text-align: right;\">\n",
       "      <th></th>\n",
       "      <th>Age</th>\n",
       "      <th>Tardies</th>\n",
       "    </tr>\n",
       "  </thead>\n",
       "  <tbody>\n",
       "    <tr>\n",
       "      <th>0</th>\n",
       "      <td>17</td>\n",
       "      <td>10</td>\n",
       "    </tr>\n",
       "    <tr>\n",
       "      <th>1</th>\n",
       "      <td>51</td>\n",
       "      <td>1</td>\n",
       "    </tr>\n",
       "    <tr>\n",
       "      <th>2</th>\n",
       "      <td>27</td>\n",
       "      <td>5</td>\n",
       "    </tr>\n",
       "    <tr>\n",
       "      <th>3</th>\n",
       "      <td>21</td>\n",
       "      <td>9</td>\n",
       "    </tr>\n",
       "    <tr>\n",
       "      <th>4</th>\n",
       "      <td>36</td>\n",
       "      <td>4</td>\n",
       "    </tr>\n",
       "    <tr>\n",
       "      <th>5</th>\n",
       "      <td>48</td>\n",
       "      <td>2</td>\n",
       "    </tr>\n",
       "    <tr>\n",
       "      <th>6</th>\n",
       "      <td>19</td>\n",
       "      <td>9</td>\n",
       "    </tr>\n",
       "    <tr>\n",
       "      <th>7</th>\n",
       "      <td>26</td>\n",
       "      <td>6</td>\n",
       "    </tr>\n",
       "    <tr>\n",
       "      <th>8</th>\n",
       "      <td>54</td>\n",
       "      <td>0</td>\n",
       "    </tr>\n",
       "    <tr>\n",
       "      <th>9</th>\n",
       "      <td>30</td>\n",
       "      <td>3</td>\n",
       "    </tr>\n",
       "  </tbody>\n",
       "</table>\n",
       "</div>"
      ],
      "text/plain": [
       "   Age  Tardies\n",
       "0   17       10\n",
       "1   51        1\n",
       "2   27        5\n",
       "3   21        9\n",
       "4   36        4\n",
       "5   48        2\n",
       "6   19        9\n",
       "7   26        6\n",
       "8   54        0\n",
       "9   30        3"
      ]
     },
     "metadata": {},
     "output_type": "display_data"
    }
   ],
   "source": [
    "student_data = pd.DataFrame({'Age': [17,51,27,21,36,48,19,26,54,30], 'Tardies': [10,1,5,9,4,2,9,6,0,3]})\n",
    "display(student_data)"
   ]
  },
  {
   "cell_type": "markdown",
   "metadata": {},
   "source": [
    "Draw a dispersion diagram (scatter plot) for the data."
   ]
  },
  {
   "cell_type": "code",
   "execution_count": 4,
   "metadata": {},
   "outputs": [
    {
     "data": {
      "image/png": "[encoded data removed]",
      "text/plain": [
       "<Figure size 1000x600 with 1 Axes>"
      ]
     },
     "metadata": {},
     "output_type": "display_data"
    }
   ],
   "source": [
    "# Draw the scatter plot\n",
    "plt.figure(figsize=(10, 6))\n",
    "plt.scatter(student_data['Age'], student_data['Tardies'], color='blue', marker='o')\n",
    "plt.title('Age vs Tardies')\n",
    "plt.xlabel('Age')\n",
    "plt.ylabel('Number of Tardies')\n",
    "plt.grid(True)\n",
    "\n",
    "# Show the plot\n",
    "plt.show()"
   ]
  },
  {
   "cell_type": "markdown",
   "metadata": {},
   "source": [
    "Do you see a trend? Can you make any hypotheses about the relationship between age and number of tardies?"
   ]
  },
  {
   "cell_type": "markdown",
   "metadata": {},
   "source": [
    "Answer: The younger the student is, the more tardies he has."
   ]
  },
  {
   "cell_type": "markdown",
   "metadata": {},
   "source": [
    "Calculate the covariance and correlation of the variables in your plot. What is the difference between these two measures? Compare their values. What do they tell you in this case? Add your responses as comments after your code."
   ]
  },
  {
   "cell_type": "code",
   "execution_count": 15,
   "metadata": {},
   "outputs": [
    {
     "name": "stdout",
     "output_type": "stream",
     "text": [
      "Covariance: -45.56666666666666\n",
      "Correlation: -0.9391626886887121\n"
     ]
    }
   ],
   "source": [
    "covariance_students = student_data.cov()\n",
    "cov = covariance_students.loc['Age','Tardies']\n",
    "\n",
    "correlation_students = student_data.corr()\n",
    "\n",
    "corr = correlation_students.loc['Age','Tardies']\n",
    "\n",
    "print(f'Covariance: {cov}')\n",
    "\n",
    "print(f'Correlation: {corr}')\n",
    "\n",
    "\n",
    "## Covariance is the joint difference between the 2 variables. If the covariance is positive, it means the variables tend to increase together. \n",
    "### In this case, as negative, one variable tends to increase when the other decreases.\n",
    "\n",
    "## Correlation shows the interdependence of variables in a range from -1 to 1.\n",
    "### A correlation = 1 shows a perfect linear relationship. -1 implies in a perfect negative linear relationship.\n",
    "\n",
    "### In this case with both covariance and correlation negative indicates as the age increases, the tardies decreases.\n",
    "\n"
   ]
  },
  {
   "cell_type": "markdown",
   "metadata": {},
   "source": [
    "Build a regression model for this data. What will be your outcome variable? What type of regression are you using? Add your responses as comments after your code."
   ]
  },
  {
   "cell_type": "code",
   "execution_count": 36,
   "metadata": {},
   "outputs": [
    {
     "name": "stdout",
     "output_type": "stream",
     "text": [
      "MSE Test: 18.249242759454475\n",
      "R2 score Test: -26.373864139181713\n"
     ]
    }
   ],
   "source": [
    "#### TRAINING WITH TEST DATA\n",
    "\n",
    "# Define the independent variable (X) and dependent variable (y) \n",
    "X = student_data[['Age']] # Using double brackets to get a 2D array for scikit-learn\n",
    "y = student_data['Tardies']\n",
    "\n",
    "# split the test\n",
    "X_train, X_test, y_train, y_test = train_test_split(X, y, test_size=0.3, random_state=42) #random state makes sure we have the same sample every time we run the code.\n",
    "\n",
    "# print(X_train.shape, X_test.shape, y_train.shape, y_test.shape) checking if we generated the right shapes\n",
    "\n",
    "# Initialize the Linear Regression object that will be fed later on\n",
    "model = LinearRegression()\n",
    "\n",
    "# Train the model using the training data\n",
    "model.fit(X_train, y_train)\n",
    "\n",
    "# Making predictions using the test data\n",
    "y_pred = model.predict(X_test)\n",
    "\n",
    "# Calculate MSE and R2 score\n",
    "mse = mean_squared_error(y_test,y_pred)\n",
    "r2 = r2_score(y_test,y_pred)\n",
    "\n",
    "mse_test = mean_squared_error(y_test,y_pred)\n",
    "r2_test = r2_score(y_test,y_pred)\n",
    "\n",
    "# Printing the results\n",
    "print(f'MSE Test: {mse_test}')\n",
    "print(f'R2 score Test: {r2_test}')\n",
    "\n",
    "\n"
   ]
  },
  {
   "cell_type": "code",
   "execution_count": 38,
   "metadata": {},
   "outputs": [
    {
     "name": "stdout",
     "output_type": "stream",
     "text": [
      "MSE Training: 1.007724074640563\n",
      "R2 score Training: 0.8456922510706638\n"
     ]
    }
   ],
   "source": [
    "## PREDICTING ON TESTING DATA\n",
    "\n",
    "# Define the independent variable (X) and dependent variable (y) \n",
    "X = student_data[['Age']] # Using double brackets to get a 2D array for scikit-learn\n",
    "y = student_data['Tardies']\n",
    "\n",
    "# split the test\n",
    "X_train, X_test, y_train, y_test = train_test_split(X, y, test_size=0.3, random_state=42) #random state makes sure we have the same sample every time we run the code.\n",
    "\n",
    "# print(X_train.shape, X_test.shape, y_train.shape, y_test.shape) checking if we generated the right shapes\n",
    "\n",
    "# Initialize the Linear Regression object that will be fed later on\n",
    "model = LinearRegression()\n",
    "\n",
    "# Train the model using the training data\n",
    "model.fit(X_train, y_train)\n",
    "\n",
    "# Making predictions using the training data\n",
    "y_train_pred = model.predict(X_train)\n",
    "\n",
    "# Calculate MSE and R2 score\n",
    "mse_train = mean_squared_error(y_train,y_train_pred)\n",
    "r2_train = r2_score(y_train,y_train_pred)\n",
    "\n",
    "\n",
    "# Printing the results\n",
    "print(f'MSE Training: {mse_train}')\n",
    "print(f'R2 score Training: {r2_train}')\n"
   ]
  },
  {
   "cell_type": "code",
   "execution_count": 39,
   "metadata": {},
   "outputs": [
    {
     "name": "stdout",
     "output_type": "stream",
     "text": [
      "MSE Training: 1.007724074640563\n",
      "MSE Test: 18.249242759454475\n",
      "R2 score Training: 0.8456922510706638\n",
      "R2 score Test: -26.373864139181713\n"
     ]
    }
   ],
   "source": [
    "print(f'MSE Training: {mse_train}')\n",
    "print(f'MSE Test: {mse_test}')\n",
    "print(f'R2 score Training: {r2_train}')\n",
    "print(f'R2 score Test: {r2_test}')"
   ]
  },
  {
   "cell_type": "markdown",
   "metadata": {},
   "source": [
    "Plot your regression model on your scatter plot."
   ]
  },
  {
   "cell_type": "code",
   "execution_count": 33,
   "metadata": {},
   "outputs": [
    {
     "name": "stderr",
     "output_type": "stream",
     "text": [
      "No artists with labels found to put in legend.  Note that artists whose label start with an underscore are ignored when legend() is called with no argument.\n"
     ]
    },
    {
     "data": {
      "image/png": "[encoded data removed]",
      "text/plain": [
       "<Figure size 1000x600 with 1 Axes>"
      ]
     },
     "metadata": {},
     "output_type": "display_data"
    }
   ],
   "source": [
    "plt.figure(figsize=(10, 6))\n",
    "plt.plot(X_train, y_train, \"o\", alpha=.5)\n",
    "plt.plot(X_test, y_test, \"o\", alpha=.5)\n",
    "plt.plot(X_train, y_train_pred, \"r\")\n",
    "plt.title('Age vs Tardies')\n",
    "plt.xlabel('Age')\n",
    "plt.ylabel('Number of Tardies')\n",
    "plt.legend()\n",
    "plt.show()"
   ]
  },
  {
   "cell_type": "markdown",
   "metadata": {},
   "source": [
    "Interpret the results of your model. What can conclusions can you draw from your model and how confident in these conclusions are you? Can we say that age is a good predictor of tardiness? Add your responses as comments after your code."
   ]
  },
  {
   "cell_type": "markdown",
   "metadata": {},
   "source": [
    "MSE says that, on average, the squared difference between the predicted and actual number of tardies is 18.25, which says that the model is not good and my assumption is on the data size, which we have 10 rows only. The model overfit on training."
   ]
  },
  {
   "cell_type": "markdown",
   "metadata": {},
   "source": [
    "## Challenge 2\n",
    "For the second part of this lab, we will use the vehicles.csv data set. You can find a copy of the dataset in the git hub folder. This dataset includes variables related to vehicle characteristics, including the model, make, and energy efficiency standards, as well as each car's CO2 emissions. As discussed in class the goal of this exercise is to predict vehicles' CO2 emissions based on several independent variables. "
   ]
  },
  {
   "cell_type": "code",
   "execution_count": 42,
   "metadata": {},
   "outputs": [
    {
     "name": "stdout",
     "output_type": "stream",
     "text": [
      "<class 'pandas.core.frame.DataFrame'>\n",
      "RangeIndex: 35952 entries, 0 to 35951\n",
      "Data columns (total 15 columns):\n",
      " #   Column                   Non-Null Count  Dtype  \n",
      "---  ------                   --------------  -----  \n",
      " 0   Make                     35952 non-null  object \n",
      " 1   Model                    35952 non-null  object \n",
      " 2   Year                     35952 non-null  int64  \n",
      " 3   Engine Displacement      35952 non-null  float64\n",
      " 4   Cylinders                35952 non-null  float64\n",
      " 5   Transmission             35952 non-null  object \n",
      " 6   Drivetrain               35952 non-null  object \n",
      " 7   Vehicle Class            35952 non-null  object \n",
      " 8   Fuel Type                35952 non-null  object \n",
      " 9   Fuel Barrels/Year        35952 non-null  float64\n",
      " 10  City MPG                 35952 non-null  int64  \n",
      " 11  Highway MPG              35952 non-null  int64  \n",
      " 12  Combined MPG             35952 non-null  int64  \n",
      " 13  CO2 Emission Grams/Mile  35952 non-null  float64\n",
      " 14  Fuel Cost/Year           35952 non-null  int64  \n",
      "dtypes: float64(4), int64(5), object(6)\n",
      "memory usage: 4.1+ MB\n"
     ]
    }
   ],
   "source": [
    "# Import any libraries you may need & the data\n",
    "vehicles = pd.read_csv(\"C:\\\\Users\\\\Francesco Corda\\\\Documents\\\\GitHub\\\\lab-regression-analysis-en\\\\vehicles.csv\")\n",
    "vehicles.info()"
   ]
  },
  {
   "cell_type": "markdown",
   "metadata": {},
   "source": [
    "Let's use the following variables for our analysis: Year, Cylinders, Fuel Barrels/Year, Combined MPG, and Fuel Cost/Year. We will use 'CO2 Emission Grams/Mile' as our outcome variable. \n",
    "\n",
    "Calculate the correlations between each of these variables and the outcome. Which variable do you think will be the most important in determining CO2 emissions? Which provides the least amount of helpful information for determining CO2 emissions? Add your responses as comments after your code."
   ]
  },
  {
   "cell_type": "code",
   "execution_count": 45,
   "metadata": {},
   "outputs": [
    {
     "name": "stdout",
     "output_type": "stream",
     "text": [
      "                             Year  Cylinders  Fuel Barrels/Year  Combined MPG  \\\n",
      "Year                     1.000000   0.082469          -0.221084      0.204751   \n",
      "Cylinders                0.082469   1.000000           0.739517     -0.698648   \n",
      "Fuel Barrels/Year       -0.221084   0.739517           1.000000     -0.909743   \n",
      "Combined MPG             0.204751  -0.698648          -0.909743      1.000000   \n",
      "Fuel Cost/Year          -0.091913   0.778153           0.916208     -0.875185   \n",
      "CO2 Emission Grams/Mile -0.222300   0.752393           0.986189     -0.926229   \n",
      "\n",
      "                         Fuel Cost/Year  CO2 Emission Grams/Mile  \n",
      "Year                          -0.091913                -0.222300  \n",
      "Cylinders                      0.778153                 0.752393  \n",
      "Fuel Barrels/Year              0.916208                 0.986189  \n",
      "Combined MPG                  -0.875185                -0.926229  \n",
      "Fuel Cost/Year                 1.000000                 0.930865  \n",
      "CO2 Emission Grams/Mile        0.930865                 1.000000  \n"
     ]
    }
   ],
   "source": [
    "# filtering my columns to be used\n",
    "variables =['Year', 'Cylinders', 'Fuel Barrels/Year', 'Combined MPG', 'Fuel Cost/Year', 'CO2 Emission Grams/Mile']\n",
    "\n",
    "# new subset using my selected variables\n",
    "selected_data = vehicles[variables]\n",
    "\n",
    "# calculating correlations\n",
    "\n",
    "corr = selected_data.corr()\n",
    "print(corr)\n",
    "\n",
    "# Based on the correlations:\n",
    "# - 'Fuel Barrels/Year' and 'Fuel Cost/Year' are expected to have strong positive correlations with 'CO2 Emission Grams/Mile' because vehicles that consume more fuel tend to emit more CO2.\n",
    "# - 'Combined MPG' is expected to have a strong negative correlation with 'CO2 Emission Grams/Mile' because higher MPG indicates lower fuel consumption and hence lower CO2 emissions.\n",
    "# - 'Cylinders' may have a moderate positive correlation with 'CO2 Emission Grams/Mile' since vehicles with more cylinders tend to have larger engines and higher fuel consumption.\n",
    "# - 'Year' may have a weak negative correlation with 'CO2 Emission Grams/Mile' due to advancements in technology leading to more fuel-efficient vehicles over time.\n",
    "\n",
    "# The variable most important in determining CO2 emissions is likely 'Fuel Barrels/Year' or 'Combined MPG', as they are directly related to fuel consumption and efficiency, which directly affect CO2 emissions.\n"
   ]
  },
  {
   "cell_type": "markdown",
   "metadata": {},
   "source": [
    "Build a regression model for this data. What type of regression are you using? Add your responses as comments after your code."
   ]
  },
  {
   "cell_type": "code",
   "execution_count": 47,
   "metadata": {},
   "outputs": [
    {
     "name": "stdout",
     "output_type": "stream",
     "text": [
      "MSE Test: 256.8951075186601\n",
      "R2 score Test: 0.9816221846322115\n"
     ]
    }
   ],
   "source": [
    "#### TRAINING WITH TEST DATA\n",
    "\n",
    "# Define the independent variable (X) and dependent variable (y) \n",
    "X = vehicles[['Year', 'Cylinders', 'Fuel Barrels/Year', 'Combined MPG', 'Fuel Cost/Year']]\n",
    "y = vehicles['CO2 Emission Grams/Mile']\n",
    "\n",
    "# split the test\n",
    "X_train, X_test, y_train, y_test = train_test_split(X, y, test_size=0.3, random_state=42) #random state makes sure we have the same sample every time we run the code.\n",
    "\n",
    "# print(X_train.shape, X_test.shape, y_train.shape, y_test.shape) checking if we generated the right shapes\n",
    "\n",
    "# Initialize the Linear Regression object that will be fed later on\n",
    "model = LinearRegression()\n",
    "\n",
    "# Train the model using the training data\n",
    "model.fit(X_train, y_train)\n",
    "\n",
    "# Making predictions using the test data\n",
    "y_pred = model.predict(X_test)\n",
    "\n",
    "# Calculate MSE and R2 score\n",
    "mse = mean_squared_error(y_test,y_pred)\n",
    "r2 = r2_score(y_test,y_pred)\n",
    "\n",
    "mse_test = mean_squared_error(y_test,y_pred)\n",
    "r2_test = r2_score(y_test,y_pred)\n",
    "\n",
    "# Printing the results\n",
    "print(f'MSE Test: {mse_test}')\n",
    "print(f'R2 score Test: {r2_test}')\n"
   ]
  },
  {
   "cell_type": "code",
   "execution_count": 48,
   "metadata": {},
   "outputs": [
    {
     "name": "stdout",
     "output_type": "stream",
     "text": [
      "             Feature  Train Score  Test Score     Train MSE      Test MSE\n",
      "0               Year     0.048599    0.051358  13566.309852  13260.633877\n",
      "1          Cylinders     0.565352    0.567861   6197.773458   6040.679308\n",
      "2  Fuel Barrels/Year     0.971923    0.974101    400.351983    362.030807\n",
      "3       Combined MPG     0.854769    0.865257   2070.897797   1883.513709\n",
      "4     Fuel Cost/Year     0.867468    0.864215   1889.807353   1898.077071\n"
     ]
    }
   ],
   "source": [
    "#### TRAINING WITH TEST DATA. PERFORMING THE TEST FOR EACH VARIANT\n",
    "\n",
    "# Define the independent variable (X) and dependent variable (y) \n",
    "X = vehicles[['Year', 'Cylinders', 'Fuel Barrels/Year', 'Combined MPG', 'Fuel Cost/Year']]\n",
    "y = vehicles['CO2 Emission Grams/Mile']\n",
    "\n",
    "# split the test\n",
    "X_train, X_test, y_train, y_test = train_test_split(X, y, test_size=0.3, random_state=42) #random state makes sure we have the same sample every time we run the code.\n",
    "\n",
    "n_features = len(X_train.columns)  # Get number of features from training data (more reliable)\n",
    "\n",
    "scores = []\n",
    "\n",
    "for i in range(n_features):\n",
    "    # Select feature by name (assuming column names are informative)\n",
    "    feat_name = X_train.columns[i]  # Use training data for column names\n",
    "    feat1_train = X_train[feat_name].to_numpy().reshape(-1, 1)  # Reshape for single feature\n",
    "    feat1_test = X_test[feat_name].to_numpy().reshape(-1, 1)  # Reshape for single feature\n",
    "\n",
    "    # Train model\n",
    "    regr_feat1 = LinearRegression()\n",
    "    regr_feat1.fit(feat1_train, y_train.values.reshape(-1, 1))  # Reshape target variable\n",
    "\n",
    "    # Predict (assuming y_test is a Series)\n",
    "    y_train_pred = regr_feat1.predict(feat1_train)\n",
    "    y_test_pred = regr_feat1.predict(feat1_test)\n",
    "\n",
    "    # Evaluate model (using mean squared error)\n",
    "    train_score = regr_feat1.score(feat1_train, y_train.values.reshape(-1, 1))  # Reshape target variable\n",
    "    test_score = regr_feat1.score(feat1_test, y_test.values.reshape(-1, 1))  # Reshape target variable\n",
    "    mse_train = mean_squared_error(y_train, y_train_pred)\n",
    "    mse_test = mean_squared_error(y_test, y_test_pred)\n",
    "\n",
    "    scores.append([feat_name, train_score, test_score, mse_train, mse_test])\n",
    "\n",
    "# Print or analyze scores as needed\n",
    "print(pd.DataFrame(scores, columns=[\"Feature\", \"Train Score\", \"Test Score\", \"Train MSE\", \"Test MSE\"]))"
   ]
  },
  {
   "cell_type": "markdown",
   "metadata": {},
   "source": [
    "Print your regression summary, and interpret the results. What are the most important varibles in your model and why? What can conclusions can you draw from your model and how confident in these conclusions are you? Add your responses as comments after your code."
   ]
  },
  {
   "cell_type": "code",
   "execution_count": 49,
   "metadata": {},
   "outputs": [],
   "source": [
    "## The most important variable: 'Fuel Barrels/Year' has the highest train and test scores, indicating \n",
    "# that it is the most important variable in the model, suggesting this is strongly associated with CO2 emissions.\n",
    "\n",
    "# 'Combined MPG' also has relatively high train and test scores, indicating its importance in the model. \n",
    "# Higher combined MPG values (indicating better fuel efficiency) are associated with lower CO2 emissions.\n",
    "\n",
    "# 'Fuel Cost/Year' has slightly lower but still respectable train and test scores. it also provides useful information about the cost of fuel consumption, which is related to CO2 emissions.\n",
    "\n",
    "# Conclusions:\n",
    "# - Fuel-related variables ('Fuel Barrels/Year', 'Combined MPG', 'Fuel Cost/Year') are important predictors of CO2 emissions, which is consistent with expectations.\n",
    "# - Cylinders and Year have less influence on CO2 emissions compared to fuel-related variables."
   ]
  },
  {
   "cell_type": "markdown",
   "metadata": {},
   "source": [
    "## Bonus Challenge: Error Analysis"
   ]
  },
  {
   "cell_type": "markdown",
   "metadata": {},
   "source": [
    "I am suspicious about the last few parties I have thrown: it seems that the more people I invite the more people are unable to attend. To know if my hunch is supported by data, I have decided to do an analysis. I have collected my data in the table below, where X is the number of people I invited, and Y is the number of people who attended. \n",
    "\n",
    "|  X |  Y |\n",
    "|----|----|\n",
    "| 1  |  1 |\n",
    "| 3  |  2 |\n",
    "| 4  |  4 |\n",
    "| 6  |  4 |\n",
    "| 8  |  5 |\n",
    "| 9  |  7 |\n",
    "| 11 |  8 |\n",
    "| 14 |  13 |"
   ]
  },
  {
   "cell_type": "markdown",
   "metadata": {},
   "source": [
    "We want to know if the relationship modeled by the two random variables is linear or not, and therefore if it is appropriate to model it with a linear regression. \n",
    "First, build a dataframe with the data. "
   ]
  },
  {
   "cell_type": "code",
   "execution_count": 54,
   "metadata": {},
   "outputs": [
    {
     "data": {
      "text/html": [
       "<div>\n",
       "<style scoped>\n",
       "    .dataframe tbody tr th:only-of-type {\n",
       "        vertical-align: middle;\n",
       "    }\n",
       "\n",
       "    .dataframe tbody tr th {\n",
       "        vertical-align: top;\n",
       "    }\n",
       "\n",
       "    .dataframe thead th {\n",
       "        text-align: right;\n",
       "    }\n",
       "</style>\n",
       "<table border=\"1\" class=\"dataframe\">\n",
       "  <thead>\n",
       "    <tr style=\"text-align: right;\">\n",
       "      <th></th>\n",
       "      <th>people_invited</th>\n",
       "      <th>attendees</th>\n",
       "    </tr>\n",
       "  </thead>\n",
       "  <tbody>\n",
       "    <tr>\n",
       "      <th>0</th>\n",
       "      <td>1</td>\n",
       "      <td>1</td>\n",
       "    </tr>\n",
       "    <tr>\n",
       "      <th>1</th>\n",
       "      <td>3</td>\n",
       "      <td>2</td>\n",
       "    </tr>\n",
       "    <tr>\n",
       "      <th>2</th>\n",
       "      <td>4</td>\n",
       "      <td>4</td>\n",
       "    </tr>\n",
       "    <tr>\n",
       "      <th>3</th>\n",
       "      <td>6</td>\n",
       "      <td>4</td>\n",
       "    </tr>\n",
       "    <tr>\n",
       "      <th>4</th>\n",
       "      <td>8</td>\n",
       "      <td>5</td>\n",
       "    </tr>\n",
       "    <tr>\n",
       "      <th>5</th>\n",
       "      <td>9</td>\n",
       "      <td>7</td>\n",
       "    </tr>\n",
       "    <tr>\n",
       "      <th>6</th>\n",
       "      <td>11</td>\n",
       "      <td>8</td>\n",
       "    </tr>\n",
       "    <tr>\n",
       "      <th>7</th>\n",
       "      <td>14</td>\n",
       "      <td>13</td>\n",
       "    </tr>\n",
       "  </tbody>\n",
       "</table>\n",
       "</div>"
      ],
      "text/plain": [
       "   people_invited  attendees\n",
       "0               1          1\n",
       "1               3          2\n",
       "2               4          4\n",
       "3               6          4\n",
       "4               8          5\n",
       "5               9          7\n",
       "6              11          8\n",
       "7              14         13"
      ]
     },
     "metadata": {},
     "output_type": "display_data"
    }
   ],
   "source": [
    "party_data = pd.DataFrame({'people_invited': [1,3,4,6,8,9,11,14], 'attendees': [1,2,4,4,5,7,8,13]})\n",
    "display(party_data)"
   ]
  },
  {
   "cell_type": "markdown",
   "metadata": {},
   "source": [
    "Draw a dispersion diagram (scatter plot) for the data, and fit a regression line."
   ]
  },
  {
   "cell_type": "code",
   "execution_count": 57,
   "metadata": {},
   "outputs": [
    {
     "data": {
      "image/png": "[encoded data removed]",
      "text/plain": [
       "<Figure size 1000x600 with 1 Axes>"
      ]
     },
     "metadata": {},
     "output_type": "display_data"
    }
   ],
   "source": [
    "# Draw the scatter plot with regression line\n",
    "plt.figure(figsize=(10, 6))\n",
    "sns.regplot(x='people_invited', y='attendees', data=party_data, scatter=True, color='blue', marker='o')\n",
    "plt.title('People Invited vs Attendees with Regression Line')\n",
    "plt.xlabel('People Invited')\n",
    "plt.ylabel('Attendees')\n",
    "plt.grid(True)\n",
    "\n",
    "# Show the plot\n",
    "plt.show()"
   ]
  },
  {
   "cell_type": "markdown",
   "metadata": {},
   "source": [
    "What do you see? What does this plot tell you about the likely relationship between the variables? Print the results from your regression."
   ]
  },
  {
   "cell_type": "markdown",
   "metadata": {},
   "source": [
    "Answer: There appears to be a positive linear relationship between the number of people invited and the number of attendees. As the number of people invited increases, the number of attendees also tends to increase.\n",
    "\n"
   ]
  },
  {
   "cell_type": "code",
   "execution_count": 60,
   "metadata": {},
   "outputs": [
    {
     "name": "stdout",
     "output_type": "stream",
     "text": [
      "MSE Test: 0.4628531752390117\n",
      "R2 score Test: 0.9328116358524016\n"
     ]
    }
   ],
   "source": [
    "#### TRAINING WITH TEST DATA\n",
    "\n",
    "# Define the independent variable (X) and dependent variable (y) \n",
    "X = party_data[['people_invited']]\n",
    "y = party_data['attendees']\n",
    "\n",
    "# split the test\n",
    "X_train, X_test, y_train, y_test = train_test_split(X, y, test_size=0.3, random_state=42) #random state makes sure we have the same sample every time we run the code.\n",
    "\n",
    "# print(X_train.shape, X_test.shape, y_train.shape, y_test.shape) checking if we generated the right shapes\n",
    "\n",
    "# Initialize the Linear Regression object that will be fed later on\n",
    "model = LinearRegression()\n",
    "\n",
    "# Train the model using the training data\n",
    "model.fit(X_train, y_train)\n",
    "\n",
    "# Making predictions using the test data\n",
    "y_pred = model.predict(X_test)\n",
    "\n",
    "# Calculate MSE and R2 score\n",
    "mse = mean_squared_error(y_test,y_pred)\n",
    "r2 = r2_score(y_test,y_pred)\n",
    "\n",
    "mse_test = mean_squared_error(y_test,y_pred)\n",
    "r2_test = r2_score(y_test,y_pred)\n",
    "\n",
    "# Printing the results\n",
    "print(f'MSE Test: {mse_test}')\n",
    "print(f'R2 score Test: {r2_test}')"
   ]
  },
  {
   "cell_type": "code",
   "execution_count": 61,
   "metadata": {},
   "outputs": [
    {
     "name": "stdout",
     "output_type": "stream",
     "text": [
      "MSE Training: 1.2607594936708861\n",
      "R2 score Training: 0.8927925600619995\n"
     ]
    }
   ],
   "source": [
    "# PREDICTING ON TESTING DATA\n",
    "\n",
    "# Define the independent variable (X) and dependent variable (y) \n",
    "X = party_data[['people_invited']]\n",
    "y = party_data['attendees']\n",
    "\n",
    "# split the test\n",
    "X_train, X_test, y_train, y_test = train_test_split(X, y, test_size=0.3, random_state=42) #random state makes sure we have the same sample every time we run the code.\n",
    "\n",
    "# print(X_train.shape, X_test.shape, y_train.shape, y_test.shape) checking if we generated the right shapes\n",
    "\n",
    "# Initialize the Linear Regression object that will be fed later on\n",
    "model = LinearRegression()\n",
    "\n",
    "# Train the model using the training data\n",
    "model.fit(X_train, y_train)\n",
    "\n",
    "# Making predictions using the training data\n",
    "y_train_pred = model.predict(X_train)\n",
    "\n",
    "# Calculate MSE and R2 score\n",
    "mse_train = mean_squared_error(y_train,y_train_pred)\n",
    "r2_train = r2_score(y_train,y_train_pred)\n",
    "\n",
    "\n",
    "# Printing the results\n",
    "print(f'MSE Training: {mse_train}')\n",
    "print(f'R2 score Training: {r2_train}')\n"
   ]
  },
  {
   "cell_type": "code",
   "execution_count": 62,
   "metadata": {},
   "outputs": [
    {
     "name": "stdout",
     "output_type": "stream",
     "text": [
      "MSE Training: 1.2607594936708861\n",
      "MSE Test: 0.4628531752390117\n",
      "R2 score Training: 0.8927925600619995\n",
      "R2 score Test: 0.9328116358524016\n"
     ]
    }
   ],
   "source": [
    "print(f'MSE Training: {mse_train}')\n",
    "print(f'MSE Test: {mse_test}')\n",
    "print(f'R2 score Training: {r2_train}')\n",
    "print(f'R2 score Test: {r2_test}')"
   ]
  },
  {
   "cell_type": "markdown",
   "metadata": {},
   "source": [
    "Do you see any problematic points, or outliers, in your data? Remove these points and recalculate your regression. Print the new dispersion diagram with your new model and the results of your model. "
   ]
  },
  {
   "cell_type": "code",
   "execution_count": 63,
   "metadata": {},
   "outputs": [
    {
     "name": "stdout",
     "output_type": "stream",
     "text": [
      "Coefficients: [0.91139241]\n",
      "Intercept: -1.0379746835443049\n"
     ]
    }
   ],
   "source": [
    "# Print the coefficients\n",
    "print(\"Coefficients:\", model.coef_)\n",
    "\n",
    "# Print the intercept\n",
    "print(\"Intercept:\", model.intercept_)"
   ]
  },
  {
   "cell_type": "code",
   "execution_count": 64,
   "metadata": {},
   "outputs": [
    {
     "data": {
      "image/png": "[encoded data removed]",
      "text/plain": [
       "<Figure size 1000x600 with 1 Axes>"
      ]
     },
     "metadata": {},
     "output_type": "display_data"
    }
   ],
   "source": [
    "\n",
    "# Draw the scatter plot with regression line\n",
    "plt.figure(figsize=(10, 6))\n",
    "plt.scatter(party_data['people_invited'], party_data['attendees'], color='blue', marker='o')\n",
    "plt.title('People Invited vs Attendees')\n",
    "plt.xlabel('People Invited')\n",
    "plt.ylabel('Attendees')\n",
    "plt.grid(True)\n",
    "\n",
    "# Show the plot\n",
    "plt.show()"
   ]
  },
  {
   "cell_type": "markdown",
   "metadata": {},
   "source": [
    "What changed? Based on the results of the two models and your graphs, what can you say about the form of the data with the problematic point and without it?"
   ]
  },
  {
   "cell_type": "code",
   "execution_count": 66,
   "metadata": {},
   "outputs": [
    {
     "name": "stdout",
     "output_type": "stream",
     "text": [
      "Mean Squared Error (Test): 0.46728971962616833\n",
      "R² Score (Test): 0.9321676213445884\n"
     ]
    }
   ],
   "source": [
    "# Identify the index of the outlier data point\n",
    "outlier_index = party_data['people_invited'].idxmax()\n",
    "\n",
    "# Remove the outlier data point\n",
    "party_data_filtered = party_data.drop(index=outlier_index)\n",
    "\n",
    "# Split the data into predictor variable X and outcome variable y\n",
    "X = party_data_filtered[['people_invited']]\n",
    "y = party_data_filtered['attendees']\n",
    "\n",
    "# Split the filtered data into training and testing sets\n",
    "X_train, X_test, y_train, y_test = train_test_split(X, y, test_size=0.3, random_state=42)\n",
    "\n",
    "# Fit the linear regression model to the training data\n",
    "model = LinearRegression()\n",
    "model.fit(X_train, y_train)\n",
    "\n",
    "# Make predictions on the test data\n",
    "y_pred = model.predict(X_test)\n",
    "\n",
    "# Calculate mean squared error and R² score on the test data\n",
    "mse_test_no_outlier = mean_squared_error(y_test, y_pred)\n",
    "r2_test_no_outlier = r2_score(y_test, y_pred)\n",
    "\n",
    "# Print the results\n",
    "print(\"Mean Squared Error (no outlier):\", mse_test_no_outlier)\n",
    "print(\"R² Score (no outlier):\", r2_test_no_outlier)"
   ]
  },
  {
   "cell_type": "code",
   "execution_count": 68,
   "metadata": {},
   "outputs": [
    {
     "name": "stdout",
     "output_type": "stream",
     "text": [
      "MSE Training: 1.2607594936708861\n",
      "MSE Test: 0.46728971962616833\n",
      "MSE (no outlier): 0.46728971962616833\n",
      "R2 score Training: 0.8927925600619995\n",
      "R2 score Test: 0.9321676213445884\n",
      "R2 Score (no outlier): 0.9321676213445884\n"
     ]
    }
   ],
   "source": [
    "print(f'MSE Training: {mse_train}')\n",
    "print(f'MSE Test: {mse_test}')\n",
    "print(f\"MSE (no outlier):\", mse_test_no_outlier)\n",
    "print(f'R2 score Training: {r2_train}')\n",
    "print(f'R2 score Test: {r2_test}')\n",
    "print(\"R2 Score (no outlier):\", r2_test_no_outlier)\n"
   ]
  },
  {
   "cell_type": "markdown",
   "metadata": {},
   "source": [
    "removing the outlier has resulted in slight changes in the MSE and R2 score for the test set, while the scores for the training set remain unchanged. This indicates that the outlier had a more significant impact on the test set performance than on the training set performance.\n",
    "\n",
    "The model without the outlier has a high R2 score of 0.93, indicating that it explains about 93% of the variance in the test data. This suggests that the model generalizes well to new data points."
   ]
  },
  {
   "cell_type": "markdown",
   "metadata": {},
   "source": []
  }
 ],
 "metadata": {
  "kernelspec": {
   "display_name": "Python 3 (ipykernel)",
   "language": "python",
   "name": "python3"
  },
  "language_info": {
   "codemirror_mode": {
    "name": "ipython",
    "version": 3
   },
   "file_extension": ".py",
   "mimetype": "text/x-python",
   "name": "python",
   "nbconvert_exporter": "python",
   "pygments_lexer": "ipython3",
   "version": "3.11.5"
  }
 },
 "nbformat": 4,
 "nbformat_minor": 2
}
