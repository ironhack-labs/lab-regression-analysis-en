{
 "cells": [
  {
   "cell_type": "markdown",
   "metadata": {},
   "source": [
    "# Lab: Regression Analysis"
   ]
  },
  {
   "cell_type": "markdown",
   "metadata": {},
   "source": [
    "### Before you start:\n",
    "\n",
    "* Read the README.md file\n",
    "* Comment as much as you can and use the resources (README.md file) \n",
    "\n",
    "Happy learning!"
   ]
  },
  {
   "cell_type": "markdown",
   "metadata": {},
   "source": [
    "## Challenge 1\n",
    "I work at a coding bootcamp, and I have developed a theory that the younger my students are, the more often they are late to class. In order to test my hypothesis, I have collected some data in the following table:\n",
    "\n",
    "| StudentID | Age | Tardies |\n",
    "|--------|-----|------------|\n",
    "| 1      | 17  | 10         |\n",
    "| 2      | 51  | 1          |\n",
    "| 3      | 27  | 5          |\n",
    "| 4      | 21  | 9         |\n",
    "| 5      | 36  |  4         |\n",
    "| 6      | 48  |  2         |\n",
    "| 7      | 19  |  9         |\n",
    "| 8      | 26  | 6          |\n",
    "| 9      | 54  |  0         |\n",
    "| 10     | 30  |  3         |"
   ]
  },
  {
   "cell_type": "code",
   "execution_count": null,
   "metadata": {},
   "outputs": [],
   "source": [
    "import pandas as pd\n",
    "import numpy as np\n",
    "import plotly.express as px\n",
    "import statsmodels.formula.api as smf\n",
    "from sklearn.linear_model import LinearRegression\n",
    "import matplotlib.pyplot as plt\n",
    "import seaborn as sns"
   ]
  },
  {
   "cell_type": "markdown",
   "metadata": {},
   "source": [
    "Use this command to create a dataframe with the data provided in the table. \n",
    "~~~~\n",
    "student_data = pd.DataFrame({'Age': [17,51,27,21,36,48,19,26,54,30], 'Tardies': [10,1,5,9,4,2,9,6,0,3]})\n",
    "~~~~"
   ]
  },
  {
   "cell_type": "code",
   "execution_count": null,
   "metadata": {},
   "outputs": [],
   "source": [
    "student_data = pd.DataFrame({'Age': [17,51,27,21,36,48,19,26,54,30], 'Tardies': [10,1,5,9,4,2,9,6,0,3]})"
   ]
  },
  {
   "cell_type": "markdown",
   "metadata": {},
   "source": [
    "Draw a dispersion diagram (scatter plot) for the data."
   ]
  },
  {
   "cell_type": "code",
   "execution_count": null,
   "metadata": {},
   "outputs": [],
   "source": [
    "# Draws a dispersion diagram (scatterplot) for the data above.\n",
    "\n",
    "# Creates a scatter plot for the Pandas Dataframe created in the previous step.\n",
    "# The dataframe is called student_data, and consists of two columns.\n",
    "plt.figure(figsize=(8, 6))\n",
    "plt.scatter(student_data['Age'], student_data['Tardies'], color='blue', edgecolor='black')\n",
    "\n",
    "# Adds labels and title to the scatter plot\n",
    "plt.title('Scatter Plot: Age vs Tardies')\n",
    "plt.xlabel('Age')\n",
    "plt.ylabel('Tardies')\n",
    "\n",
    "# Shows the scatter plot\n",
    "plt.grid(True)\n",
    "plt.show()"
   ]
  },
  {
   "cell_type": "markdown",
   "metadata": {},
   "source": [
    "Do you see a trend? Can you make any hypotheses about the relationship between age and number of tardies?"
   ]
  },
  {
   "cell_type": "markdown",
   "metadata": {},
   "source": [
    "It seems as though the hypotheses stated by the author may be correct. The scatterplot shows that the older a person is, the fewer tardies the individual has."
   ]
  },
  {
   "cell_type": "markdown",
   "metadata": {},
   "source": [
    "Calculate the covariance and correlation of the variables in your plot. What is the difference between these two measures? Compare their values. What do they tell you in this case? Add your responses as comments after your code."
   ]
  },
  {
   "cell_type": "code",
   "execution_count": null,
   "metadata": {},
   "outputs": [],
   "source": [
    "# Calculates the Covariance and the Correlation for the student_data dataframe.\n",
    "import pandas as pd\n",
    "\n",
    "# Data to evaluate\n",
    "student_data = pd.DataFrame({\n",
    "    'Age': [17, 51, 27, 21, 36, 48, 19, 26, 54, 30],\n",
    "    'Tardies': [10, 1, 5, 9, 4, 2, 9, 6, 0, 3]\n",
    "})\n",
    "\n",
    "# Calculate and print covariance and correlation\n",
    "covariance = student_data['Age'].cov(student_data['Tardies'])\n",
    "correlation = student_data['Age'].corr(student_data['Tardies'])\n",
    "\n",
    "print(f\"Covariance: {covariance:.4f}\")\n",
    "print(f\"Correlation: {correlation:.4f}\")\n",
    "\n",
    "# Covariance measures how Age and Tardies change together, \n",
    "# but its value depends on the variables' scales. \n",
    "# Correlation standardizes this, showing the strength and direction \n",
    "# of the relationship between -1 (strong negative) and 1 (strong positive).\n",
    "# Here, the strong negative correlation (-0.94) suggests older students \n",
    "# tend to have fewer tardies."
   ]
  },
  {
   "cell_type": "markdown",
   "metadata": {},
   "source": [
    "Build a regression model for this data. What will be your outcome variable? What type of regression are you using? Add your responses as comments after your code."
   ]
  },
  {
   "cell_type": "code",
   "execution_count": null,
   "metadata": {},
   "outputs": [],
   "source": [
    "# Builds a regression model for the student_data dataframe. \n",
    "import pandas as pd\n",
    "import statsmodels.api as sm\n",
    "\n",
    "# Given data\n",
    "student_data = pd.DataFrame({\n",
    "    'Age': [17, 51, 27, 21, 36, 48, 19, 26, 54, 30],\n",
    "    'Tardies': [10, 1, 5, 9, 4, 2, 9, 6, 0, 3]\n",
    "})\n",
    "\n",
    "# Defines the outcome (dependent) and predictor (independent) variables\n",
    "X = student_data['Age']  # Predictor variable\n",
    "y = student_data['Tardies']  # Outcome variable\n",
    "\n",
    "# Adds a constant to the predictor variable for the intercept\n",
    "X = sm.add_constant(X)\n",
    "\n",
    "# Builds the regression model (OLS - ordinary least squares)\n",
    "results = sm.OLS(y, X).fit()  \n",
    "\n",
    "# Prints the regression results\n",
    "print(results.summary())\n",
    "\n",
    "# The predictor/independent variable is Age and the outcome/dependent is Tardies.\n",
    "# A simple linear regression using ordinary least squares (OLS) was used, minimizing\n",
    "# the sum of squared residuals. An intercept term was added so that the regression could have a non-zero \n",
    "# intercept. sm.OLS(y,X) and model.fit() were used to specify the model and fit the regression line to the data, respectively.\n",
    "# Lastly, a detailed summary of the regression was generated. "
   ]
  },
  {
   "cell_type": "markdown",
   "metadata": {},
   "source": [
    "Plot your regression model on your scatter plot."
   ]
  },
  {
   "cell_type": "code",
   "execution_count": null,
   "metadata": {},
   "outputs": [],
   "source": [
    "# Plots the regression model on the scatter plot.\n",
    "# As indicated previously, Age is the predictor/independent variable and Tardies is the outcome/dependent variable.\n",
    "\n",
    "import pandas as pd\n",
    "import numpy as np\n",
    "import matplotlib.pyplot as plt\n",
    "import statsmodels.api as sm\n",
    "\n",
    "# Given data\n",
    "student_data = pd.DataFrame({\n",
    "    'Age': [17, 51, 27, 21, 36, 48, 19, 26, 54, 30],\n",
    "    'Tardies': [10, 1, 5, 9, 4, 2, 9, 6, 0, 3]\n",
    "})\n",
    "\n",
    "# Defines the outcome (dependent) and predictor (independent) variables\n",
    "X = student_data['Age']  # Predictor variable\n",
    "y = student_data['Tardies']  # Outcome variable\n",
    "\n",
    "# Adds a constant to the predictor variable for the intercept\n",
    "X = sm.add_constant(X)\n",
    "\n",
    "# Builds the regression model (simple linear regression model with OLS, ordinary least squares.\n",
    "model = sm.OLS(y, X)  \n",
    "results = model.fit()\n",
    "\n",
    "# Predicts the values of Tardies based on the regression model\n",
    "predicted_tardies = results.predict(X)\n",
    "\n",
    "# Plotts the scatter plot\n",
    "plt.figure(figsize=(8, 6))\n",
    "plt.scatter(student_data['Age'], student_data['Tardies'], color='blue', edgecolor='black', label='Data Points')\n",
    "\n",
    "# Plots the regression line\n",
    "plt.plot(student_data['Age'], predicted_tardies, color='red', label='Regression Line')\n",
    "\n",
    "# Adds labels and title\n",
    "plt.title('Scatter Plot with Regression Line: Age vs Tardies')\n",
    "plt.xlabel('Age')\n",
    "plt.ylabel('Tardies')\n",
    "\n",
    "# Shows the legend\n",
    "plt.legend()\n",
    "\n",
    "# Shows the plot\n",
    "plt.grid(True)\n",
    "plt.show()\n",
    "\n",
    "# Age appears to be a significant predictor of Tardies. In other words, there is a strong relationship\n",
    "# between how old a student is and the number of tardies they have (r-squared = 0.88). There could be other factors\n",
    "# influencing tardiness, but age appears to be the largest one, and the one that explains most of the variability. Also,\n",
    "# the p-value is very small, and thus we are able to say we have sufficient evidence to reject the null hypothesis \n",
    "# (*age has no effect on Tardies*)."
   ]
  },
  {
   "cell_type": "markdown",
   "metadata": {},
   "source": [
    "Interpret the results of your model. What can conclusions can you draw from your model and how confident in these conclusions are you? Can we say that age is a good predictor of tardiness? Add your responses as comments after your code."
   ]
  },
  {
   "cell_type": "markdown",
   "metadata": {},
   "source": [
    "**Age** appears to be a significant predictor of **Tardies**. In other words, there is a strong relationship\n",
    "between how old a student is and the number of tardies they have (r-squared = 0.88). There could be other factors\n",
    "influencing tardiness, but age appears to be the largest one, and the one that explains most of the variability. Also,\n",
    "the p-value is very small, and thus we are able to say we have sufficient evidence to reject the null hypothesis (*age has no effect on Tardies*)."
   ]
  },
  {
   "cell_type": "markdown",
   "metadata": {},
   "source": [
    "## Challenge 2\n",
    "For the second part of this lab, we will use the vehicles.csv data set. This dataset includes the following variables: model, make, and energy efficiency standards, as well as each car's CO2 emissions. The goal of this exercise is to predict vehicles' CO2 emissions based on several independent variables. "
   ]
  },
  {
   "cell_type": "code",
   "execution_count": null,
   "metadata": {},
   "outputs": [],
   "source": [
    "# Import any libraries you may need & the data\n",
    "vehicles = pd.read_csv(\"/Users/sylviaperez-montero/Desktop/lab-regression-analysis-en-main/vehicles.csv\")"
   ]
  },
  {
   "cell_type": "markdown",
   "metadata": {},
   "source": [
    "Let's use the following variables for our analysis: Year, Cylinders, Fuel Barrels/Year, Combined MPG, and Fuel Cost/Year. We will use 'CO2 Emission Grams/Mile' as our outcome variable. \n",
    "\n",
    "Calculate the correlations between each of these variables and the outcome. Which variable do you think will be the most important in determining CO2 emissions? Which provides the least amount of helpful information for determining CO2 emissions? Add your responses as comments after your code."
   ]
  },
  {
   "cell_type": "code",
   "execution_count": null,
   "metadata": {},
   "outputs": [],
   "source": [
    "# Reads the vehicles.csv file and calculates the correlations between each of the variables. \n",
    "import pandas as pd\n",
    "import numpy as np\n",
    "\n",
    "# Load the data into a pandas DataFrame\n",
    "data = pd.read_csv(\"/Users/sylviaperez-montero/Desktop/lab-regression-analysis-en-main/vehicles.csv\")  \n",
    "\n",
    "# Select the relevant columns\n",
    "columns = ['Year', 'Cylinders', 'Fuel Barrels/Year', 'Combined MPG', 'Fuel Cost/Year', 'CO2 Emission Grams/Mile']\n",
    "df = data[columns]\n",
    "\n",
    "# Calculate the correlation matrix\n",
    "correlation_matrix = df.corr()\n",
    "\n",
    "# Print the correlation matrix\n",
    "print(correlation_matrix)\n",
    "\n",
    "# Print the correlations of each independent variable with the outcome variable\n",
    "print(\"\\nCorrelations with CO2 Emission Grams/Mile:\")\n",
    "print(correlation_matrix['CO2 Emission Grams/Mile'])\n",
    "\n",
    "# Based on the correlations, Fuel Barrels/Year appears to be the most important variable in determining CO2 emissions as it has\n",
    "# the highest absolute value correlation with CO2 Emission Grams/Mile. Year appears to be providing the least amount of helpful\n",
    "# information with respect to CO2 emissions. The number of cylinders appears to be lead to higher fuel consumption and CO2 emissions.\n",
    "# Combined MPG appears to have a strong negative correlation with CO2 emission, as its correlation coefficient is -0.93.\n",
    "# Fuel cost/Yr is also strongly correlated though not as much as fuel barrels per year; this may be because there are many external\n",
    "# factors that play into fuel prices.\n"
   ]
  },
  {
   "cell_type": "markdown",
   "metadata": {},
   "source": [
    "Build a regression model for this data. What type of regression are you using? Add your responses as comments after your code."
   ]
  },
  {
   "cell_type": "code",
   "execution_count": null,
   "metadata": {},
   "outputs": [],
   "source": [
    "# Reads the vehicles.csv file and creates a regression model for the variables.\n",
    "# An Ordinary Leasts Squares model is used, and the model is fit using model.fit().\n",
    "import pandas as pd\n",
    "import statsmodels.api as sm\n",
    "\n",
    "# Loads the data into a pandas DataFrame\n",
    "data = pd.read_csv(\"/Users/sylviaperez-montero/Desktop/lab-regression-analysis-en-main/vehicles.csv\") \n",
    "\n",
    "# Selects the relevant columns\n",
    "columns = ['Year', 'Cylinders', 'Fuel Barrels/Year', 'Combined MPG', 'Fuel Cost/Year', 'CO2 Emission Grams/Mile']\n",
    "df = data[columns]\n",
    "\n",
    "# Defines the independent and dependent variables\n",
    "X = df[['Year', 'Cylinders', 'Fuel Barrels/Year', 'Combined MPG', 'Fuel Cost/Year']]\n",
    "y = df['CO2 Emission Grams/Mile']\n",
    "\n",
    "# Adds a constant to the independent variables\n",
    "X = sm.add_constant(X)\n",
    "\n",
    "# Fits the multiple linear regression model\n",
    "model = sm.OLS(y, X).fit()\n",
    "\n",
    "# Prints the model summary\n",
    "print(model.summary())\n",
    "\n",
    "# Gets the coefficients\n",
    "coefficients = model.params\n",
    "\n",
    "print(\"\\nCoefficients:\")\n",
    "print(coefficients)\n",
    "\n",
    "# Gets the p-values\n",
    "p_values = model.pvalues\n"
   ]
  },
  {
   "cell_type": "markdown",
   "metadata": {},
   "source": [
    "Print your regression summary, and interpret the results. What are the most important varibles in your model and why? What can conclusions can you draw from your model and how confident in these conclusions are you? Add your responses as comments after your code."
   ]
  },
  {
   "cell_type": "code",
   "execution_count": null,
   "metadata": {},
   "outputs": [],
   "source": [
    "# Displays the results\n",
    "print(\"\\nP-values:\")\n",
    "print(p_values)\n",
    "\n",
    "# Upon reviewing the results of the OLS regression model generated, it becomes apparent that \n",
    "# all variables have a statistically significant relationship with CO2 emissions (much lower than a p-value of 0.05).\n",
    "# Important to keep in mind that correlation does not equal causation, reason for which further analysis would be warranted\n",
    "# to understand the direction and magnitude of the relationships between these variables and CO2 Emmission."
   ]
  },
  {
   "cell_type": "markdown",
   "metadata": {},
   "source": [
    "## Bonus Challenge: Error Analysis"
   ]
  },
  {
   "cell_type": "markdown",
   "metadata": {},
   "source": [
    "I am suspicious about the last few parties I have thrown: it seems that the more people I invite the more people are unable to attend. To know if my hunch is supported by data, I have decided to do an analysis. I have collected my data in the table below, where X is the number of people I invited, and Y is the number of people who attended. \n",
    "\n",
    "|  X |  Y |\n",
    "|----|----|\n",
    "| 1  |  1 |\n",
    "| 3  |  2 |\n",
    "| 4  |  4 |\n",
    "| 6  |  4 |\n",
    "| 8  |  5 |\n",
    "| 9  |  7 |\n",
    "| 11 |  8 |\n",
    "| 14 |  13 |"
   ]
  },
  {
   "cell_type": "markdown",
   "metadata": {},
   "source": [
    "We want to know if the relationship modeled by the two random variables is linear or not, and therefore if it is appropriate to model it with a linear regression. \n",
    "First, build a dataframe with the data. "
   ]
  },
  {
   "cell_type": "code",
   "execution_count": null,
   "metadata": {},
   "outputs": [],
   "source": [
    "# Builds a dataframe for the data provided.\n",
    "\n",
    "import matplotlib.pyplot as plt\n",
    "import numpy as np\n",
    "from scipy import stats\n",
    "\n",
    "# Data \n",
    "X = np.array([1, 3, 4, 6, 8, 9, 11, 14])  # Number of people invited\n",
    "Y = np.array([0, 1, 0, 2, 3, 2, 3, 1])  # Number of people that did not attend\n",
    "\n",
    "# Calculate the correlation coefficient\n",
    "correlation_coefficient, p_value = stats.pearsonr(X, Y)\n",
    "\n",
    "# Print the results\n",
    "print(f\"Correlation Coefficient: {correlation_coefficient:.3f}\")\n",
    "print(f\"P-value: {p_value:.3f}\")"
   ]
  },
  {
   "cell_type": "markdown",
   "metadata": {},
   "source": [
    "Draw a dispersion diagram (scatter plot) for the data, and fit a regression line."
   ]
  },
  {
   "cell_type": "code",
   "execution_count": null,
   "metadata": {},
   "outputs": [],
   "source": [
    "# Draws a dispersion diagram (scatter plot) for the data, and fits a regression line.\n",
    "\n",
    "# Creates a scatter plot\n",
    "plt.scatter(X, Y)\n",
    "plt.xlabel(\"Number of People Invited (X)\")\n",
    "plt.ylabel(\"Number of People That Did Not Attend (Y)\")\n",
    "plt.title(\"Relationship Between Invitations and Non-Attendance\")\n",
    "plt.show()\n",
    "\n",
    "# Calculates the regression line\n",
    "slope, intercept, r_value, p_value, std_err = stats.linregress(X, Y)\n",
    "line = slope * X + intercept\n",
    "\n",
    "# Plots the regression line\n",
    "plt.plot(X, line, color='red', label='Regression Line')\n",
    "plt.scatter(X, Y)\n",
    "plt.xlabel(\"Number of People Invited (X)\")\n",
    "plt.ylabel(\"Number of People That Did Not Attend (Y)\")\n",
    "plt.title(\"Relationship Between Invitations and Non-Attendance\")\n",
    "plt.legend()\n",
    "plt.show()"
   ]
  },
  {
   "cell_type": "markdown",
   "metadata": {},
   "source": [
    "What do you see? What does this plot tell you about the likely relationship between the variables? Print the results from your regression."
   ]
  },
  {
   "cell_type": "markdown",
   "metadata": {},
   "source": [
    "The correlation coefficient of 0.55 is positive but not very strong, and the p-value 0.157 is greater than\n",
    "0.05. Based on this, there appears to be somewhat of a positive relationship between the number of people invited and the number of people who are absent, and but it is not a significant one (it could be that this happened by chance).\n",
    "\n",
    "While there are only a few data points, the regression line appears to faintly move in the positive direction. Further analysis with a larger data set is recommended. Analysis about other factors that might influence attendance (ex. type of event, day of the week, target audience, etc.) is also recommended."
   ]
  },
  {
   "cell_type": "markdown",
   "metadata": {},
   "source": [
    "Do you see any problematic points, or outliers, in your data? Remove these points and recalculate your regression. Print the new dispersion diagram with your new model and the results of your model. "
   ]
  },
  {
   "cell_type": "code",
   "execution_count": null,
   "metadata": {},
   "outputs": [],
   "source": [
    "# Builds a dataframe for the data provided.\n",
    "\n",
    "import matplotlib.pyplot as plt\n",
    "import numpy as np\n",
    "from scipy import stats\n",
    "\n",
    "# Data \n",
    "X = np.array([1, 3, 6, 8, 9, 11])  # Number of people invited\n",
    "Y = np.array([0, 1, 2, 3, 2, 3])  # Number of people that did not attend\n",
    "\n",
    "# Calculate the correlation coefficient\n",
    "correlation_coefficient, p_value = stats.pearsonr(X, Y)\n",
    "\n",
    "# Print the results\n",
    "print(f\"Correlation Coefficient: {correlation_coefficient:.3f}\")\n",
    "print(f\"P-value: {p_value:.3f}\")\n",
    "\n",
    "# Create a scatter plot\n",
    "plt.scatter(X, Y)\n",
    "plt.xlabel(\"Number of People Invited (X)\")\n",
    "plt.ylabel(\"Number of People That Did Not Attend (Y)\")\n",
    "plt.title(\"Relationship Between Invitations and Non-Attendance\")\n",
    "plt.show()\n",
    "\n",
    "# Calculate the regression line\n",
    "slope, intercept, r_value, p_value, std_err = stats.linregress(X, Y)\n",
    "line = slope * X + intercept\n",
    "\n",
    "# Plot the regression line\n",
    "plt.plot(X, line, color='red', label='Regression Line')\n",
    "plt.scatter(X, Y)\n",
    "plt.xlabel(\"Number of People Invited (X)\")\n",
    "plt.ylabel(\"Number of People That Did Not Attend (Y)\")\n",
    "plt.title(\"Relationship Between Invitations and Non-Attendance\")\n",
    "plt.legend()\n",
    "plt.show()"
   ]
  },
  {
   "cell_type": "markdown",
   "metadata": {},
   "source": [
    "What changed? Based on the results of the two models and your graphs, what can you say about the form of the data with the problematic point and without it?"
   ]
  },
  {
   "cell_type": "markdown",
   "metadata": {},
   "source": [
    "Removing the (4,0) and (14,1) outlying datapoints resulted in a better fitting regression line. It also resulted in a stronger positive relationship, and a p-value less than 0.05. It now appears that it is a stronger, positive relationship, and that it is\n",
    "unlikely to have happened by chance."
   ]
  }
 ],
 "metadata": {
  "kernelspec": {
   "display_name": "Python 3 (ipykernel)",
   "language": "python",
   "name": "python3"
  },
  "language_info": {
   "codemirror_mode": {
    "name": "ipython",
    "version": 3
   },
   "file_extension": ".py",
   "mimetype": "text/x-python",
   "name": "python",
   "nbconvert_exporter": "python",
   "pygments_lexer": "ipython3",
   "version": "3.12.7"
  }
 },
 "nbformat": 4,
 "nbformat_minor": 4
}
