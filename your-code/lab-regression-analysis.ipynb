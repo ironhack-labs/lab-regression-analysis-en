{
 "cells": [
  {
   "cell_type": "markdown",
   "metadata": {},
   "source": [
    "# Lab: Regression Analysis"
   ]
  },
  {
   "cell_type": "markdown",
   "metadata": {},
   "source": [
    "### Before you start:\n",
    "\n",
    "* Read the README.md file\n",
    "* Comment as much as you can and use the resources (README.md file) \n",
    "\n",
    "Happy learning!"
   ]
  },
  {
   "cell_type": "markdown",
   "metadata": {},
   "source": [
    "## Challenge 1\n",
    "I work at a coding bootcamp, and I have developed a theory that the younger my students are, the more often they are late to class. In order to test my hypothesis, I have collected some data in the following table:\n",
    "\n",
    "| StudentID | Age | Tardies |\n",
    "|--------|-----|------------|\n",
    "| 1      | 17  | 10         |\n",
    "| 2      | 51  | 1          |\n",
    "| 3      | 27  | 5          |\n",
    "| 4      | 21  | 9         |\n",
    "| 5      | 36  |  4         |\n",
    "| 6      | 48  |  2         |\n",
    "| 7      | 19  |  9         |\n",
    "| 8      | 26  | 6          |\n",
    "| 9      | 54  |  0         |\n",
    "| 10     | 30  |  3         |"
   ]
  },
  {
   "cell_type": "code",
   "execution_count": 1,
   "metadata": {},
   "outputs": [],
   "source": [
    "import pandas as pd\n",
    "import numpy as np\n",
    "import plotly.express as px\n",
    "import statsmodels.formula.api as smf\n",
    "from sklearn.linear_model import LinearRegression\n",
    "import matplotlib.pyplot as plt\n",
    "import seaborn as sns"
   ]
  },
  {
   "cell_type": "markdown",
   "metadata": {},
   "source": [
    "Use this command to create a dataframe with the data provided in the table. \n",
    "~~~~\n",
    "student_data = pd.DataFrame({'Age': [17,51,27,21,36,48,19,26,54,30], 'Tardies': [10,1,5,9,4,2,9,6,0,3]})\n",
    "~~~~"
   ]
  },
  {
   "cell_type": "code",
   "execution_count": 3,
   "metadata": {},
   "outputs": [
    {
     "data": {
      "text/html": [
       "<div>\n",
       "<style scoped>\n",
       "    .dataframe tbody tr th:only-of-type {\n",
       "        vertical-align: middle;\n",
       "    }\n",
       "\n",
       "    .dataframe tbody tr th {\n",
       "        vertical-align: top;\n",
       "    }\n",
       "\n",
       "    .dataframe thead th {\n",
       "        text-align: right;\n",
       "    }\n",
       "</style>\n",
       "<table border=\"1\" class=\"dataframe\">\n",
       "  <thead>\n",
       "    <tr style=\"text-align: right;\">\n",
       "      <th></th>\n",
       "      <th>Age</th>\n",
       "      <th>Tardies</th>\n",
       "    </tr>\n",
       "  </thead>\n",
       "  <tbody>\n",
       "    <tr>\n",
       "      <th>0</th>\n",
       "      <td>17</td>\n",
       "      <td>10</td>\n",
       "    </tr>\n",
       "    <tr>\n",
       "      <th>1</th>\n",
       "      <td>51</td>\n",
       "      <td>1</td>\n",
       "    </tr>\n",
       "    <tr>\n",
       "      <th>2</th>\n",
       "      <td>27</td>\n",
       "      <td>5</td>\n",
       "    </tr>\n",
       "    <tr>\n",
       "      <th>3</th>\n",
       "      <td>21</td>\n",
       "      <td>9</td>\n",
       "    </tr>\n",
       "    <tr>\n",
       "      <th>4</th>\n",
       "      <td>36</td>\n",
       "      <td>4</td>\n",
       "    </tr>\n",
       "    <tr>\n",
       "      <th>5</th>\n",
       "      <td>48</td>\n",
       "      <td>2</td>\n",
       "    </tr>\n",
       "    <tr>\n",
       "      <th>6</th>\n",
       "      <td>19</td>\n",
       "      <td>9</td>\n",
       "    </tr>\n",
       "    <tr>\n",
       "      <th>7</th>\n",
       "      <td>26</td>\n",
       "      <td>6</td>\n",
       "    </tr>\n",
       "    <tr>\n",
       "      <th>8</th>\n",
       "      <td>54</td>\n",
       "      <td>0</td>\n",
       "    </tr>\n",
       "    <tr>\n",
       "      <th>9</th>\n",
       "      <td>30</td>\n",
       "      <td>3</td>\n",
       "    </tr>\n",
       "  </tbody>\n",
       "</table>\n",
       "</div>"
      ],
      "text/plain": [
       "   Age  Tardies\n",
       "0   17       10\n",
       "1   51        1\n",
       "2   27        5\n",
       "3   21        9\n",
       "4   36        4\n",
       "5   48        2\n",
       "6   19        9\n",
       "7   26        6\n",
       "8   54        0\n",
       "9   30        3"
      ]
     },
     "execution_count": 3,
     "metadata": {},
     "output_type": "execute_result"
    }
   ],
   "source": [
    "# Your code here. \n",
    "student_data = pd.DataFrame({'Age': [17,51,27,21,36,48,19,26,54,30], 'Tardies': [10,1,5,9,4,2,9,6,0,3]})\n",
    "student_data"
   ]
  },
  {
   "cell_type": "markdown",
   "metadata": {},
   "source": [
    "Draw a dispersion diagram (scatter plot) for the data."
   ]
  },
  {
   "cell_type": "code",
   "execution_count": 4,
   "metadata": {},
   "outputs": [
    {
     "data": {
      "image/png": "[encoded data removed]",
      "text/plain": [
       "<Figure size 640x480 with 1 Axes>"
      ]
     },
     "metadata": {},
     "output_type": "display_data"
    }
   ],
   "source": [
    "# Draw a scatter plot for the data\n",
    "sns.scatterplot(data=student_data, x='Age', y='Tardies')\n",
    "plt.show()"
   ]
  },
  {
   "cell_type": "markdown",
   "metadata": {},
   "source": [
    "Do you see a trend? Can you make any hypotheses about the relationship between age and number of tardies?"
   ]
  },
  {
   "cell_type": "markdown",
   "metadata": {},
   "source": [
    "> It seems that there is an inverse relationship between age and number of tardies. The younger the student, the more tardies they have.The points suggest that there is an almost linear relationship between the two variables (age and tardies)."
   ]
  },
  {
   "cell_type": "markdown",
   "metadata": {},
   "source": [
    "Calculate the covariance and correlation of the variables in your plot. What is the difference between these two measures? Compare their values. What do they tell you in this case? Add your responses as comments after your code."
   ]
  },
  {
   "cell_type": "code",
   "execution_count": 17,
   "metadata": {},
   "outputs": [
    {
     "data": {
      "text/plain": [
       "array([[187.65555556, -45.56666667],\n",
       "       [-45.56666667,  12.54444444]])"
      ]
     },
     "metadata": {},
     "output_type": "display_data"
    },
    {
     "data": {
      "text/plain": [
       "array([[ 1.        , -0.93916269],\n",
       "       [-0.93916269,  1.        ]])"
      ]
     },
     "metadata": {},
     "output_type": "display_data"
    },
    {
     "name": "stdout",
     "output_type": "stream",
     "text": [
      "Covariance: -45.56666666666666\n",
      "Correlation: -0.9391626886887122\n",
      "The covariance is negative, which means that the variables are inversely related. The correlation is also negative and close to -1, which confirms there is a linear relationship between the variables.\n"
     ]
    }
   ],
   "source": [
    "# Calculate covariance and correlation of the variables.\n",
    "covariance = np.cov(student_data['Age'], student_data['Tardies'])\n",
    "correlation = np.corrcoef(student_data['Age'], student_data['Tardies'])\n",
    "display(covariance)\n",
    "display(correlation)\n",
    "print(f'Covariance: {covariance[0][1]}')\n",
    "print(f'Correlation: {correlation[0][1]}')\n",
    "\n",
    "print(\"The covariance is negative, which means that the variables are inversely related. The correlation is also negative and close to -1, which confirms there is a linear relationship between the variables.\")"
   ]
  },
  {
   "cell_type": "markdown",
   "metadata": {},
   "source": [
    "Build a regression model for this data. What will be your outcome variable? What type of regression are you using? Add your responses as comments after your code."
   ]
  },
  {
   "cell_type": "code",
   "execution_count": 122,
   "metadata": {},
   "outputs": [
    {
     "name": "stdout",
     "output_type": "stream",
     "text": [
      "                            OLS Regression Results                            \n",
      "==============================================================================\n",
      "Dep. Variable:                Tardies   R-squared:                       0.882\n",
      "Model:                            OLS   Adj. R-squared:                  0.867\n",
      "Method:                 Least Squares   F-statistic:                     59.81\n",
      "Date:                Wed, 08 Jan 2025   Prob (F-statistic):           5.57e-05\n",
      "Time:                        18:51:04   Log-Likelihood:                -15.622\n",
      "No. Observations:                  10   AIC:                             35.24\n",
      "Df Residuals:                       8   BIC:                             35.85\n",
      "Df Model:                           1                                         \n",
      "Covariance Type:            nonrobust                                         \n",
      "==============================================================================\n",
      "                 coef    std err          t      P>|t|      [0.025      0.975]\n",
      "------------------------------------------------------------------------------\n",
      "Intercept     12.8888      1.111     11.605      0.000      10.328      15.450\n",
      "Age           -0.2428      0.031     -7.734      0.000      -0.315      -0.170\n",
      "==============================================================================\n",
      "Omnibus:                        3.949   Durbin-Watson:                   1.754\n",
      "Prob(Omnibus):                  0.139   Jarque-Bera (JB):                1.714\n",
      "Skew:                          -1.014   Prob(JB):                        0.424\n",
      "Kurtosis:                       3.069   Cond. No.                         96.4\n",
      "==============================================================================\n",
      "\n",
      "Notes:\n",
      "[1] Standard Errors assume that the covariance matrix of the errors is correctly specified.\n",
      "Intercept    12.888803\n",
      "Age          -0.242821\n",
      "dtype: float64\n"
     ]
    },
    {
     "name": "stderr",
     "output_type": "stream",
     "text": [
      "c:\\Users\\Natanael\\anaconda3\\Lib\\site-packages\\scipy\\stats\\_axis_nan_policy.py:531: UserWarning: kurtosistest only valid for n>=20 ... continuing anyway, n=10\n",
      "  res = hypotest_fun_out(*samples, **kwds)\n"
     ]
    },
    {
     "data": {
      "text/plain": [
       "'I used the OLS regression model from the statsmodels library to build a linear regression model. \\nThe model shows that the coefficient for the Age variable is -0.2428 and the intercept is 12.8888  \\nThe R-squared value is 0.8823, which means that 88.23% of the variance in the Tardies variable can \\nbe explained by the Age variable.'"
      ]
     },
     "execution_count": 122,
     "metadata": {},
     "output_type": "execute_result"
    }
   ],
   "source": [
    "# Build a linear regression model\n",
    "model = smf.ols(formula='Tardies ~ Age', data=student_data)\n",
    "results = model.fit()\n",
    "print(results.summary())\n",
    "print(results.params)\n",
    "\n",
    "'''I used the OLS regression model from the statsmodels library to build a linear regression model. \n",
    "The model shows that the coefficient for the Age variable is -0.2428 and the intercept is 12.8888  \n",
    "The R-squared value is 0.8823, which means that 88.23% of the variance in the Tardies variable can \n",
    "be explained by the Age variable.'''"
   ]
  },
  {
   "cell_type": "markdown",
   "metadata": {},
   "source": [
    "Plot your regression model on your scatter plot."
   ]
  },
  {
   "cell_type": "code",
   "execution_count": 58,
   "metadata": {},
   "outputs": [
    {
     "data": {
      "image/png": "[encoded data removed]",
      "text/plain": [
       "<Figure size 640x480 with 1 Axes>"
      ]
     },
     "metadata": {},
     "output_type": "display_data"
    },
    {
     "name": "stdout",
     "output_type": "stream",
     "text": [
      "12.888803363135764 -0.2428207709159807\n"
     ]
    }
   ],
   "source": [
    "x = student_data['Age']\n",
    "y = student_data['Tardies']\n",
    "\n",
    "a0, a1 = results.params\n",
    "plt.scatter(x, y, color='red')  # Scatter plot\n",
    "\n",
    "# Plot the regression line\n",
    "plt.plot([x.min(), x.max()], [a0 + a1 * x.min(), a0 + a1 * x.max()], alpha=0.8, color='blue')\n",
    "\n",
    "# Add pointed black lines to illustrate the errors\n",
    "for xi, yi in zip(x, y):\n",
    "    plt.plot([xi]*2, [yi, a0 + a1 * xi], \"k:\")\n",
    "\n",
    "# Optionally restrict the domain\n",
    "# plt.xlim(2, 9); plt.ylim(0, 20)\n",
    "\n",
    "plt.xlabel('Age')\n",
    "plt.ylabel('Tardies')\n",
    "plt.title('Regression Line and Errors')\n",
    "plt.show()\n",
    "\n",
    "print(a0, a1)"
   ]
  },
  {
   "cell_type": "markdown",
   "metadata": {},
   "source": [
    "Interpret the results of your model. What can conclusions can you draw from your model and how confident in these conclusions are you? Can we say that age is a good predictor of tardiness? Add your responses as comments after your code."
   ]
  },
  {
   "cell_type": "markdown",
   "metadata": {},
   "source": [
    "> The model indicates that there is a relationship between age and tardiness. The older the person, the less tardy they are. From the OSL, we obtained an R2 value of 0.88, which indicates that 88% of the variance in tardiness can be explained by age. The high value indicates that age is a good predictor of tardines, yet these results may not be accurate because the sample size is very small. Therefore, generalizing these results to the entire population may not be appropriate. More data is required to make a more accurate prediction."
   ]
  },
  {
   "cell_type": "markdown",
   "metadata": {},
   "source": [
    "### Extra practice with other libraries (sns and sklearn), not in the original lab"
   ]
  },
  {
   "cell_type": "code",
   "execution_count": 24,
   "metadata": {},
   "outputs": [
    {
     "data": {
      "image/png": "[encoded data removed]",
      "text/plain": [
       "<Figure size 640x480 with 1 Axes>"
      ]
     },
     "metadata": {},
     "output_type": "display_data"
    }
   ],
   "source": [
    "# Plot the regression line on scatter plot using sns for learning purposes\n",
    "sns.regplot(data=student_data, x='Age', y='Tardies', ci=None, line_kws={'color':'red'})\n",
    "# plot title\n",
    "plt.title('Tardies vs Age (sns.regplot)')\n",
    "plt.show()"
   ]
  },
  {
   "cell_type": "code",
   "execution_count": 34,
   "metadata": {},
   "outputs": [
    {
     "name": "stdout",
     "output_type": "stream",
     "text": [
      "Intercept: 12.888803363135768\n",
      "Coefficient: [-0.24282077]\n"
     ]
    },
    {
     "data": {
      "image/png": "[encoded data removed]",
      "text/plain": [
       "<Figure size 640x480 with 1 Axes>"
      ]
     },
     "metadata": {},
     "output_type": "display_data"
    }
   ],
   "source": [
    "# Build linear regresion model and graph it using sklearn for learning purposes\n",
    "\n",
    "lm = LinearRegression()\n",
    "lm.fit(student_data[['Age']], student_data['Tardies'])\n",
    "print(f'Intercept: {lm.intercept_}')\n",
    "print(f'Coefficient: {lm.coef_}')\n",
    "\n",
    "age_min, age_max = student_data['Age'].min(), student_data['Age'].max()\n",
    "\n",
    "age_model = np.arange(age_min, age_max).reshape(-1, 1)                  # Create a range of ages\n",
    "tardies_model = [lm.intercept_ + lm.coef_ * age for age in age_model]   # Calculate the tardies using the model\n",
    "\n",
    "plt.scatter(student_data['Age'], student_data['Tardies'])               # Scatter plot\n",
    "plt.plot(age_model, tardies_model, color='red')                         # Regression line\n",
    "plt.title('Tardies vs Age (sklearn Linear Regression)')\n",
    "plt.show()"
   ]
  },
  {
   "cell_type": "markdown",
   "metadata": {},
   "source": [
    "## Challenge 2\n",
    "For the second part of this lab, we will use the vehicles.csv data set. You can find a copy of the dataset in the git hub folder. This dataset includes variables related to vehicle characteristics, including the model, make, and energy efficiency standards, as well as each car's CO2 emissions. As discussed in class the goal of this exercise is to predict vehicles' CO2 emissions based on several independent variables. "
   ]
  },
  {
   "cell_type": "code",
   "execution_count": 59,
   "metadata": {},
   "outputs": [],
   "source": [
    "# Import any libraries you may need & the data\n",
    "vehicles = pd.read_csv(\"../vehicles.csv\")"
   ]
  },
  {
   "cell_type": "code",
   "execution_count": 61,
   "metadata": {},
   "outputs": [
    {
     "data": {
      "text/html": [
       "<div>\n",
       "<style scoped>\n",
       "    .dataframe tbody tr th:only-of-type {\n",
       "        vertical-align: middle;\n",
       "    }\n",
       "\n",
       "    .dataframe tbody tr th {\n",
       "        vertical-align: top;\n",
       "    }\n",
       "\n",
       "    .dataframe thead th {\n",
       "        text-align: right;\n",
       "    }\n",
       "</style>\n",
       "<table border=\"1\" class=\"dataframe\">\n",
       "  <thead>\n",
       "    <tr style=\"text-align: right;\">\n",
       "      <th></th>\n",
       "      <th>Make</th>\n",
       "      <th>Model</th>\n",
       "      <th>Year</th>\n",
       "      <th>Engine Displacement</th>\n",
       "      <th>Cylinders</th>\n",
       "      <th>Transmission</th>\n",
       "      <th>Drivetrain</th>\n",
       "      <th>Vehicle Class</th>\n",
       "      <th>Fuel Type</th>\n",
       "      <th>Fuel Barrels/Year</th>\n",
       "      <th>City MPG</th>\n",
       "      <th>Highway MPG</th>\n",
       "      <th>Combined MPG</th>\n",
       "      <th>CO2 Emission Grams/Mile</th>\n",
       "      <th>Fuel Cost/Year</th>\n",
       "    </tr>\n",
       "  </thead>\n",
       "  <tbody>\n",
       "    <tr>\n",
       "      <th>0</th>\n",
       "      <td>AM General</td>\n",
       "      <td>DJ Po Vehicle 2WD</td>\n",
       "      <td>1984</td>\n",
       "      <td>2.5</td>\n",
       "      <td>4.0</td>\n",
       "      <td>Automatic 3-spd</td>\n",
       "      <td>2-Wheel Drive</td>\n",
       "      <td>Special Purpose Vehicle 2WD</td>\n",
       "      <td>Regular</td>\n",
       "      <td>19.388824</td>\n",
       "      <td>18</td>\n",
       "      <td>17</td>\n",
       "      <td>17</td>\n",
       "      <td>522.764706</td>\n",
       "      <td>1950</td>\n",
       "    </tr>\n",
       "    <tr>\n",
       "      <th>1</th>\n",
       "      <td>AM General</td>\n",
       "      <td>FJ8c Post Office</td>\n",
       "      <td>1984</td>\n",
       "      <td>4.2</td>\n",
       "      <td>6.0</td>\n",
       "      <td>Automatic 3-spd</td>\n",
       "      <td>2-Wheel Drive</td>\n",
       "      <td>Special Purpose Vehicle 2WD</td>\n",
       "      <td>Regular</td>\n",
       "      <td>25.354615</td>\n",
       "      <td>13</td>\n",
       "      <td>13</td>\n",
       "      <td>13</td>\n",
       "      <td>683.615385</td>\n",
       "      <td>2550</td>\n",
       "    </tr>\n",
       "    <tr>\n",
       "      <th>2</th>\n",
       "      <td>AM General</td>\n",
       "      <td>Post Office DJ5 2WD</td>\n",
       "      <td>1985</td>\n",
       "      <td>2.5</td>\n",
       "      <td>4.0</td>\n",
       "      <td>Automatic 3-spd</td>\n",
       "      <td>Rear-Wheel Drive</td>\n",
       "      <td>Special Purpose Vehicle 2WD</td>\n",
       "      <td>Regular</td>\n",
       "      <td>20.600625</td>\n",
       "      <td>16</td>\n",
       "      <td>17</td>\n",
       "      <td>16</td>\n",
       "      <td>555.437500</td>\n",
       "      <td>2100</td>\n",
       "    </tr>\n",
       "    <tr>\n",
       "      <th>3</th>\n",
       "      <td>AM General</td>\n",
       "      <td>Post Office DJ8 2WD</td>\n",
       "      <td>1985</td>\n",
       "      <td>4.2</td>\n",
       "      <td>6.0</td>\n",
       "      <td>Automatic 3-spd</td>\n",
       "      <td>Rear-Wheel Drive</td>\n",
       "      <td>Special Purpose Vehicle 2WD</td>\n",
       "      <td>Regular</td>\n",
       "      <td>25.354615</td>\n",
       "      <td>13</td>\n",
       "      <td>13</td>\n",
       "      <td>13</td>\n",
       "      <td>683.615385</td>\n",
       "      <td>2550</td>\n",
       "    </tr>\n",
       "    <tr>\n",
       "      <th>4</th>\n",
       "      <td>ASC Incorporated</td>\n",
       "      <td>GNX</td>\n",
       "      <td>1987</td>\n",
       "      <td>3.8</td>\n",
       "      <td>6.0</td>\n",
       "      <td>Automatic 4-spd</td>\n",
       "      <td>Rear-Wheel Drive</td>\n",
       "      <td>Midsize Cars</td>\n",
       "      <td>Premium</td>\n",
       "      <td>20.600625</td>\n",
       "      <td>14</td>\n",
       "      <td>21</td>\n",
       "      <td>16</td>\n",
       "      <td>555.437500</td>\n",
       "      <td>2550</td>\n",
       "    </tr>\n",
       "  </tbody>\n",
       "</table>\n",
       "</div>"
      ],
      "text/plain": [
       "               Make                Model  Year  Engine Displacement  \\\n",
       "0        AM General    DJ Po Vehicle 2WD  1984                  2.5   \n",
       "1        AM General     FJ8c Post Office  1984                  4.2   \n",
       "2        AM General  Post Office DJ5 2WD  1985                  2.5   \n",
       "3        AM General  Post Office DJ8 2WD  1985                  4.2   \n",
       "4  ASC Incorporated                  GNX  1987                  3.8   \n",
       "\n",
       "   Cylinders     Transmission        Drivetrain                Vehicle Class  \\\n",
       "0        4.0  Automatic 3-spd     2-Wheel Drive  Special Purpose Vehicle 2WD   \n",
       "1        6.0  Automatic 3-spd     2-Wheel Drive  Special Purpose Vehicle 2WD   \n",
       "2        4.0  Automatic 3-spd  Rear-Wheel Drive  Special Purpose Vehicle 2WD   \n",
       "3        6.0  Automatic 3-spd  Rear-Wheel Drive  Special Purpose Vehicle 2WD   \n",
       "4        6.0  Automatic 4-spd  Rear-Wheel Drive                 Midsize Cars   \n",
       "\n",
       "  Fuel Type  Fuel Barrels/Year  City MPG  Highway MPG  Combined MPG  \\\n",
       "0   Regular          19.388824        18           17            17   \n",
       "1   Regular          25.354615        13           13            13   \n",
       "2   Regular          20.600625        16           17            16   \n",
       "3   Regular          25.354615        13           13            13   \n",
       "4   Premium          20.600625        14           21            16   \n",
       "\n",
       "   CO2 Emission Grams/Mile  Fuel Cost/Year  \n",
       "0               522.764706            1950  \n",
       "1               683.615385            2550  \n",
       "2               555.437500            2100  \n",
       "3               683.615385            2550  \n",
       "4               555.437500            2550  "
      ]
     },
     "metadata": {},
     "output_type": "display_data"
    },
    {
     "data": {
      "text/html": [
       "<div>\n",
       "<style scoped>\n",
       "    .dataframe tbody tr th:only-of-type {\n",
       "        vertical-align: middle;\n",
       "    }\n",
       "\n",
       "    .dataframe tbody tr th {\n",
       "        vertical-align: top;\n",
       "    }\n",
       "\n",
       "    .dataframe thead th {\n",
       "        text-align: right;\n",
       "    }\n",
       "</style>\n",
       "<table border=\"1\" class=\"dataframe\">\n",
       "  <thead>\n",
       "    <tr style=\"text-align: right;\">\n",
       "      <th></th>\n",
       "      <th>Year</th>\n",
       "      <th>Engine Displacement</th>\n",
       "      <th>Cylinders</th>\n",
       "      <th>Fuel Barrels/Year</th>\n",
       "      <th>City MPG</th>\n",
       "      <th>Highway MPG</th>\n",
       "      <th>Combined MPG</th>\n",
       "      <th>CO2 Emission Grams/Mile</th>\n",
       "      <th>Fuel Cost/Year</th>\n",
       "    </tr>\n",
       "  </thead>\n",
       "  <tbody>\n",
       "    <tr>\n",
       "      <th>count</th>\n",
       "      <td>35952.00000</td>\n",
       "      <td>35952.000000</td>\n",
       "      <td>35952.000000</td>\n",
       "      <td>35952.000000</td>\n",
       "      <td>35952.000000</td>\n",
       "      <td>35952.000000</td>\n",
       "      <td>35952.000000</td>\n",
       "      <td>35952.000000</td>\n",
       "      <td>35952.000000</td>\n",
       "    </tr>\n",
       "    <tr>\n",
       "      <th>mean</th>\n",
       "      <td>2000.71640</td>\n",
       "      <td>3.338493</td>\n",
       "      <td>5.765076</td>\n",
       "      <td>17.609056</td>\n",
       "      <td>17.646139</td>\n",
       "      <td>23.880646</td>\n",
       "      <td>19.929322</td>\n",
       "      <td>475.316339</td>\n",
       "      <td>1892.598465</td>\n",
       "    </tr>\n",
       "    <tr>\n",
       "      <th>std</th>\n",
       "      <td>10.08529</td>\n",
       "      <td>1.359395</td>\n",
       "      <td>1.755268</td>\n",
       "      <td>4.467283</td>\n",
       "      <td>4.769349</td>\n",
       "      <td>5.890876</td>\n",
       "      <td>5.112409</td>\n",
       "      <td>119.060773</td>\n",
       "      <td>506.958627</td>\n",
       "    </tr>\n",
       "    <tr>\n",
       "      <th>min</th>\n",
       "      <td>1984.00000</td>\n",
       "      <td>0.600000</td>\n",
       "      <td>2.000000</td>\n",
       "      <td>0.060000</td>\n",
       "      <td>6.000000</td>\n",
       "      <td>9.000000</td>\n",
       "      <td>7.000000</td>\n",
       "      <td>37.000000</td>\n",
       "      <td>600.000000</td>\n",
       "    </tr>\n",
       "    <tr>\n",
       "      <th>25%</th>\n",
       "      <td>1991.00000</td>\n",
       "      <td>2.200000</td>\n",
       "      <td>4.000000</td>\n",
       "      <td>14.699423</td>\n",
       "      <td>15.000000</td>\n",
       "      <td>20.000000</td>\n",
       "      <td>16.000000</td>\n",
       "      <td>395.000000</td>\n",
       "      <td>1500.000000</td>\n",
       "    </tr>\n",
       "    <tr>\n",
       "      <th>50%</th>\n",
       "      <td>2001.00000</td>\n",
       "      <td>3.000000</td>\n",
       "      <td>6.000000</td>\n",
       "      <td>17.347895</td>\n",
       "      <td>17.000000</td>\n",
       "      <td>24.000000</td>\n",
       "      <td>19.000000</td>\n",
       "      <td>467.736842</td>\n",
       "      <td>1850.000000</td>\n",
       "    </tr>\n",
       "    <tr>\n",
       "      <th>75%</th>\n",
       "      <td>2010.00000</td>\n",
       "      <td>4.300000</td>\n",
       "      <td>6.000000</td>\n",
       "      <td>20.600625</td>\n",
       "      <td>20.000000</td>\n",
       "      <td>27.000000</td>\n",
       "      <td>23.000000</td>\n",
       "      <td>555.437500</td>\n",
       "      <td>2200.000000</td>\n",
       "    </tr>\n",
       "    <tr>\n",
       "      <th>max</th>\n",
       "      <td>2017.00000</td>\n",
       "      <td>8.400000</td>\n",
       "      <td>16.000000</td>\n",
       "      <td>47.087143</td>\n",
       "      <td>58.000000</td>\n",
       "      <td>61.000000</td>\n",
       "      <td>56.000000</td>\n",
       "      <td>1269.571429</td>\n",
       "      <td>5800.000000</td>\n",
       "    </tr>\n",
       "  </tbody>\n",
       "</table>\n",
       "</div>"
      ],
      "text/plain": [
       "              Year  Engine Displacement     Cylinders  Fuel Barrels/Year  \\\n",
       "count  35952.00000         35952.000000  35952.000000       35952.000000   \n",
       "mean    2000.71640             3.338493      5.765076          17.609056   \n",
       "std       10.08529             1.359395      1.755268           4.467283   \n",
       "min     1984.00000             0.600000      2.000000           0.060000   \n",
       "25%     1991.00000             2.200000      4.000000          14.699423   \n",
       "50%     2001.00000             3.000000      6.000000          17.347895   \n",
       "75%     2010.00000             4.300000      6.000000          20.600625   \n",
       "max     2017.00000             8.400000     16.000000          47.087143   \n",
       "\n",
       "           City MPG   Highway MPG  Combined MPG  CO2 Emission Grams/Mile  \\\n",
       "count  35952.000000  35952.000000  35952.000000             35952.000000   \n",
       "mean      17.646139     23.880646     19.929322               475.316339   \n",
       "std        4.769349      5.890876      5.112409               119.060773   \n",
       "min        6.000000      9.000000      7.000000                37.000000   \n",
       "25%       15.000000     20.000000     16.000000               395.000000   \n",
       "50%       17.000000     24.000000     19.000000               467.736842   \n",
       "75%       20.000000     27.000000     23.000000               555.437500   \n",
       "max       58.000000     61.000000     56.000000              1269.571429   \n",
       "\n",
       "       Fuel Cost/Year  \n",
       "count    35952.000000  \n",
       "mean      1892.598465  \n",
       "std        506.958627  \n",
       "min        600.000000  \n",
       "25%       1500.000000  \n",
       "50%       1850.000000  \n",
       "75%       2200.000000  \n",
       "max       5800.000000  "
      ]
     },
     "metadata": {},
     "output_type": "display_data"
    },
    {
     "name": "stdout",
     "output_type": "stream",
     "text": [
      "<class 'pandas.core.frame.DataFrame'>\n",
      "RangeIndex: 35952 entries, 0 to 35951\n",
      "Data columns (total 15 columns):\n",
      " #   Column                   Non-Null Count  Dtype  \n",
      "---  ------                   --------------  -----  \n",
      " 0   Make                     35952 non-null  object \n",
      " 1   Model                    35952 non-null  object \n",
      " 2   Year                     35952 non-null  int64  \n",
      " 3   Engine Displacement      35952 non-null  float64\n",
      " 4   Cylinders                35952 non-null  float64\n",
      " 5   Transmission             35952 non-null  object \n",
      " 6   Drivetrain               35952 non-null  object \n",
      " 7   Vehicle Class            35952 non-null  object \n",
      " 8   Fuel Type                35952 non-null  object \n",
      " 9   Fuel Barrels/Year        35952 non-null  float64\n",
      " 10  City MPG                 35952 non-null  int64  \n",
      " 11  Highway MPG              35952 non-null  int64  \n",
      " 12  Combined MPG             35952 non-null  int64  \n",
      " 13  CO2 Emission Grams/Mile  35952 non-null  float64\n",
      " 14  Fuel Cost/Year           35952 non-null  int64  \n",
      "dtypes: float64(4), int64(5), object(6)\n",
      "memory usage: 4.1+ MB\n"
     ]
    }
   ],
   "source": [
    "display(vehicles.head())\n",
    "display(vehicles.describe())\n",
    "vehicles.info()"
   ]
  },
  {
   "cell_type": "markdown",
   "metadata": {},
   "source": [
    "Let's use the following variables for our analysis: Year, Cylinders, Fuel Barrels/Year, Combined MPG, and Fuel Cost/Year. We will use 'CO2 Emission Grams/Mile' as our outcome variable. \n",
    "\n",
    "Calculate the correlations between each of these variables and the outcome. Which variable do you think will be the most important in determining CO2 emissions? Which provides the least amount of helpful information for determining CO2 emissions? Add your responses as comments after your code."
   ]
  },
  {
   "cell_type": "code",
   "execution_count": 83,
   "metadata": {},
   "outputs": [
    {
     "data": {
      "text/plain": [
       "Year                -0.222300\n",
       "Cylinders            0.752393\n",
       "Fuel Barrels/Year    0.986189\n",
       "Combined MPG        -0.926229\n",
       "Fuel Cost/Year       0.930865\n",
       "dtype: float64"
      ]
     },
     "metadata": {},
     "output_type": "display_data"
    },
    {
     "data": {
      "text/plain": [
       "\" I think the variables that will be the most important in determining CO2 emissions are 'Fuel Barrels/Year', 'Fuel Cost/Year, and probably 'Combined MPG'. \\nMy guess is that the other variables will not provide too much information\""
      ]
     },
     "execution_count": 83,
     "metadata": {},
     "output_type": "execute_result"
    }
   ],
   "source": [
    "# Your code here.\n",
    "\n",
    "cars = vehicles[['Year', 'Cylinders', 'Fuel Barrels/Year', 'Combined MPG', 'Fuel Cost/Year']]\n",
    "co2 = vehicles['CO2 Emission Grams/Mile']\n",
    "\n",
    "# Calculate the correlations between each of the variables and the CO2 emissions\n",
    "correlations = cars.corrwith(co2) # the same result as np.corrcoef\n",
    "display(correlations)\n",
    "\n",
    "''' I think the variables that will be the most important in determining CO2 emissions are 'Fuel Barrels/Year', 'Fuel Cost/Year, and probably 'Combined MPG'. \n",
    "My guess is that the other variables will not provide too much information'''"
   ]
  },
  {
   "cell_type": "markdown",
   "metadata": {},
   "source": [
    "Build a regression model for this data. What type of regression are you using? Add your responses as comments after your code."
   ]
  },
  {
   "cell_type": "code",
   "execution_count": 135,
   "metadata": {},
   "outputs": [
    {
     "data": {
      "text/plain": [
       "'\\nI used the OLS regression model from the statsmodels library to build a linear regression model.\\nSince the model has multiple independent variables, I added a constant to the independent variables \\nmatrix to account for the intercept, and the model does not give us a line, but a hyperplane, since all\\nvariables are used to predict the CO2 emissions.'"
      ]
     },
     "execution_count": 135,
     "metadata": {},
     "output_type": "execute_result"
    }
   ],
   "source": [
    "import statsmodels.api as sm\n",
    "\n",
    "# Add a constant to the independent variables matrix (for the intercept)\n",
    "X = sm.add_constant(cars)\n",
    "\n",
    "# Fit the OLS regression model\n",
    "model = sm.OLS(co2, X).fit()\n",
    "\n",
    "'''\n",
    "I used the OLS regression model from the statsmodels library to build a linear regression model.\n",
    "Since the model has multiple independent variables, I added a constant to the independent variables \n",
    "matrix to account for the intercept, and the model does not give us a line, but a hyperplane, since all\n",
    "variables are used to predict the CO2 emissions.'''"
   ]
  },
  {
   "cell_type": "markdown",
   "metadata": {},
   "source": [
    "Print your regression summary, and interpret the results. What are the most important varibles in your model and why? What can conclusions can you draw from your model and how confident in these conclusions are you? Add your responses as comments after your code."
   ]
  },
  {
   "cell_type": "code",
   "execution_count": 133,
   "metadata": {},
   "outputs": [
    {
     "name": "stdout",
     "output_type": "stream",
     "text": [
      "                               OLS Regression Results                              \n",
      "===================================================================================\n",
      "Dep. Variable:     CO2 Emission Grams/Mile   R-squared:                       0.981\n",
      "Model:                                 OLS   Adj. R-squared:                  0.981\n",
      "Method:                      Least Squares   F-statistic:                 3.687e+05\n",
      "Date:                     Wed, 08 Jan 2025   Prob (F-statistic):               0.00\n",
      "Time:                             19:00:09   Log-Likelihood:            -1.5173e+05\n",
      "No. Observations:                    35952   AIC:                         3.035e+05\n",
      "Df Residuals:                        35946   BIC:                         3.035e+05\n",
      "Df Model:                                5                                         \n",
      "Covariance Type:                 nonrobust                                         \n",
      "=====================================================================================\n",
      "                        coef    std err          t      P>|t|      [0.025      0.975]\n",
      "-------------------------------------------------------------------------------------\n",
      "const               769.8883     19.392     39.702      0.000     731.880     807.897\n",
      "Year                 -0.3206      0.010    -33.060      0.000      -0.340      -0.302\n",
      "Cylinders             1.8788      0.083     22.598      0.000       1.716       2.042\n",
      "Fuel Barrels/Year    19.0529      0.061    311.600      0.000      18.933      19.173\n",
      "Combined MPG         -3.0404      0.042    -71.645      0.000      -3.124      -2.957\n",
      "Fuel Cost/Year        0.0323      0.000     67.025      0.000       0.031       0.033\n",
      "==============================================================================\n",
      "Omnibus:                    71055.645   Durbin-Watson:                   0.747\n",
      "Prob(Omnibus):                  0.000   Jarque-Bera (JB):        246941260.782\n",
      "Skew:                          15.902   Prob(JB):                         0.00\n",
      "Kurtosis:                     407.766   Cond. No.                     6.20e+05\n",
      "==============================================================================\n",
      "\n",
      "Notes:\n",
      "[1] Standard Errors assume that the covariance matrix of the errors is correctly specified.\n",
      "[2] The condition number is large, 6.2e+05. This might indicate that there are\n",
      "strong multicollinearity or other numerical problems.\n"
     ]
    }
   ],
   "source": [
    "# Your code here.\n",
    "print(model.summary())"
   ]
  },
  {
   "cell_type": "markdown",
   "metadata": {},
   "source": [
    "> The regression model indicates that the most important variable in determining CO2 emissions is Fuel Barrels/Year. This is because it has the highest coefficient value. The R2 value of 0.98 indicates that 98% of the variance in CO2 emissions can be explained by the independent variables. The high R2 value suggests that the model is a good fit for the data. However, the high R2 value may also indicate overfitting. Therefore, it is important to test the model on new data to determine its accuracy.\n",
    ">\n",
    "> We can use the coefficients in the summary to get the equation of the hyperplane. The coefficients\n",
    ">\n",
    "> <div align = \"center\">\n",
    "> \n",
    "> | Variable            | Coefficient  |\n",
    "> |---------------------:|:--------------|\n",
    "> | const               | 769.8883     |\n",
    "> | Year                | -0.3206      |\n",
    "> | Cylinders           | 1.8788       |\n",
    "> | Fuel Barrels/Year   | 19.0529      |\n",
    "> | Combined MPG        | -3.0404      |\n",
    "> | Fuel Cost/Year      | 0.0323       |\n",
    "> \n",
    "> </div>\n",
    ">\n",
    "> give us the equation\n",
    "> $$ y = 769.8883 - 0.3206 \\times \\text{Year} + 1.8788 \\times \\text{Cylinders} + 19.0529 \\times \\text{Fuel Barrels/Year} - 3.0404 \\times \\text{Combined MPG} + 0.0323 \\times \\text{Fuel Cost/Year} $$"
   ]
  },
  {
   "cell_type": "markdown",
   "metadata": {},
   "source": [
    "## Bonus Challenge: Error Analysis"
   ]
  },
  {
   "cell_type": "markdown",
   "metadata": {},
   "source": [
    "I am suspicious about the last few parties I have thrown: it seems that the more people I invite the more people are unable to attend. To know if my hunch is supported by data, I have decided to do an analysis. I have collected my data in the table below, where X is the number of people I invited, and Y is the number of people who attended. \n",
    "\n",
    "|  X |  Y |\n",
    "|----|----|\n",
    "| 1  |  1 |\n",
    "| 3  |  2 |\n",
    "| 4  |  4 |\n",
    "| 6  |  4 |\n",
    "| 8  |  5 |\n",
    "| 9  |  7 |\n",
    "| 11 |  8 |\n",
    "| 14 |  13 |"
   ]
  },
  {
   "cell_type": "markdown",
   "metadata": {},
   "source": [
    "We want to know if the relationship modeled by the two random variables is linear or not, and therefore if it is appropriate to model it with a linear regression. \n",
    "First, build a dataframe with the data. "
   ]
  },
  {
   "cell_type": "code",
   "execution_count": 22,
   "metadata": {},
   "outputs": [
    {
     "data": {
      "text/plain": [
       "(8, 2)"
      ]
     },
     "metadata": {},
     "output_type": "display_data"
    },
    {
     "data": {
      "text/html": [
       "<div>\n",
       "<style scoped>\n",
       "    .dataframe tbody tr th:only-of-type {\n",
       "        vertical-align: middle;\n",
       "    }\n",
       "\n",
       "    .dataframe tbody tr th {\n",
       "        vertical-align: top;\n",
       "    }\n",
       "\n",
       "    .dataframe thead th {\n",
       "        text-align: right;\n",
       "    }\n",
       "</style>\n",
       "<table border=\"1\" class=\"dataframe\">\n",
       "  <thead>\n",
       "    <tr style=\"text-align: right;\">\n",
       "      <th></th>\n",
       "      <th>Invited</th>\n",
       "      <th>Attended</th>\n",
       "    </tr>\n",
       "  </thead>\n",
       "  <tbody>\n",
       "    <tr>\n",
       "      <th>0</th>\n",
       "      <td>1</td>\n",
       "      <td>1</td>\n",
       "    </tr>\n",
       "    <tr>\n",
       "      <th>1</th>\n",
       "      <td>3</td>\n",
       "      <td>2</td>\n",
       "    </tr>\n",
       "    <tr>\n",
       "      <th>2</th>\n",
       "      <td>4</td>\n",
       "      <td>4</td>\n",
       "    </tr>\n",
       "    <tr>\n",
       "      <th>3</th>\n",
       "      <td>6</td>\n",
       "      <td>4</td>\n",
       "    </tr>\n",
       "    <tr>\n",
       "      <th>4</th>\n",
       "      <td>8</td>\n",
       "      <td>5</td>\n",
       "    </tr>\n",
       "    <tr>\n",
       "      <th>5</th>\n",
       "      <td>9</td>\n",
       "      <td>7</td>\n",
       "    </tr>\n",
       "    <tr>\n",
       "      <th>6</th>\n",
       "      <td>11</td>\n",
       "      <td>8</td>\n",
       "    </tr>\n",
       "    <tr>\n",
       "      <th>7</th>\n",
       "      <td>14</td>\n",
       "      <td>13</td>\n",
       "    </tr>\n",
       "  </tbody>\n",
       "</table>\n",
       "</div>"
      ],
      "text/plain": [
       "   Invited  Attended\n",
       "0        1         1\n",
       "1        3         2\n",
       "2        4         4\n",
       "3        6         4\n",
       "4        8         5\n",
       "5        9         7\n",
       "6       11         8\n",
       "7       14        13"
      ]
     },
     "execution_count": 22,
     "metadata": {},
     "output_type": "execute_result"
    }
   ],
   "source": [
    "# Your code here.\n",
    "import pandas as pd\n",
    "df = pd.DataFrame({'Invited': [1,3,4,6,8,9,11,14], 'Attended': [1,2,4,4,5,7,8,13]})\n",
    "display(df.shape)\n",
    "df.head(15)"
   ]
  },
  {
   "cell_type": "markdown",
   "metadata": {},
   "source": [
    "Draw a dispersion diagram (scatter plot) for the data, and fit a regression line."
   ]
  },
  {
   "cell_type": "code",
   "execution_count": 19,
   "metadata": {},
   "outputs": [
    {
     "data": {
      "image/png": "[encoded data removed]",
      "text/plain": [
       "<Figure size 640x480 with 1 Axes>"
      ]
     },
     "metadata": {},
     "output_type": "display_data"
    }
   ],
   "source": [
    "# Your code here.\n",
    "import matplotlib.pyplot as plt\n",
    "import seaborn as sns\n",
    "\n",
    "# scater plot the points\n",
    "sns.scatterplot(data=df, x='Invited', y='Attended')\n",
    "plt.show()"
   ]
  },
  {
   "cell_type": "code",
   "execution_count": 20,
   "metadata": {},
   "outputs": [
    {
     "name": "stdout",
     "output_type": "stream",
     "text": [
      "Covariance: 16.0\n",
      "Correlation: 0.9652303546573691\n",
      "                            OLS Regression Results                            \n",
      "==============================================================================\n",
      "Dep. Variable:               Attended   R-squared:                       0.932\n",
      "Model:                            OLS   Adj. R-squared:                  0.920\n",
      "Method:                 Least Squares   F-statistic:                     81.81\n",
      "Date:                Thu, 09 Jan 2025   Prob (F-statistic):           0.000102\n",
      "Time:                        14:51:58   Log-Likelihood:                -10.800\n",
      "No. Observations:                   8   AIC:                             25.60\n",
      "Df Residuals:                       6   BIC:                             25.76\n",
      "Df Model:                           1                                         \n",
      "Covariance Type:            nonrobust                                         \n",
      "==============================================================================\n",
      "                 coef    std err          t      P>|t|      [0.025      0.975]\n",
      "------------------------------------------------------------------------------\n",
      "Intercept     -0.4394      0.759     -0.579      0.584      -2.297       1.418\n",
      "Invited        0.8485      0.094      9.045      0.000       0.619       1.078\n",
      "==============================================================================\n",
      "Omnibus:                        0.556   Durbin-Watson:                   1.867\n",
      "Prob(Omnibus):                  0.757   Jarque-Bera (JB):                0.514\n",
      "Skew:                           0.261   Prob(JB):                        0.773\n",
      "Kurtosis:                       1.873   Cond. No.                         16.3\n",
      "==============================================================================\n",
      "\n",
      "Notes:\n",
      "[1] Standard Errors assume that the covariance matrix of the errors is correctly specified.\n"
     ]
    },
    {
     "name": "stderr",
     "output_type": "stream",
     "text": [
      "c:\\Users\\Natanael\\anaconda3\\Lib\\site-packages\\scipy\\stats\\_axis_nan_policy.py:531: UserWarning: kurtosistest only valid for n>=20 ... continuing anyway, n=8\n",
      "  res = hypotest_fun_out(*samples, **kwds)\n"
     ]
    },
    {
     "data": {
      "image/png": "[encoded data removed]",
      "text/plain": [
       "<Figure size 640x480 with 1 Axes>"
      ]
     },
     "metadata": {},
     "output_type": "display_data"
    }
   ],
   "source": [
    "import numpy as np\n",
    "import statsmodels.formula.api as smf\n",
    "\n",
    "# Calculate covariance and correlation of the variables.\n",
    "covariance = np.cov(df['Invited'], df['Attended'])\n",
    "correlation = np.corrcoef(df['Invited'], df['Attended'])\n",
    "print(f'Covariance: {covariance[0][1]}')\n",
    "print(f'Correlation: {correlation[0][1]}')\n",
    "\n",
    "# Build a linear regression model\n",
    "model = smf.ols(formula='Attended ~ Invited', data=df)\n",
    "results = model.fit()\n",
    "print(results.summary())\n",
    "\n",
    "# Plot the regression line and scatter plot\n",
    "x = df['Invited']\n",
    "y = df['Attended']\n",
    "\n",
    "a0, a1 = results.params\n",
    "plt.scatter(x, y, color='red')  # Scatter plot\n",
    "\n",
    "# Plot the regression line\n",
    "plt.plot([x.min(), x.max()], [a0 + a1 * x.min(), a0 + a1 * x.max()], alpha=0.8, color='blue')\n",
    "\n",
    "# Add pointed black lines to illustrate the errors\n",
    "for xi, yi in zip(x, y):\n",
    "    plt.plot([xi]*2, [yi, a0 + a1 * xi], \"k:\")\n",
    "plt.xlabel('Invited')\n",
    "plt.ylabel('Attended')\n",
    "plt.title('Regression Line and Errors')\n",
    "plt.show()"
   ]
  },
  {
   "cell_type": "markdown",
   "metadata": {},
   "source": [
    "What do you see? What does this plot tell you about the likely relationship between the variables? Print the results from your regression."
   ]
  },
  {
   "cell_type": "markdown",
   "metadata": {},
   "source": [
    "> The plot suggests that there is a linear relationship between the number of people invited and the number of people who attend. The regression model indicates that the relationship is linear. The R2 value of 0.93 indicates that 93% of the variance in the number of people who attend can be explained by the number of people invited. The high R2 value suggests that the model is a good fit for the data."
   ]
  },
  {
   "cell_type": "markdown",
   "metadata": {},
   "source": [
    "Do you see any problematic points, or outliers, in your data? Remove these points and recalculate your regression. Print the new dispersion diagram with your new model and the results of your model. "
   ]
  },
  {
   "cell_type": "code",
   "execution_count": 25,
   "metadata": {},
   "outputs": [
    {
     "data": {
      "text/plain": [
       "(7, 2)"
      ]
     },
     "metadata": {},
     "output_type": "display_data"
    },
    {
     "name": "stdout",
     "output_type": "stream",
     "text": [
      "Covariance: 8.666666666666666\n",
      "Correlation: 0.9712781168250859\n",
      "                            OLS Regression Results                            \n",
      "==============================================================================\n",
      "Dep. Variable:               Attended   R-squared:                       0.943\n",
      "Model:                            OLS   Adj. R-squared:                  0.932\n",
      "Method:                 Least Squares   F-statistic:                     83.31\n",
      "Date:                Thu, 09 Jan 2025   Prob (F-statistic):           0.000264\n",
      "Time:                        14:55:03   Log-Likelihood:                -5.7771\n",
      "No. Observations:                   7   AIC:                             15.55\n",
      "Df Residuals:                       5   BIC:                             15.45\n",
      "Df Model:                           1                                         \n",
      "Covariance Type:            nonrobust                                         \n",
      "==============================================================================\n",
      "                 coef    std err          t      P>|t|      [0.025      0.975]\n",
      "------------------------------------------------------------------------------\n",
      "Intercept      0.3233      0.513      0.630      0.556      -0.996       1.642\n",
      "Invited        0.6842      0.075      9.127      0.000       0.492       0.877\n",
      "==============================================================================\n",
      "Omnibus:                          nan   Durbin-Watson:                   2.689\n",
      "Prob(Omnibus):                    nan   Jarque-Bera (JB):                0.379\n",
      "Skew:                           0.284   Prob(JB):                        0.827\n",
      "Kurtosis:                       2.012   Cond. No.                         14.5\n",
      "==============================================================================\n",
      "\n",
      "Notes:\n",
      "[1] Standard Errors assume that the covariance matrix of the errors is correctly specified.\n"
     ]
    },
    {
     "name": "stderr",
     "output_type": "stream",
     "text": [
      "c:\\Users\\Natanael\\anaconda3\\Lib\\site-packages\\statsmodels\\stats\\stattools.py:74: ValueWarning: omni_normtest is not valid with less than 8 observations; 7 samples were given.\n",
      "  warn(\"omni_normtest is not valid with less than 8 observations; %i \"\n"
     ]
    },
    {
     "data": {
      "image/png": "[encoded data removed]",
      "text/plain": [
       "<Figure size 640x480 with 1 Axes>"
      ]
     },
     "metadata": {},
     "output_type": "display_data"
    }
   ],
   "source": [
    "# Remove last datapoint\n",
    "df2 = df[:-1]\n",
    "display(df2.shape)\n",
    "\n",
    "covariance = np.cov(df2['Invited'], df2['Attended'])\n",
    "correlation = np.corrcoef(df2['Invited'], df2['Attended'])\n",
    "print(f'Covariance: {covariance[0][1]}')\n",
    "print(f'Correlation: {correlation[0][1]}')\n",
    "\n",
    "# Build a linear regression model\n",
    "model = smf.ols(formula='Attended ~ Invited', data=df2)\n",
    "results = model.fit()\n",
    "print(results.summary())\n",
    "\n",
    "# Plot the regression line and scatter plot\n",
    "x = df2['Invited']\n",
    "y = df2['Attended']\n",
    "\n",
    "a0, a1 = results.params\n",
    "plt.scatter(x, y, color='red')  # Scatter plot\n",
    "\n",
    "# Plot the regression line\n",
    "plt.plot([x.min(), x.max()], [a0 + a1 * x.min(), a0 + a1 * x.max()], alpha=0.8, color='blue')\n",
    "\n",
    "# Add pointed black lines to illustrate the errors\n",
    "for xi, yi in zip(x, y):\n",
    "    plt.plot([xi]*2, [yi, a0 + a1 * xi], \"k:\")\n",
    "plt.xlabel('Invited')\n",
    "plt.ylabel('Attended')\n",
    "plt.title('Regression Line and Errors')\n",
    "plt.show()\n"
   ]
  },
  {
   "cell_type": "markdown",
   "metadata": {},
   "source": [
    "What changed? Based on the results of the two models and your graphs, what can you say about the form of the data with the problematic point and without it?"
   ]
  },
  {
   "cell_type": "markdown",
   "metadata": {},
   "source": [
    "> Removing the problematic point gave us a sligtly larger R2 (0.943), and the datapoints are closer to the regression line (that is, the errors are smaller, also confirmed with the \"std error\" value in the summary). The coefficient values also changed, but the general trend of the data remains the same."
   ]
  }
 ],
 "metadata": {
  "kernelspec": {
   "display_name": "base",
   "language": "python",
   "name": "python3"
  },
  "language_info": {
   "codemirror_mode": {
    "name": "ipython",
    "version": 3
   },
   "file_extension": ".py",
   "mimetype": "text/x-python",
   "name": "python",
   "nbconvert_exporter": "python",
   "pygments_lexer": "ipython3",
   "version": "3.12.7"
  }
 },
 "nbformat": 4,
 "nbformat_minor": 2
}
