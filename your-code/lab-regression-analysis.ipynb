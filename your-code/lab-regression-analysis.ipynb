{
 "cells": [
  {
   "cell_type": "markdown",
   "metadata": {},
   "source": [
    "# Lab: Regression Analysis"
   ]
  },
  {
   "cell_type": "markdown",
   "metadata": {},
   "source": [
    "### Before you start:\n",
    "\n",
    "* Read the README.md file\n",
    "* Comment as much as you can and use the resources (README.md file) \n",
    "\n",
    "Happy learning!"
   ]
  },
  {
   "cell_type": "markdown",
   "metadata": {},
   "source": [
    "## Challenge 1\n",
    "I work at a coding bootcamp, and I have developed a theory that the younger my students are, the more often they are late to class. In order to test my hypothesis, I have collected some data in the following table:\n",
    "\n",
    "| StudentID | Age | Tardies |\n",
    "|--------|-----|------------|\n",
    "| 1      | 17  | 10         |\n",
    "| 2      | 51  | 1          |\n",
    "| 3      | 27  | 5          |\n",
    "| 4      | 21  | 9         |\n",
    "| 5      | 36  |  4         |\n",
    "| 6      | 48  |  2         |\n",
    "| 7      | 19  |  9         |\n",
    "| 8      | 26  | 6          |\n",
    "| 9      | 54  |  0         |\n",
    "| 10     | 30  |  3         |"
   ]
  },
  {
   "cell_type": "code",
   "execution_count": 39,
   "metadata": {},
   "outputs": [],
   "source": [
    "import pandas as pd\n",
    "import numpy as np\n",
    "import plotly.express as px\n",
    "import statsmodels.formula.api as smf\n",
    "from sklearn.linear_model import LinearRegression\n",
    "import matplotlib.pyplot as plt\n",
    "import seaborn as sns\n",
    "from sklearn.model_selection import train_test_split\n"
   ]
  },
  {
   "cell_type": "markdown",
   "metadata": {},
   "source": [
    "Use this command to create a dataframe with the data provided in the table. \n",
    "~~~~\n",
    "student_data = pd.DataFrame({'Age': [17,51,27,21,36,48,19,26,54,30], 'Tardies': [10,1,5,9,4,2,9,6,0,3]})\n",
    "~~~~"
   ]
  },
  {
   "cell_type": "code",
   "execution_count": 40,
   "metadata": {},
   "outputs": [],
   "source": [
    "student_data = pd.DataFrame({'Age': [17,51,27,21,36,48,19,26,54,30], 'Tardies': [10,1,5,9,4,2,9,6,0,3]})\n"
   ]
  },
  {
   "cell_type": "markdown",
   "metadata": {},
   "source": [
    "Draw a dispersion diagram (scatter plot) for the data."
   ]
  },
  {
   "cell_type": "code",
   "execution_count": 41,
   "metadata": {},
   "outputs": [
    {
     "data": {
      "text/plain": [
       "<Axes: xlabel='Age', ylabel='Tardies'>"
      ]
     },
     "execution_count": 41,
     "metadata": {},
     "output_type": "execute_result"
    },
    {
     "data": {
      "image/png": "[encoded data removed]",
      "text/plain": [
       "<Figure size 640x480 with 1 Axes>"
      ]
     },
     "metadata": {},
     "output_type": "display_data"
    }
   ],
   "source": [
    "sns.scatterplot(student_data, x='Age', y='Tardies')"
   ]
  },
  {
   "cell_type": "markdown",
   "metadata": {},
   "source": [
    "Do you see a trend? Can you make any hypotheses about the relationship between age and number of tardies?"
   ]
  },
  {
   "cell_type": "markdown",
   "metadata": {},
   "source": [
    "# We can observe a linear trend where as 'Age' increases, the number of 'Tardies' decreases"
   ]
  },
  {
   "cell_type": "markdown",
   "metadata": {},
   "source": [
    "Calculate the covariance and correlation of the variables in your plot. What is the difference between these two measures? Compare their values. What do they tell you in this case? Add your responses as comments after your code."
   ]
  },
  {
   "cell_type": "code",
   "execution_count": 42,
   "metadata": {},
   "outputs": [
    {
     "name": "stdout",
     "output_type": "stream",
     "text": [
      "Covariance Matrix:\n",
      "                 Age    Tardies\n",
      "Age      187.655556 -45.566667\n",
      "Tardies  -45.566667  12.544444\n",
      "\n",
      "Correlation Matrix:\n",
      "               Age   Tardies\n",
      "Age      1.000000 -0.939163\n",
      "Tardies -0.939163  1.000000\n"
     ]
    }
   ],
   "source": [
    "# 1. Calculate Covariance\n",
    "covariance = student_data.cov()\n",
    "print(\"Covariance Matrix:\\n\", covariance)\n",
    "\n",
    "# 2. Calculate Correlation\n",
    "correlation = student_data.corr()\n",
    "print(\"\\nCorrelation Matrix:\\n\", correlation)\n",
    "\n"
   ]
  },
  {
   "cell_type": "markdown",
   "metadata": {},
   "source": [
    "Build a regression model for this data. What will be your outcome variable? What type of regression are you using? Add your responses as comments after your code."
   ]
  },
  {
   "cell_type": "code",
   "execution_count": 43,
   "metadata": {},
   "outputs": [
    {
     "name": "stdout",
     "output_type": "stream",
     "text": [
      "(10, 1) (8, 1) (2, 1)\n",
      "(10,) (8,) (2,)\n",
      "13.147112202412726 [-0.24970642]\n",
      "[[17]\n",
      " [51]\n",
      " [27]\n",
      " [21]\n",
      " [36]\n",
      " [48]\n",
      " [19]\n",
      " [26]\n",
      " [54]\n",
      " [30]]\n",
      "[10  1  5  9  4  2  9  6  0  3]\n"
     ]
    }
   ],
   "source": [
    "# We are going to implement a Linear Regression Model, since we only have 2 variables, and the plot seems to imply a linear correlation between both variables\n",
    "\n",
    "lm = LinearRegression()\n",
    "X = student_data['Age'].values.reshape(-1, 1)\n",
    "y = student_data['Tardies'].values # the value of the variable we want to compare\n",
    "\n",
    "# Split in train and test sets\n",
    "X_train, X_test, y_train, y_test = train_test_split(X, y, test_size=.2)\n",
    "\n",
    "# Check train and test sizes\n",
    "print(X.shape, X_train.shape, X_test.shape)\n",
    "print(y.shape, y_train.shape, y_test.shape)\n",
    "\n",
    "# Perform the fitting\n",
    "lm.fit(X_train, y_train)\n",
    "\n",
    "# Print coefs\n",
    "print(lm.intercept_, lm.coef_)\n",
    "\n",
    "print(X)\n",
    "print(y)\n"
   ]
  },
  {
   "cell_type": "markdown",
   "metadata": {},
   "source": [
    "Plot your regression model on your scatter plot."
   ]
  },
  {
   "cell_type": "code",
   "execution_count": 44,
   "metadata": {},
   "outputs": [
    {
     "name": "stdout",
     "output_type": "stream",
     "text": [
      "Score:\n",
      "0.850164930648632 0.9698731325085547\n",
      "MSE:\n",
      "1.6083858225685916 0.2711418074230084\n"
     ]
    },
    {
     "data": {
      "image/png": "[encoded data removed]",
      "text/plain": [
       "<Figure size 640x480 with 1 Axes>"
      ]
     },
     "metadata": {},
     "output_type": "display_data"
    }
   ],
   "source": [
    "y_train_pred = lm.predict(X_train)\n",
    "\n",
    "plt.plot(X_train, y_train, \"o\", alpha=.5)\n",
    "plt.plot(X_test, y_test, \"o\", alpha=.5)\n",
    "plt.plot(X_train, y_train_pred, \"r\")\n",
    "\n",
    "# Compute Score for training and testing sets \n",
    "# Best possible score is 1.0, lower values are worse.\n",
    "print('Score:')\n",
    "print(lm.score(X_train, y_train), lm.score(X_test, y_test))\n",
    "\n",
    "# Compute MSE for training and testing sets \n",
    "y_train_pred = lm.predict(X_train)\n",
    "y_test_pred = lm.predict(X_test)\n",
    "\n",
    "mse_train = np.mean((y_train_pred - y_train)**2)\n",
    "mse_test = np.mean((y_test_pred - y_test)**2)\n",
    "print('MSE:')\n",
    "print(mse_train, mse_test)"
   ]
  },
  {
   "cell_type": "markdown",
   "metadata": {},
   "source": [
    "Interpret the results of your model. What can conclusions can you draw from your model and how confident in these conclusions are you? Can we say that age is a good predictor of tardiness? Add your responses as comments after your code."
   ]
  },
  {
   "cell_type": "markdown",
   "metadata": {},
   "source": [
    "By plotting the data and the prediction model, we can conclude that our Regression Model is accurate, with some error as always. As students get older, their tardiness decreases."
   ]
  },
  {
   "cell_type": "markdown",
   "metadata": {},
   "source": [
    "## Challenge 2\n",
    "For the second part of this lab, we will use the vehicles.csv data set. You can find a copy of the dataset in the git hub folder. This dataset includes variables related to vehicle characteristics, including the model, make, and energy efficiency standards, as well as each car's CO2 emissions. As discussed in class the goal of this exercise is to predict vehicles' CO2 emissions based on several independent variables. "
   ]
  },
  {
   "cell_type": "code",
   "execution_count": 53,
   "metadata": {},
   "outputs": [
    {
     "data": {
      "text/plain": [
       "Make                        object\n",
       "Model                       object\n",
       "Year                         int64\n",
       "Engine Displacement        float64\n",
       "Cylinders                  float64\n",
       "Transmission                object\n",
       "Drivetrain                  object\n",
       "Vehicle Class               object\n",
       "Fuel Type                   object\n",
       "Fuel Barrels/Year          float64\n",
       "City MPG                     int64\n",
       "Highway MPG                  int64\n",
       "Combined MPG                 int64\n",
       "CO2 Emission Grams/Mile    float64\n",
       "Fuel Cost/Year               int64\n",
       "dtype: object"
      ]
     },
     "execution_count": 53,
     "metadata": {},
     "output_type": "execute_result"
    }
   ],
   "source": [
    "# Import any libraries you may need & the data\n",
    "vehicles = pd.read_csv(\"../vehicles.csv\")\n",
    "vehicles.dtypes"
   ]
  },
  {
   "cell_type": "code",
   "execution_count": null,
   "metadata": {},
   "outputs": [],
   "source": [
    "for\n",
    "# 2. Calculate Correlation\n",
    "correlation = student_data.corr()\n",
    "print(\"\\nCorrelation Matrix:\\n\", correlation)"
   ]
  },
  {
   "cell_type": "markdown",
   "metadata": {},
   "source": [
    "Let's use the following variables for our analysis: Year, Cylinders, Fuel Barrels/Year, Combined MPG, and Fuel Cost/Year. We will use 'CO2 Emission Grams/Mile' as our outcome variable. \n",
    "\n",
    "Calculate the correlations between each of these variables and the outcome. Which variable do you think will be the most important in determining CO2 emissions? Which provides the least amount of helpful information for determining CO2 emissions? Add your responses as comments after your code."
   ]
  },
  {
   "cell_type": "code",
   "execution_count": 57,
   "metadata": {},
   "outputs": [
    {
     "name": "stdout",
     "output_type": "stream",
     "text": [
      "             Feature  Train Score  Test Score     Train MSE      Test MSE\n",
      "0               Year     0.049882    0.047530  13427.836565  13661.724017\n",
      "1          Cylinders     0.567161    0.561843   6117.232589   6284.684192\n",
      "2  Fuel Barrels/Year     0.975133    0.962428    351.438294    538.907501\n",
      "3       Combined MPG     0.858258    0.856472   2003.208083   2058.685038\n",
      "4     Fuel Cost/Year     0.866066    0.868243   1892.865362   1889.856434\n"
     ]
    }
   ],
   "source": [
    "# Define X and y\n",
    "X = vehicles[['Year', 'Cylinders', 'Fuel Barrels/Year', 'Combined MPG','Fuel Cost/Year']]  # Select features (all columns except 'PRICE')\n",
    "y = vehicles['CO2 Emission Grams/Mile']  # Target variable\n",
    "\n",
    "\n",
    "\n",
    "# Split data into training and testing sets\n",
    "X_train, X_test, y_train, y_test = train_test_split(X, y, test_size=0.2)\n",
    "\n",
    "from sklearn.metrics import mean_squared_error\n",
    "\n",
    "n_features = len(X_train.columns)  # Get number of features from training data (more reliable)\n",
    "\n",
    "scores = []\n",
    "\n",
    "\n",
    "for i in range(n_features):\n",
    "    # Select feature by name (assuming column names are informative)\n",
    "    feat_name = X_train.columns[i]  # Use training data for column names\n",
    "    feat1_train = X_train[feat_name].to_numpy().reshape(-1, 1)  # Reshape for single feature\n",
    "    feat1_test = X_test[feat_name].to_numpy().reshape(-1, 1)  # Reshape for single feature\n",
    "\n",
    "    # Train model\n",
    "    regr_feat1 = LinearRegression()\n",
    "    regr_feat1.fit(feat1_train, y_train.values.reshape(-1, 1))  # Reshape target variable\n",
    "\n",
    "    # Predict (assuming y_test is a Series)\n",
    "    y_train_pred = regr_feat1.predict(feat1_train)\n",
    "    y_test_pred = regr_feat1.predict(feat1_test)\n",
    "\n",
    "    # Evaluate model (using mean squared error)\n",
    "    train_score = regr_feat1.score(feat1_train, y_train.values.reshape(-1, 1))  # Reshape target variable\n",
    "    test_score = regr_feat1.score(feat1_test, y_test.values.reshape(-1, 1))  # Reshape target variable\n",
    "    mse_train = mean_squared_error(y_train, y_train_pred)\n",
    "    mse_test = mean_squared_error(y_test, y_test_pred)\n",
    "\n",
    "    scores.append([feat_name, train_score, test_score, mse_train, mse_test])\n",
    "\n",
    "# Print or analyze scores as needed\n",
    "print(pd.DataFrame(scores, columns=[\"Feature\", \"Train Score\", \"Test Score\", \"Train MSE\", \"Test MSE\"]))"
   ]
  },
  {
   "cell_type": "markdown",
   "metadata": {},
   "source": [
    "Fuel Barrels/Year seems to be the most important feature to determine information about CO2 grams/Mile. In addition, the Year is the one that provides less amount of information."
   ]
  },
  {
   "cell_type": "markdown",
   "metadata": {},
   "source": [
    "Build a regression model for this data. What type of regression are you using? Add your responses as comments after your code."
   ]
  },
  {
   "cell_type": "code",
   "execution_count": 58,
   "metadata": {},
   "outputs": [
    {
     "name": "stdout",
     "output_type": "stream",
     "text": [
      "717.7969851833825 [-0.29871332  1.77103457 19.58139142 -2.84815675  0.03002177]\n"
     ]
    }
   ],
   "source": [
    "# Perform the fitting\n",
    "lm.fit(X_train, y_train)\n",
    "\n",
    "# Print coefs\n",
    "print(lm.intercept_, lm.coef_)"
   ]
  },
  {
   "cell_type": "markdown",
   "metadata": {},
   "source": [
    "Print your regression summary, and interpret the results. What are the most important varibles in your model and why? What can conclusions can you draw from your model and how confident in these conclusions are you? Add your responses as comments after your code."
   ]
  },
  {
   "cell_type": "code",
   "execution_count": 59,
   "metadata": {},
   "outputs": [
    {
     "data": {
      "text/html": [
       "<table class=\"simpletable\">\n",
       "<caption>OLS Regression Results</caption>\n",
       "<tr>\n",
       "  <th>Dep. Variable:</th>    <td>CO2 Emission Grams/Mile</td> <th>  R-squared (uncentered):</th>       <td>   0.999</td>  \n",
       "</tr>\n",
       "<tr>\n",
       "  <th>Model:</th>                      <td>OLS</td>           <th>  Adj. R-squared (uncentered):</th>  <td>   0.999</td>  \n",
       "</tr>\n",
       "<tr>\n",
       "  <th>Method:</th>                <td>Least Squares</td>      <th>  F-statistic:       </th>           <td>5.256e+06</td> \n",
       "</tr>\n",
       "<tr>\n",
       "  <th>Date:</th>                <td>Wed, 02 Oct 2024</td>     <th>  Prob (F-statistic):</th>            <td>  0.00</td>   \n",
       "</tr>\n",
       "<tr>\n",
       "  <th>Time:</th>                    <td>15:50:24</td>         <th>  Log-Likelihood:    </th>          <td>-1.2090e+05</td>\n",
       "</tr>\n",
       "<tr>\n",
       "  <th>No. Observations:</th>         <td> 28761</td>          <th>  AIC:               </th>           <td>2.418e+05</td> \n",
       "</tr>\n",
       "<tr>\n",
       "  <th>Df Residuals:</th>             <td> 28756</td>          <th>  BIC:               </th>           <td>2.418e+05</td> \n",
       "</tr>\n",
       "<tr>\n",
       "  <th>Df Model:</th>                 <td>     5</td>          <th>                     </th>               <td> </td>     \n",
       "</tr>\n",
       "<tr>\n",
       "  <th>Covariance Type:</th>         <td>nonrobust</td>        <th>                     </th>               <td> </td>     \n",
       "</tr>\n",
       "</table>\n",
       "<table class=\"simpletable\">\n",
       "<tr>\n",
       "          <td></td>             <th>coef</th>     <th>std err</th>      <th>t</th>      <th>P>|t|</th>  <th>[0.025</th>    <th>0.975]</th>  \n",
       "</tr>\n",
       "<tr>\n",
       "  <th>Year</th>              <td>    0.0588</td> <td>    0.001</td> <td>   63.777</td> <td> 0.000</td> <td>    0.057</td> <td>    0.061</td>\n",
       "</tr>\n",
       "<tr>\n",
       "  <th>Cylinders</th>         <td>    0.8461</td> <td>    0.087</td> <td>    9.674</td> <td> 0.000</td> <td>    0.675</td> <td>    1.018</td>\n",
       "</tr>\n",
       "<tr>\n",
       "  <th>Fuel Barrels/Year</th> <td>   20.3546</td> <td>    0.064</td> <td>  316.480</td> <td> 0.000</td> <td>   20.229</td> <td>   20.481</td>\n",
       "</tr>\n",
       "<tr>\n",
       "  <th>Combined MPG</th>      <td>   -2.8517</td> <td>    0.047</td> <td>  -60.603</td> <td> 0.000</td> <td>   -2.944</td> <td>   -2.759</td>\n",
       "</tr>\n",
       "<tr>\n",
       "  <th>Fuel Cost/Year</th>    <td>    0.0270</td> <td>    0.001</td> <td>   51.522</td> <td> 0.000</td> <td>    0.026</td> <td>    0.028</td>\n",
       "</tr>\n",
       "</table>\n",
       "<table class=\"simpletable\">\n",
       "<tr>\n",
       "  <th>Omnibus:</th>       <td>60753.384</td> <th>  Durbin-Watson:     </th>   <td>   2.008</td>   \n",
       "</tr>\n",
       "<tr>\n",
       "  <th>Prob(Omnibus):</th>  <td> 0.000</td>   <th>  Jarque-Bera (JB):  </th> <td>314379695.953</td>\n",
       "</tr>\n",
       "<tr>\n",
       "  <th>Skew:</th>           <td>18.433</td>   <th>  Prob(JB):          </th>   <td>    0.00</td>   \n",
       "</tr>\n",
       "<tr>\n",
       "  <th>Kurtosis:</th>       <td>513.861</td>  <th>  Cond. No.          </th>   <td>2.55e+03</td>   \n",
       "</tr>\n",
       "</table><br/><br/>Notes:<br/>[1] R² is computed without centering (uncentered) since the model does not contain a constant.<br/>[2] Standard Errors assume that the covariance matrix of the errors is correctly specified.<br/>[3] The condition number is large, 2.55e+03. This might indicate that there are<br/>strong multicollinearity or other numerical problems."
      ],
      "text/latex": [
       "\\begin{center}\n",
       "\\begin{tabular}{lclc}\n",
       "\\toprule\n",
       "\\textbf{Dep. Variable:}    & CO2 Emission Grams/Mile & \\textbf{  R-squared (uncentered):}      &       0.999    \\\\\n",
       "\\textbf{Model:}            &           OLS           & \\textbf{  Adj. R-squared (uncentered):} &       0.999    \\\\\n",
       "\\textbf{Method:}           &      Least Squares      & \\textbf{  F-statistic:       }          &   5.256e+06    \\\\\n",
       "\\textbf{Date:}             &     Wed, 02 Oct 2024    & \\textbf{  Prob (F-statistic):}          &       0.00     \\\\\n",
       "\\textbf{Time:}             &         15:50:24        & \\textbf{  Log-Likelihood:    }          &  -1.2090e+05   \\\\\n",
       "\\textbf{No. Observations:} &           28761         & \\textbf{  AIC:               }          &   2.418e+05    \\\\\n",
       "\\textbf{Df Residuals:}     &           28756         & \\textbf{  BIC:               }          &   2.418e+05    \\\\\n",
       "\\textbf{Df Model:}         &               5         & \\textbf{                     }          &                \\\\\n",
       "\\textbf{Covariance Type:}  &        nonrobust        & \\textbf{                     }          &                \\\\\n",
       "\\bottomrule\n",
       "\\end{tabular}\n",
       "\\begin{tabular}{lcccccc}\n",
       "                           & \\textbf{coef} & \\textbf{std err} & \\textbf{t} & \\textbf{P$> |$t$|$} & \\textbf{[0.025} & \\textbf{0.975]}  \\\\\n",
       "\\midrule\n",
       "\\textbf{Year}              &       0.0588  &        0.001     &    63.777  &         0.000        &        0.057    &        0.061     \\\\\n",
       "\\textbf{Cylinders}         &       0.8461  &        0.087     &     9.674  &         0.000        &        0.675    &        1.018     \\\\\n",
       "\\textbf{Fuel Barrels/Year} &      20.3546  &        0.064     &   316.480  &         0.000        &       20.229    &       20.481     \\\\\n",
       "\\textbf{Combined MPG}      &      -2.8517  &        0.047     &   -60.603  &         0.000        &       -2.944    &       -2.759     \\\\\n",
       "\\textbf{Fuel Cost/Year}    &       0.0270  &        0.001     &    51.522  &         0.000        &        0.026    &        0.028     \\\\\n",
       "\\bottomrule\n",
       "\\end{tabular}\n",
       "\\begin{tabular}{lclc}\n",
       "\\textbf{Omnibus:}       & 60753.384 & \\textbf{  Durbin-Watson:     } &       2.008    \\\\\n",
       "\\textbf{Prob(Omnibus):} &    0.000  & \\textbf{  Jarque-Bera (JB):  } & 314379695.953  \\\\\n",
       "\\textbf{Skew:}          &   18.433  & \\textbf{  Prob(JB):          } &        0.00    \\\\\n",
       "\\textbf{Kurtosis:}      &  513.861  & \\textbf{  Cond. No.          } &    2.55e+03    \\\\\n",
       "\\bottomrule\n",
       "\\end{tabular}\n",
       "%\\caption{OLS Regression Results}\n",
       "\\end{center}\n",
       "\n",
       "Notes: \\newline\n",
       " [1] R² is computed without centering (uncentered) since the model does not contain a constant. \\newline\n",
       " [2] Standard Errors assume that the covariance matrix of the errors is correctly specified. \\newline\n",
       " [3] The condition number is large, 2.55e+03. This might indicate that there are \\newline\n",
       " strong multicollinearity or other numerical problems."
      ],
      "text/plain": [
       "<class 'statsmodels.iolib.summary.Summary'>\n",
       "\"\"\"\n",
       "                                   OLS Regression Results                                   \n",
       "============================================================================================\n",
       "Dep. Variable:     CO2 Emission Grams/Mile   R-squared (uncentered):                   0.999\n",
       "Model:                                 OLS   Adj. R-squared (uncentered):              0.999\n",
       "Method:                      Least Squares   F-statistic:                          5.256e+06\n",
       "Date:                     Wed, 02 Oct 2024   Prob (F-statistic):                        0.00\n",
       "Time:                             15:50:24   Log-Likelihood:                     -1.2090e+05\n",
       "No. Observations:                    28761   AIC:                                  2.418e+05\n",
       "Df Residuals:                        28756   BIC:                                  2.418e+05\n",
       "Df Model:                                5                                                  \n",
       "Covariance Type:                 nonrobust                                                  \n",
       "=====================================================================================\n",
       "                        coef    std err          t      P>|t|      [0.025      0.975]\n",
       "-------------------------------------------------------------------------------------\n",
       "Year                  0.0588      0.001     63.777      0.000       0.057       0.061\n",
       "Cylinders             0.8461      0.087      9.674      0.000       0.675       1.018\n",
       "Fuel Barrels/Year    20.3546      0.064    316.480      0.000      20.229      20.481\n",
       "Combined MPG         -2.8517      0.047    -60.603      0.000      -2.944      -2.759\n",
       "Fuel Cost/Year        0.0270      0.001     51.522      0.000       0.026       0.028\n",
       "==============================================================================\n",
       "Omnibus:                    60753.384   Durbin-Watson:                   2.008\n",
       "Prob(Omnibus):                  0.000   Jarque-Bera (JB):        314379695.953\n",
       "Skew:                          18.433   Prob(JB):                         0.00\n",
       "Kurtosis:                     513.861   Cond. No.                     2.55e+03\n",
       "==============================================================================\n",
       "\n",
       "Notes:\n",
       "[1] R² is computed without centering (uncentered) since the model does not contain a constant.\n",
       "[2] Standard Errors assume that the covariance matrix of the errors is correctly specified.\n",
       "[3] The condition number is large, 2.55e+03. This might indicate that there are\n",
       "strong multicollinearity or other numerical problems.\n",
       "\"\"\""
      ]
     },
     "execution_count": 59,
     "metadata": {},
     "output_type": "execute_result"
    }
   ],
   "source": [
    "import statsmodels.api as sm\n",
    "est = sm.OLS(y_train, X_train) # Creates an object OLS estimator\n",
    "est = est.fit()\n",
    "est.summary()"
   ]
  },
  {
   "cell_type": "markdown",
   "metadata": {},
   "source": [
    "The Regression Model summary shows how the coeficient between Fuel Barrels/Year and CO Grams//Mile is the highest, determininng that this is the most important variable in our study"
   ]
  },
  {
   "cell_type": "markdown",
   "metadata": {},
   "source": [
    "## Bonus Challenge: Error Analysis"
   ]
  },
  {
   "cell_type": "markdown",
   "metadata": {},
   "source": [
    "I am suspicious about the last few parties I have thrown: it seems that the more people I invite the more people are unable to attend. To know if my hunch is supported by data, I have decided to do an analysis. I have collected my data in the table below, where X is the number of people I invited, and Y is the number of people who attended. \n",
    "\n",
    "|  X |  Y |\n",
    "|----|----|\n",
    "| 1  |  1 |\n",
    "| 3  |  2 |\n",
    "| 4  |  4 |\n",
    "| 6  |  4 |\n",
    "| 8  |  5 |\n",
    "| 9  |  7 |\n",
    "| 11 |  8 |\n",
    "| 14 |  13 |"
   ]
  },
  {
   "cell_type": "markdown",
   "metadata": {},
   "source": [
    "We want to know if the relationship modeled by the two random variables is linear or not, and therefore if it is appropriate to model it with a linear regression. \n",
    "First, build a dataframe with the data. "
   ]
  },
  {
   "cell_type": "code",
   "execution_count": 66,
   "metadata": {},
   "outputs": [],
   "source": [
    "party_attendace = pd.DataFrame({'Invited': [1,3,4,6,8,9,11,14], 'Attended': [1,2,4,4,5,7,8,13]})\n"
   ]
  },
  {
   "cell_type": "markdown",
   "metadata": {},
   "source": [
    "Draw a dispersion diagram (scatter plot) for the data, and fit a regression line."
   ]
  },
  {
   "cell_type": "code",
   "execution_count": 69,
   "metadata": {},
   "outputs": [
    {
     "name": "stdout",
     "output_type": "stream",
     "text": [
      "(8, 1) (6, 1) (2, 1)\n",
      "(8,) (6,) (2,)\n",
      "-0.6948176583493275 [0.88099808]\n"
     ]
    },
    {
     "data": {
      "text/plain": [
       "[<matplotlib.lines.Line2D at 0x1d01353e120>]"
      ]
     },
     "execution_count": 69,
     "metadata": {},
     "output_type": "execute_result"
    },
    {
     "data": {
      "image/png": "[encoded data removed]",
      "text/plain": [
       "<Figure size 640x480 with 1 Axes>"
      ]
     },
     "metadata": {},
     "output_type": "display_data"
    }
   ],
   "source": [
    "sns.scatterplot(party_attendace, x='Invited', y='Attended')\n",
    "\n",
    "# We are going to implement a Linear Regression Model, since we only have 2 variables, and the plot seems to imply a linear correlation between both variables\n",
    "\n",
    "lm = LinearRegression()\n",
    "X = party_attendace['Invited'].values.reshape(-1, 1)\n",
    "y = party_attendace['Attended'].values # the value of the variable we want to compare\n",
    "\n",
    "# Split in train and test sets\n",
    "X_train, X_test, y_train, y_test = train_test_split(X, y, test_size=.2)\n",
    "\n",
    "# Check train and test sizes\n",
    "print(X.shape, X_train.shape, X_test.shape)\n",
    "print(y.shape, y_train.shape, y_test.shape)\n",
    "\n",
    "# Perform the fitting\n",
    "lm.fit(X_train, y_train)\n",
    "\n",
    "# Print coefs\n",
    "print(lm.intercept_, lm.coef_)\n",
    "\n",
    "y_train_pred = lm.predict(X_train)\n",
    "\n",
    "plt.plot(X_train, y_train, \"o\", alpha=.5)\n",
    "plt.plot(X_test, y_test, \"o\", alpha=.5)\n",
    "plt.plot(X_train, y_train_pred, \"r\")\n",
    "\n",
    "\n"
   ]
  },
  {
   "cell_type": "markdown",
   "metadata": {},
   "source": [
    "What do you see? What does this plot tell you about the likely relationship between the variables? Print the results from your regression."
   ]
  },
  {
   "cell_type": "markdown",
   "metadata": {},
   "source": [
    "The plot shows that there is a linear correlation between the two variables"
   ]
  },
  {
   "cell_type": "markdown",
   "metadata": {},
   "source": [
    "Do you see any problematic points, or outliers, in your data? Remove these points and recalculate your regression. Print the new dispersion diagram with your new model and the results of your model. "
   ]
  },
  {
   "cell_type": "code",
   "execution_count": 72,
   "metadata": {},
   "outputs": [
    {
     "name": "stdout",
     "output_type": "stream",
     "text": [
      "(6, 1) (4, 1) (2, 1)\n",
      "(6,) (4,) (2,)\n",
      "0.3620689655172411 [0.5862069]\n"
     ]
    },
    {
     "data": {
      "text/plain": [
       "[<matplotlib.lines.Line2D at 0x1d0136c2360>]"
      ]
     },
     "execution_count": 72,
     "metadata": {},
     "output_type": "execute_result"
    },
    {
     "data": {
      "image/png": "[encoded data removed]",
      "text/plain": [
       "<Figure size 640x480 with 1 Axes>"
      ]
     },
     "metadata": {},
     "output_type": "display_data"
    }
   ],
   "source": [
    "# there are 2 points that are problematic, (4,4) where Everybody attented the party, unusual... and (14,13) which has a much higher rate of attendance than the rest of the data. \n",
    "# Our new model is dropping data points (4,4) and (14,13)\n",
    "party_attendace_adjusted = pd.DataFrame({'Invited': [1,3,6,8,9,11], 'Attended': [1,2,4,5,7,8]})\n",
    "\n",
    "X = party_attendace_adjusted['Invited'].values.reshape(-1, 1)\n",
    "y = party_attendace_adjusted['Attended'].values # the value of the variable we want to compare\n",
    "\n",
    "# Split in train and test sets\n",
    "X_train, X_test, y_train, y_test = train_test_split(X, y, test_size=.2)\n",
    "\n",
    "\n",
    "# Check train and test sizes\n",
    "print(X.shape, X_train.shape, X_test.shape)\n",
    "print(y.shape, y_train.shape, y_test.shape)\n",
    "\n",
    "# Perform the fitting\n",
    "lm.fit(X_train, y_train)\n",
    "\n",
    "# Print coefs\n",
    "print(lm.intercept_, lm.coef_)\n",
    "\n",
    "y_train_pred = lm.predict(X_train)\n",
    "\n",
    "plt.plot(X_train, y_train, \"o\", alpha=.5)\n",
    "plt.plot(X_test, y_test, \"o\", alpha=.5)\n",
    "plt.plot(X_train, y_train_pred, \"r\")\n"
   ]
  },
  {
   "cell_type": "markdown",
   "metadata": {},
   "source": [
    "What changed? Based on the results of the two models and your graphs, what can you say about the form of the data with the problematic point and without it?"
   ]
  },
  {
   "cell_type": "markdown",
   "metadata": {},
   "source": [
    "the aproximation with the regression line is more accurate, however, there are new outliers in our new model. "
   ]
  }
 ],
 "metadata": {
  "kernelspec": {
   "display_name": "Python 3 (ipykernel)",
   "language": "python",
   "name": "python3"
  },
  "language_info": {
   "codemirror_mode": {
    "name": "ipython",
    "version": 3
   },
   "file_extension": ".py",
   "mimetype": "text/x-python",
   "name": "python",
   "nbconvert_exporter": "python",
   "pygments_lexer": "ipython3",
   "version": "3.12.4"
  }
 },
 "nbformat": 4,
 "nbformat_minor": 2
}
