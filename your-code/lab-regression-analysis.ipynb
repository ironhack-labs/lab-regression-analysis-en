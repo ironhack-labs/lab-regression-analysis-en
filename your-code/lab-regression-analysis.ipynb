{
 "cells": [
  {
   "cell_type": "markdown",
   "metadata": {},
   "source": [
    "# Lab: Regression Analysis"
   ]
  },
  {
   "cell_type": "markdown",
   "metadata": {},
   "source": [
    "### Before you start:\n",
    "\n",
    "* Read the README.md file\n",
    "* Comment as much as you can and use the resources (README.md file) \n",
    "\n",
    "Happy learning!"
   ]
  },
  {
   "cell_type": "markdown",
   "metadata": {},
   "source": [
    "## Challenge 1\n",
    "I work at a coding bootcamp, and I have developed a theory that the younger my students are, the more often they are late to class. In order to test my hypothesis, I have collected some data in the following table:\n",
    "\n",
    "| StudentID | Age | Tardies |\n",
    "|--------|-----|------------|\n",
    "| 1      | 17  | 10         |\n",
    "| 2      | 51  | 1          |\n",
    "| 3      | 27  | 5          |\n",
    "| 4      | 21  | 9         |\n",
    "| 5      | 36  |  4         |\n",
    "| 6      | 48  |  2         |\n",
    "| 7      | 19  |  9         |\n",
    "| 8      | 26  | 6          |\n",
    "| 9      | 54  |  0         |\n",
    "| 10     | 30  |  3         |"
   ]
  },
  {
   "cell_type": "code",
   "execution_count": 3,
   "metadata": {},
   "outputs": [],
   "source": [
    "import pandas as pd\n",
    "import numpy as np\n",
    "import plotly.express as px\n",
    "import statsmodels.formula.api as smf\n",
    "from sklearn.linear_model import LinearRegression\n",
    "from sklearn.model_selection import train_test_split\n",
    "from sklearn.metrics import mean_squared_error, r2_score\n",
    "import matplotlib.pyplot as plt\n",
    "import seaborn as sns"
   ]
  },
  {
   "cell_type": "markdown",
   "metadata": {},
   "source": [
    "Use this command to create a dataframe with the data provided in the table. \n",
    "~~~~\n",
    "student_data = pd.DataFrame({'Age': [17,51,27,21,36,48,19,26,54,30], 'Tardies': [10,1,5,9,4,2,9,6,0,3]})\n",
    "~~~~"
   ]
  },
  {
   "cell_type": "code",
   "execution_count": 4,
   "metadata": {},
   "outputs": [],
   "source": [
    "student_data = pd.DataFrame({'Age': [17,51,27,21,36,48,19,26,54,30], 'Tardies': [10,1,5,9,4,2,9,6,0,3]})"
   ]
  },
  {
   "cell_type": "markdown",
   "metadata": {},
   "source": [
    "Draw a dispersion diagram (scatter plot) for the data."
   ]
  },
  {
   "cell_type": "code",
   "execution_count": 5,
   "metadata": {},
   "outputs": [
    {
     "data": {
      "image/png": "[encoded data removed]",
      "text/plain": [
       "<Figure size 640x480 with 1 Axes>"
      ]
     },
     "metadata": {},
     "output_type": "display_data"
    }
   ],
   "source": [
    "x = student_data[\"Age\"]\n",
    "y = student_data[\"Tardies\"]\n",
    "\n",
    "plt.scatter(x, y)\n",
    "plt.show()"
   ]
  },
  {
   "cell_type": "markdown",
   "metadata": {},
   "source": [
    "Do you see a trend? Can you make any hypotheses about the relationship between age and number of tardies?"
   ]
  },
  {
   "cell_type": "markdown",
   "metadata": {},
   "source": [
    "The line goes down expressing that students that have higher ages are more puntcual. There is a negative correlation."
   ]
  },
  {
   "cell_type": "markdown",
   "metadata": {},
   "source": [
    "Calculate the covariance and correlation of the variables in your plot. What is the difference between these two measures? Compare their values. What do they tell you in this case? Add your responses as comments after your code."
   ]
  },
  {
   "cell_type": "code",
   "execution_count": 6,
   "metadata": {},
   "outputs": [
    {
     "name": "stdout",
     "output_type": "stream",
     "text": [
      "Covariance: [[187.65555556 -45.56666667]\n",
      " [-45.56666667  12.54444444]]\n",
      "Correlation: [[ 1.         -0.93916269]\n",
      " [-0.93916269  1.        ]]\n"
     ]
    },
    {
     "data": {
      "text/plain": [
       "\" The correlation is strong negative (it's closer to -1), reassuring the same thing\""
      ]
     },
     "execution_count": 6,
     "metadata": {},
     "output_type": "execute_result"
    }
   ],
   "source": [
    "covariance = np.cov(x, y)\n",
    "print(f\"Covariance: {covariance}\") # The diagonal values are the variances and the off-diagonal values are the covariances.\n",
    "correlation = np.corrcoef(x, y)\n",
    "print(f\"Correlation: {correlation}\") # Values range between -1 and 1.\n",
    "\n",
    "\"\"\" The covariance is negative, meaning that as one variable (age) increases, the other (tardies) decreases\"\"\"\n",
    "\"\"\" The correlation is strong negative (it's closer to -1), reassuring the same thing\"\"\""
   ]
  },
  {
   "cell_type": "markdown",
   "metadata": {},
   "source": [
    "Build a regression model for this data. What will be your outcome variable? What type of regression are you using? Add your responses as comments after your code."
   ]
  },
  {
   "cell_type": "code",
   "execution_count": 8,
   "metadata": {},
   "outputs": [
    {
     "name": "stdout",
     "output_type": "stream",
     "text": [
      "(10, 1) (8, 1) (2, 1)\n",
      "(10,) (8,) (2,)\n",
      "Intecept: 13.380960791239845\n",
      "Coefficient: [-0.25609325]\n",
      "Mean Squared Error: 1.490657598089277\n",
      "R-squared score: 0.3374855119603214\n"
     ]
    }
   ],
   "source": [
    "# Step 1: Load the data \n",
    "student_data = pd.DataFrame({'Age': [17,51,27,21,36,48,19,26,54,30], 'Tardies': [10,1,5,9,4,2,9,6,0,3]})\n",
    "\n",
    "# Step 2: Prepare and reshape the data\n",
    "x = student_data[\"Age\"].values.reshape(-1, 1) # Transform the pandas series into a 2D numpy array (a matrix)\n",
    "y = student_data[\"Tardies\"].values # Leave it as 1D numpy array (a vector) \n",
    "\n",
    "# Step 3: Split the data into training (80%) and testing (20%) sets\n",
    "X_train, X_test, y_train, y_test = train_test_split(x, y, test_size=0.2)\n",
    "\n",
    "# Step 4: Check sizes\n",
    "print(x.shape, X_train.shape, X_test.shape)\n",
    "print(y.shape, y_train.shape, y_test.shape)\n",
    "\n",
    "# Step 5: Create the (empty) linear regression model\n",
    "model = LinearRegression()\n",
    "\n",
    "# Step 6: Fit the model to the training data\n",
    "model.fit(X_train, y_train)\n",
    "\n",
    "# Step 7: The model is trained, now ask him to predict tardies based on the (new) testing data (age). Store the predictions into a variable\n",
    "y_pred = model.predict(X_test)\n",
    "\n",
    "# Step 8: Calculate the linear regression equation: y = intercept + (coefficient * x)\n",
    "print(f\"Intecept: {model.intercept_}\")\n",
    "print(f\"Coefficient: {model.coef_}\")\n",
    "\"\"\" Intercept (12.7): When the age is 0, the predicted number of tardies would be 12.7\n",
    "\n",
    "Coefficient (-0.24): If the coefficient is negative, it means that as Age increases, the number of tardies decreases. \n",
    "For each year increase in age, the number of tardies will decrease by 0.24.\n",
    "\n",
    "EQUATION: If age is 30, predicted number of tardies is: 12.7 + (-0.24 * 30) = 5.7 \"\"\"\n",
    "\n",
    "# Step 9: Evaluate the model\n",
    "    # Calculate Mean Squared Error (MSE): how wrong the model's predictions are (0 means is predicting perfectly)\n",
    "mse = mean_squared_error(y_test, y_pred)\n",
    "print(f\"Mean Squared Error: {mse}\")\n",
    "    # Calculate R-squared score: how well the model is doing overall (100% is perfect score, 0 means the model is guessing randomly)\n",
    "r2 = r2_score(y_test, y_pred)\n",
    "print(f\"R-squared score: {r2}\")\n"
   ]
  },
  {
   "cell_type": "markdown",
   "metadata": {},
   "source": [
    "Plot your regression model on your scatter plot."
   ]
  },
  {
   "cell_type": "code",
   "execution_count": 9,
   "metadata": {},
   "outputs": [
    {
     "data": {
      "image/png": "[encoded data removed]",
      "text/plain": [
       "<Figure size 640x480 with 1 Axes>"
      ]
     },
     "metadata": {},
     "output_type": "display_data"
    }
   ],
   "source": [
    "plt.scatter(X_train, y_train, color=\"blue\") # Students from the training data\n",
    "plt.scatter(X_test, y_test, color=\"red\") # Students from the testing data\n",
    "plt.plot(X_test, y_pred, color=\"green\") # Regression line (model's prediction for the testing data)\n",
    "plt.show()"
   ]
  },
  {
   "cell_type": "markdown",
   "metadata": {},
   "source": [
    "Interpret the results of your model. What can conclusions can you draw from your model and how confident in these conclusions are you? Can we say that age is a good predictor of tardiness? Add your responses as comments after your code."
   ]
  },
  {
   "cell_type": "markdown",
   "metadata": {},
   "source": [
    " There is a negative relationship between age and tardiness so, in simple terms, as students get older, they tend to have fewer tardies. The model is doing a good job predicting the number of tardies based on age."
   ]
  },
  {
   "cell_type": "markdown",
   "metadata": {},
   "source": [
    "## Challenge 2\n",
    "For the second part of this lab, we will use the vehicles.csv data set. You can find a copy of the dataset in the git hub folder. This dataset includes variables related to vehicle characteristics, including the model, make, and energy efficiency standards, as well as each car's CO2 emissions. As discussed in class the goal of this exercise is to predict vehicles' CO2 emissions based on several independent variables. "
   ]
  },
  {
   "cell_type": "code",
   "execution_count": 10,
   "metadata": {},
   "outputs": [],
   "source": [
    "# Import any libraries you may need & the data\n",
    "vehicles = pd.read_csv(\"C:\\\\Users\\\\crvid\\\\Documents\\\\IRONHACK\\\\WEEK_4\\\\DAY3\\\\lab-regression-analysis-en\\\\vehicles.csv\")"
   ]
  },
  {
   "cell_type": "markdown",
   "metadata": {},
   "source": [
    "Let's use the following variables for our analysis: Year, Cylinders, Fuel Barrels/Year, Combined MPG, and Fuel Cost/Year. We will use 'CO2 Emission Grams/Mile' as our outcome variable. \n",
    "\n",
    "Calculate the correlations between each of these variables and the outcome. Which variable do you think will be the most important in determining CO2 emissions? Which provides the least amount of helpful information for determining CO2 emissions? Add your responses as comments after your code."
   ]
  },
  {
   "cell_type": "code",
   "execution_count": 11,
   "metadata": {},
   "outputs": [
    {
     "data": {
      "text/plain": [
       "' The correlation between each variable and the CO2 Emissions show that vehicles that use more fuel barrels per year and that have more cylinders \\ntend to emit more CO2 (positive correlation). There is a negative correlation between MPG nad CO2 emissions meaning that vehicles that have\\nbetter fuel efficiency tend to emit less C02. The year correlation is not really significant'"
      ]
     },
     "execution_count": 11,
     "metadata": {},
     "output_type": "execute_result"
    }
   ],
   "source": [
    "# Select the variables we are using for the analysis\n",
    "variables_analysis = vehicles[[\"Year\", \"Cylinders\", \"Fuel Barrels/Year\", \"Combined MPG\", \"Fuel Cost/Year\", \"CO2 Emission Grams/Mile\"]]\n",
    "\n",
    "# Calculate the correlation between all the variables\n",
    "correlation = variables_analysis.corr()\n",
    "correlation\n",
    "\n",
    "\"\"\" The correlation between each variable and the CO2 Emissions show that vehicles that use more fuel barrels per year and that have more cylinders \n",
    "tend to emit more CO2 (positive correlation). There is a negative correlation between MPG nad CO2 emissions meaning that vehicles that have\n",
    "better fuel efficiency tend to emit less C02. The year correlation is not really significant\"\"\""
   ]
  },
  {
   "cell_type": "markdown",
   "metadata": {},
   "source": [
    "Build a regression model for this data. What type of regression are you using? Add your responses as comments after your code."
   ]
  },
  {
   "cell_type": "code",
   "execution_count": 12,
   "metadata": {},
   "outputs": [
    {
     "name": "stdout",
     "output_type": "stream",
     "text": [
      "Intercept: 792.0343122416474\n",
      "Coefficients: [-0.33035703  1.98534185 18.88828544 -3.10932813  0.03285214]\n",
      "Mean Squared Error: 243.00026537713367\n",
      "R-squared Score: 0.9828805577779606\n"
     ]
    }
   ],
   "source": [
    "# Step 1: Select the relevant columns (independent and dependent variables)\n",
    "X = vehicles[['Year', 'Cylinders', 'Fuel Barrels/Year', 'Combined MPG', 'Fuel Cost/Year']]  # Independent variables\n",
    "y = vehicles['CO2 Emission Grams/Mile']  # Dependent variable (what we want to predict)\n",
    "\n",
    "# Step 2: Split the data into training and testing sets (80% train, 20% test)\n",
    "X_train, X_test, y_train, y_test = train_test_split(X, y, test_size=0.2)\n",
    "\n",
    "# Step 3: Create the linear regression model\n",
    "model = LinearRegression()\n",
    "\n",
    "# Step 4: Train (fit) the model on the training data\n",
    "model.fit(X_train, y_train)\n",
    "\n",
    "# Step 5: Predict CO2 emissions using the testing data\n",
    "y_pred = model.predict(X_test)\n",
    "\n",
    "# Step 6: Get the intercept and coefficients\n",
    "print(f\"Intercept: {model.intercept_}\")\n",
    "print(f\"Coefficients: {model.coef_}\")\n",
    "\n",
    "# Step 7: Evaluate the model's performance\n",
    "mse = mean_squared_error(y_test, y_pred)  # Calculate Mean Squared Error (MSE)\n",
    "print(f\"Mean Squared Error: {mse}\")\n",
    "r2 = r2_score(y_test, y_pred)  # Calculate R-squared score\n",
    "print(f\"R-squared Score: {r2}\")"
   ]
  },
  {
   "cell_type": "markdown",
   "metadata": {},
   "source": [
    "Print your regression summary, and interpret the results. What are the most important varibles in your model and why? What can conclusions can you draw from your model and how confident in these conclusions are you? Add your responses as comments after your code."
   ]
  },
  {
   "cell_type": "code",
   "execution_count": 13,
   "metadata": {},
   "outputs": [
    {
     "data": {
      "image/png": "[encoded data removed]",
      "text/plain": [
       "<Figure size 640x480 with 1 Axes>"
      ]
     },
     "metadata": {},
     "output_type": "display_data"
    }
   ],
   "source": [
    "plt.scatter(y_test, y_pred, color='blue')\n",
    "plt.plot([y_test.min(), y_test.max()], [y_test.min(), y_test.max()], color=\"red\")\n",
    "plt.xlabel('Actual CO2 Emission Grams/Mile')\n",
    "plt.ylabel('Predicted CO2 Emission Grams/Mile')\n",
    "plt.title('Actual vs Predicted CO2 Emissions')\n",
    "plt.show()"
   ]
  },
  {
   "cell_type": "markdown",
   "metadata": {},
   "source": [
    "## Bonus Challenge: Error Analysis"
   ]
  },
  {
   "cell_type": "markdown",
   "metadata": {},
   "source": [
    "I am suspicious about the last few parties I have thrown: it seems that the more people I invite the more people are unable to attend. To know if my hunch is supported by data, I have decided to do an analysis. I have collected my data in the table below, where X is the number of people I invited, and Y is the number of people who attended. \n",
    "\n",
    "|  X |  Y |\n",
    "|----|----|\n",
    "| 1  |  1 |\n",
    "| 3  |  2 |\n",
    "| 4  |  4 |\n",
    "| 6  |  4 |\n",
    "| 8  |  5 |\n",
    "| 9  |  7 |\n",
    "| 11 |  8 |\n",
    "| 14 |  13 |"
   ]
  },
  {
   "cell_type": "markdown",
   "metadata": {},
   "source": [
    "We want to know if the relationship modeled by the two random variables is linear or not, and therefore if it is appropriate to model it with a linear regression. \n",
    "First, build a dataframe with the data. "
   ]
  },
  {
   "cell_type": "code",
   "execution_count": 27,
   "metadata": {},
   "outputs": [
    {
     "data": {
      "text/html": [
       "<div>\n",
       "<style scoped>\n",
       "    .dataframe tbody tr th:only-of-type {\n",
       "        vertical-align: middle;\n",
       "    }\n",
       "\n",
       "    .dataframe tbody tr th {\n",
       "        vertical-align: top;\n",
       "    }\n",
       "\n",
       "    .dataframe thead th {\n",
       "        text-align: right;\n",
       "    }\n",
       "</style>\n",
       "<table border=\"1\" class=\"dataframe\">\n",
       "  <thead>\n",
       "    <tr style=\"text-align: right;\">\n",
       "      <th></th>\n",
       "      <th>invited</th>\n",
       "      <th>attended</th>\n",
       "    </tr>\n",
       "  </thead>\n",
       "  <tbody>\n",
       "    <tr>\n",
       "      <th>0</th>\n",
       "      <td>1</td>\n",
       "      <td>1</td>\n",
       "    </tr>\n",
       "    <tr>\n",
       "      <th>1</th>\n",
       "      <td>3</td>\n",
       "      <td>2</td>\n",
       "    </tr>\n",
       "    <tr>\n",
       "      <th>2</th>\n",
       "      <td>4</td>\n",
       "      <td>4</td>\n",
       "    </tr>\n",
       "    <tr>\n",
       "      <th>3</th>\n",
       "      <td>6</td>\n",
       "      <td>4</td>\n",
       "    </tr>\n",
       "    <tr>\n",
       "      <th>4</th>\n",
       "      <td>8</td>\n",
       "      <td>5</td>\n",
       "    </tr>\n",
       "    <tr>\n",
       "      <th>5</th>\n",
       "      <td>9</td>\n",
       "      <td>7</td>\n",
       "    </tr>\n",
       "    <tr>\n",
       "      <th>6</th>\n",
       "      <td>11</td>\n",
       "      <td>8</td>\n",
       "    </tr>\n",
       "    <tr>\n",
       "      <th>7</th>\n",
       "      <td>14</td>\n",
       "      <td>13</td>\n",
       "    </tr>\n",
       "  </tbody>\n",
       "</table>\n",
       "</div>"
      ],
      "text/plain": [
       "   invited  attended\n",
       "0        1         1\n",
       "1        3         2\n",
       "2        4         4\n",
       "3        6         4\n",
       "4        8         5\n",
       "5        9         7\n",
       "6       11         8\n",
       "7       14        13"
      ]
     },
     "execution_count": 27,
     "metadata": {},
     "output_type": "execute_result"
    }
   ],
   "source": [
    "x = [1, 3, 4, 6, 8, 9, 11, 14]\n",
    "y = [1, 2, 4, 4, 5, 7, 8, 13]\n",
    "\n",
    "party = pd.DataFrame({\"invited\":x, \"attended\": y})\n",
    "party"
   ]
  },
  {
   "cell_type": "code",
   "execution_count": 75,
   "metadata": {},
   "outputs": [
    {
     "name": "stdout",
     "output_type": "stream",
     "text": [
      "(8, 1) (6, 1) (2, 1)\n",
      "(8,) (6,) (2,)\n"
     ]
    }
   ],
   "source": [
    "# BUILD A MODEL\n",
    "\n",
    "# Step 2: Prepare and reshape the data\n",
    "x = party[\"invited\"].values.reshape(-1, 1) # Transform the pandas series into a 2D numpy array (a matrix)\n",
    "y = party[\"attended\"].values # Leave it as 1D numpy array (a vector) \n",
    "\n",
    "# Step 3: Split the data into training (80%) and testing (20%) sets\n",
    "X_train, X_test, y_train, y_test = train_test_split(x, y, test_size=0.2)\n",
    "\n",
    "# Step 4: Check sizes\n",
    "print(x.shape, X_train.shape, X_test.shape)\n",
    "print(y.shape, y_train.shape, y_test.shape)\n",
    "\n",
    "# Step 5: Create the (empty) linear regression model\n",
    "model = LinearRegression()\n",
    "\n",
    "# Step 6: Fit the model to the training data\n",
    "model.fit(X_train, y_train)\n",
    "\n",
    "# Step 7: The model is trained, now ask him to predict tardies based on the (new) testing data (age). Store the predictions into a variable\n",
    "y_pred = model.predict(X_test)"
   ]
  },
  {
   "cell_type": "markdown",
   "metadata": {},
   "source": [
    "Draw a dispersion diagram (scatter plot) for the data, and fit a regression line."
   ]
  },
  {
   "cell_type": "code",
   "execution_count": 79,
   "metadata": {},
   "outputs": [
    {
     "data": {
      "image/png": "[encoded data removed]",
      "text/plain": [
       "<Figure size 640x480 with 1 Axes>"
      ]
     },
     "metadata": {},
     "output_type": "display_data"
    }
   ],
   "source": [
    "plt.scatter(X_train, y_train, color=\"blue\") # People from the training data\n",
    "plt.scatter(X_test, y_test, color=\"red\") # People from the testing data\n",
    "plt.plot(X_test, y_pred, color=\"green\") # Regression line (model's prediction for the testing data)\n",
    "plt.xlabel(\"Invited\")\n",
    "plt.ylabel(\"Attended\")\n",
    "plt.show()"
   ]
  },
  {
   "cell_type": "markdown",
   "metadata": {},
   "source": [
    "What do you see? What does this plot tell you about the likely relationship between the variables? Print the results from your regression."
   ]
  },
  {
   "cell_type": "code",
   "execution_count": 31,
   "metadata": {},
   "outputs": [],
   "source": [
    "# There is a positive correlation between the two features: as the number of invited people increases, the number of attends generally increases as well.\n",
    "\n",
    "# There are no significant outliers"
   ]
  },
  {
   "cell_type": "markdown",
   "metadata": {},
   "source": [
    "Do you see any problematic points, or outliers, in your data? Remove these points and recalculate your regression. Print the new dispersion diagram with your new model and the results of your model. "
   ]
  },
  {
   "cell_type": "code",
   "execution_count": 77,
   "metadata": {},
   "outputs": [
    {
     "name": "stdout",
     "output_type": "stream",
     "text": [
      "Intercept: 0.5165394402035615\n",
      "Coefficients: [0.66412214]\n",
      "Mean Squared Error: 5.203996141121017\n",
      "R-squared Score: 0.8279670697150077\n"
     ]
    }
   ],
   "source": [
    "# Step 6: Get the intercept and coefficients\n",
    "print(f\"Intercept: {model.intercept_}\")\n",
    "print(f\"Coefficients: {model.coef_}\")\n",
    "\n",
    "# Step 7: Evaluate the model's performance\n",
    "mse = mean_squared_error(y_test, y_pred)  # Calculate Mean Squared Error (MSE)\n",
    "print(f\"Mean Squared Error: {mse}\")\n",
    "r2 = r2_score(y_test, y_pred)  # Calculate R-squared score\n",
    "print(f\"R-squared Score: {r2}\")"
   ]
  },
  {
   "cell_type": "markdown",
   "metadata": {},
   "source": [
    "What changed? Based on the results of the two models and your graphs, what can you say about the form of the data with the problematic point and without it?"
   ]
  },
  {
   "cell_type": "code",
   "execution_count": null,
   "metadata": {},
   "outputs": [],
   "source": [
    "# The intercept doesn't make sense in this example because we can't have half people attending when x = 0. Even when no one is invited, 0.52 person might attend.\n",
    "\n",
    "# The coefficient shows that for every additional person invited, about 0.66 people are expected to attend, so not everyone invited will attend.\n",
    "\n",
    "# Mean Squared Error is high, meaning that the model isn't accurate in predicting the attendance\n",
    "\n",
    "# R-squared score is quite high meaning that the model does a good job in predicting "
   ]
  }
 ],
 "metadata": {
  "kernelspec": {
   "display_name": "base",
   "language": "python",
   "name": "python3"
  },
  "language_info": {
   "codemirror_mode": {
    "name": "ipython",
    "version": 3
   },
   "file_extension": ".py",
   "mimetype": "text/x-python",
   "name": "python",
   "nbconvert_exporter": "python",
   "pygments_lexer": "ipython3",
   "version": "3.12.4"
  }
 },
 "nbformat": 4,
 "nbformat_minor": 2
}
