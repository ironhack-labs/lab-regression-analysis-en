{
 "cells": [
  {
   "cell_type": "markdown",
   "metadata": {},
   "source": [
    "# Lab: Regression Analysis"
   ]
  },
  {
   "cell_type": "markdown",
   "metadata": {},
   "source": [
    "### Before you start:\n",
    "\n",
    "* Read the README.md file\n",
    "* Comment as much as you can and use the resources (README.md file) \n",
    "\n",
    "Happy learning!"
   ]
  },
  {
   "cell_type": "markdown",
   "metadata": {},
   "source": [
    "## Challenge 1\n",
    "I work at a coding bootcamp, and I have developed a theory that the younger my students are, the more often they are late to class. In order to test my hypothesis, I have collected some data in the following table:\n",
    "\n",
    "| StudentID | Age | Tardies |\n",
    "|--------|-----|------------|\n",
    "| 1      | 17  | 10         |\n",
    "| 2      | 51  | 1          |\n",
    "| 3      | 27  | 5          |\n",
    "| 4      | 21  | 9         |\n",
    "| 5      | 36  |  4         |\n",
    "| 6      | 48  |  2         |\n",
    "| 7      | 19  |  9         |\n",
    "| 8      | 26  | 6          |\n",
    "| 9      | 54  |  0         |\n",
    "| 10     | 30  |  3         |"
   ]
  },
  {
   "cell_type": "code",
   "execution_count": 2,
   "metadata": {},
   "outputs": [],
   "source": [
    "import pandas as pd\n",
    "import numpy as np\n",
    "import plotly.express as px\n",
    "import statsmodels.formula.api as smf\n",
    "from sklearn.linear_model import LinearRegression\n",
    "import matplotlib.pyplot as plt\n",
    "import seaborn as sns"
   ]
  },
  {
   "cell_type": "markdown",
   "metadata": {},
   "source": [
    "Use this command to create a dataframe with the data provided in the table. \n",
    "~~~~\n",
    "student_data = pd.DataFrame({'Age': [17,51,27,21,36,48,19,26,54,30], 'Tardies': [10,1,5,9,4,2,9,6,0,3]})\n",
    "~~~~"
   ]
  },
  {
   "cell_type": "code",
   "execution_count": 3,
   "metadata": {},
   "outputs": [],
   "source": [
    "student_data = pd.DataFrame({'Age': [17,51,27,21,36,48,19,26,54,30], 'Tardies': [10,1,5,9,4,2,9,6,0,3]})"
   ]
  },
  {
   "cell_type": "markdown",
   "metadata": {},
   "source": [
    "Draw a dispersion diagram (scatter plot) for the data."
   ]
  },
  {
   "cell_type": "code",
   "execution_count": null,
   "metadata": {},
   "outputs": [],
   "source": [
    "# Scatter plot\n",
    "\n",
    "\n",
    "plt.figure(figsize=(8, 6))\n",
    "plt.scatter(student_data['Age'], student_data['Tardies'], color='blue', alpha=0.7)\n",
    "plt.title('Dispersion Diagram', fontsize=14)\n",
    "plt.xlabel('Age', fontsize=12)\n",
    "plt.ylabel('Tardies', fontsize=12)\n",
    "plt.grid(True)\n",
    "plt.show()"
   ]
  },
  {
   "cell_type": "markdown",
   "metadata": {},
   "source": [
    "Do you see a trend? Can you make any hypotheses about the relationship between age and number of tardies?"
   ]
  },
  {
   "cell_type": "markdown",
   "metadata": {},
   "source": [
    "There is a linear relationship, inversely proportional between the age of the student and how many times they are tardy. "
   ]
  },
  {
   "cell_type": "markdown",
   "metadata": {},
   "source": [
    "Calculate the covariance and correlation of the variables in your plot. What is the difference between these two measures? Compare their values. What do they tell you in this case? Add your responses as comments after your code."
   ]
  },
  {
   "cell_type": "code",
   "execution_count": null,
   "metadata": {},
   "outputs": [],
   "source": [
    "# Calculate covariance\n",
    "# shows the relationship between two columns, indicating how changes in one are associated with changes in the other.\n",
    "# \n",
    "covariance = student_data['Age'].cov(student_data['Tardies'])\n",
    "print(\"Covariance:\", covariance)\n",
    "\n",
    "# Calculate correlation\n",
    "# measures the strength and direction of a linear relationship. \n",
    "# ranges from -1 (perfect negative correlation) to 1 (perfect positive correlation)\n",
    "correlation = student_data['Age'].corr(student_data['Tardies'])\n",
    "print(\"Correlation:\", correlation)\n",
    "\n",
    "#  correlation is close to -1, the relationship between the two columns is consistent in its inverse behavior.\n",
    "#  covariance agrees with correlation in indicating an inverse relationship\n",
    "\n"
   ]
  },
  {
   "cell_type": "markdown",
   "metadata": {},
   "source": [
    "Build a regression model for this data. What will be your outcome variable? What type of regression are you using? Add your responses as comments after your code."
   ]
  },
  {
   "cell_type": "code",
   "execution_count": 6,
   "metadata": {},
   "outputs": [],
   "source": [
    "# Split the data into the independent variable (Age) and dependent variable (Tardies).\n",
    "\n",
    "Age = student_data[['Age']]  \n",
    "Tardies = student_data['Tardies']"
   ]
  },
  {
   "cell_type": "markdown",
   "metadata": {},
   "source": [
    "Plot your regression model on your scatter plot."
   ]
  },
  {
   "cell_type": "code",
   "execution_count": null,
   "metadata": {},
   "outputs": [],
   "source": [
    "from sklearn.metrics import mean_squared_error\n",
    "from sklearn.metrics import r2_score\n",
    "\n",
    "# Using linear regression model from sklearn and fit\n",
    "model = LinearRegression()\n",
    "model.fit(Age, Tardies)\n",
    "\n",
    "# Make predictions\n",
    "Tardies_pred = model.predict(Age)\n",
    "\n",
    "# Evaluate the model\n",
    "mse = mean_squared_error(Tardies, Tardies_pred)\n",
    "r2 = r2_score(Tardies, Tardies_pred)\n",
    "\n",
    "print(\"Mean Squared Error:\", mse)\n",
    "print(\"R-squared:\", r2)\n",
    "\n",
    "# MSE of 1.33  suggests that the model's errors are relatively low but should be considered \n",
    "# in scale.\n",
    "\n",
    "# r2 value of 0.8820 indicates that 88.2% of the variance in the target variable is explained by the model. \n",
    "# i is a good fit for the data.\n"
   ]
  },
  {
   "cell_type": "markdown",
   "metadata": {},
   "source": [
    "Interpret the results of your model. What can conclusions can you draw from your model and how confident in these conclusions are you? Can we say that age is a good predictor of tardiness? Add your responses as comments after your code."
   ]
  },
  {
   "cell_type": "code",
   "execution_count": 8,
   "metadata": {},
   "outputs": [],
   "source": [
    "# MSE of 1.33  suggests that the model's errors are relatively low but should be considered in scale.\n",
    "\n",
    "# # r2 value of 0.8820 indicates that 88.2% of the variance in the target variable is explained by the model. \n",
    "# # i is a good fit for the data.\n",
    "\n",
    "# Based on the current data, age appears to be a strong predictor of tardiness. \n",
    "# However, this conclusion has to be taken with caution due to the small sample. \n",
    "\n",
    "# To be more confident the study needs a larger, more diverse dataset with additional variables that might affect tardiness \n",
    "# (e.g., has a car, how far they live, if they have a job or not). \n",
    "# Test for non-linear relationships or interactions between age and other factors.\n"
   ]
  },
  {
   "cell_type": "markdown",
   "metadata": {},
   "source": [
    "## Challenge 2\n",
    "For the second part of this lab, we will use the vehicles.csv data set. You can find a copy of the dataset in the git hub folder. This dataset includes variables related to vehicle characteristics, including the model, make, and energy efficiency standards, as well as each car's CO2 emissions. As discussed in class the goal of this exercise is to predict vehicles' CO2 emissions based on several independent variables. "
   ]
  },
  {
   "cell_type": "code",
   "execution_count": 9,
   "metadata": {},
   "outputs": [],
   "source": [
    "# Import any libraries you may need & the data\n",
    "vehicles = pd.read_csv(\"../vehicles.csv\")"
   ]
  },
  {
   "cell_type": "markdown",
   "metadata": {},
   "source": [
    "Let's use the following variables for our analysis: Year, Cylinders, Fuel Barrels/Year, Combined MPG, and Fuel Cost/Year. We will use 'CO2 Emission Grams/Mile' as our outcome variable. \n",
    "\n",
    "Calculate the correlations between each of these variables and the outcome. Which variable do you think will be the most important in determining CO2 emissions? Which provides the least amount of helpful information for determining CO2 emissions? Add your responses as comments after your code."
   ]
  },
  {
   "cell_type": "code",
   "execution_count": 10,
   "metadata": {},
   "outputs": [],
   "source": [
    "# Variables in dataframe\n",
    "categorical_variables = (\"Make\", \"Model\", \"Transmission\", \"Drivetrain\", \"Vehicle Class\", \"Fuel Type\")\n",
    "numerical_variables = (\"Engine Displacement\", \"Fuel Barrels/Year\", \"City MPG\", \"Highway MPG\", \"Combined MPG\", \"CO2 Emission Grams/Mile\", \"Fuel Cost/Year\")\n",
    "ordinal_variables = (\"Year\")\n"
   ]
  },
  {
   "cell_type": "code",
   "execution_count": null,
   "metadata": {},
   "outputs": [],
   "source": [
    "# per instructions we will use Year, Cylinders, Fuel Barrels/Year, Combined MPG, and Fuel Cost/Year. \n",
    "# Calculating corr btw predictors and outcome variable\n",
    "variables_for_correlation = ['Year', 'Cylinders', 'Fuel Barrels/Year', 'Combined MPG', 'Fuel Cost/Year', 'CO2 Emission Grams/Mile']\n",
    "correlation_matrix = vehicles[variables_for_correlation].corr()\n",
    "\n",
    "# Extract correlations with the outcome variable\n",
    "correlation_with_co2 = correlation_matrix['CO2 Emission Grams/Mile']\n",
    "\n",
    "# Create a figure with subplots\n",
    "fig, axes = plt.subplots(1, 2, figsize=(16, 6))  # 1 row, 2 columns\n",
    "\n",
    "# 1. Heatmap for correlation matrix\n",
    "sns.heatmap(vehicles[variables_for_correlation].corr(), annot=True, cmap=\"coolwarm\", ax=axes[0])\n",
    "axes[0].set_title(\"Correlation Matrix Heatmap\")\n",
    "\n",
    "# 2.Bar Plot Highlights var w strongest impact\n",
    "abs_corr = correlation_with_co2.drop('CO2 Emission Grams/Mile').abs()\n",
    "abs_corr.sort_values().plot(kind='barh', ax=axes[1], color='skyblue')\n",
    "axes[1].set_title(\"Feature Importance by Correlation\")\n",
    "axes[1].set_xlabel(\"Absolute Correlation\")\n",
    "\n",
    "# Pairplot gives overview of pairwise relationships and potential patterns.\n",
    "# display pairplot separately\n",
    "pairplot = sns.pairplot(vehicles[variables_for_correlation])\n",
    "pairplot.figure.suptitle(\"Pairplot of Variables\", y=1.02)\n",
    "pairplot.figure.set_size_inches(16, 12)\n",
    "\n",
    "# Adjust layout\n",
    "plt.tight_layout()\n",
    "\n",
    "# Show the plots\n",
    "plt.show()\n",
    "pairplot.figure.show()\n",
    "\n",
    "# ## Analysis of Variables for Predicting CO2 Emissions\n",
    "\n",
    "# Most Important Variable:\n",
    "# - Fuel Barrels/Year:\n",
    "#   - var has a strong positive linear relationship w CO2 Emissions\n",
    "#   -  directly represents fuel consumption, a key driver of CO2 emissions.\n",
    "\n",
    "# Least Important Variable:\n",
    "# - Year:\n",
    "#   - The relationship between Year and CO2 Emissions is weak and scattered.\n",
    "#   - While newer vehicles might produce less CO2 due to improvements in technology, \n",
    "#     the variability within each year makes it less useful as a predictor"
   ]
  },
  {
   "cell_type": "markdown",
   "metadata": {},
   "source": [
    "Build a regression model for this data. What type of regression are you using? Add your responses as comments after your code."
   ]
  },
  {
   "cell_type": "code",
   "execution_count": null,
   "metadata": {},
   "outputs": [],
   "source": [
    "from sklearn.linear_model import LinearRegression\n",
    "from sklearn.model_selection import train_test_split\n",
    "from sklearn.metrics import mean_squared_error, r2_score\n",
    "import statsmodels.api as sm\n",
    "\n",
    "\n",
    "# per instructions we will use Year, Cylinders, Fuel Barrels/Year, Combined MPG, and Fuel Cost/Year. \n",
    "# def predictors and target var\n",
    "predictors = vehicles[['Year', 'Cylinders', 'Fuel Barrels/Year', 'Combined MPG', 'Fuel Cost/Year']]\n",
    "target = vehicles['CO2 Emission Grams/Mile']\n",
    "\n",
    "# Split data into training and testing sets\n",
    "predictors_train, predictors_test, target_train, target_test = train_test_split(predictors, target, test_size=0.2, random_state=17)\n",
    "\n",
    "# Create and train the linear regression model\n",
    "model = LinearRegression()\n",
    "model.fit(predictors_train, target_train)\n",
    "\n",
    "# Make predictions on the test set\n",
    "target_pred = model.predict(predictors_test)\n",
    "\n",
    "# Evaluate the sklearn model\n",
    "mse = mean_squared_error(target_test, target_pred)\n",
    "r2 = r2_score(target_test, target_pred)\n",
    "print(f\"Mean Squared Error (MSE): {mse:.2f}, R-squared (R2): {r2:.2f}\")\n",
    "\n",
    "\n",
    "# Add a constant term to the predictors (for the intercept)\n",
    "predictors_with_const = sm.add_constant(predictors)\n",
    "\n",
    "# Choose model based on the data structure:\n",
    "#\n",
    "# Linear Regression: Use OLS, WLS, or GLS for standard regression problems.\n",
    "# OLS: Use when residuals have constant variance, and no correlation among errors is evident (standard regression).\n",
    "# WLS: Use when errors have non-constant variance , and you can define appropriate weights.\n",
    "# GLS: Use when errors have non-constant variance and/or are correlated, especially in time series or clustered data.\n",
    "# \n",
    "# Generalized Linear Models: Use GLM for non-Gaussian targets (e.g., Poisson, logistic).\n",
    "# Time Series: Use ARIMA, SARIMAX, or ETS for time series data.\n",
    "\n",
    "# Fit the regression model: Ordinary Least Squares minimizes the sum of the \n",
    "# squared residuals (errors) between the observed values (actual) and the predicted values (fitted by the model)\n",
    "model_ols = sm.OLS(target, predictors_with_const).fit()\n",
    "print(\"OLS Summary:\")\n",
    "print(model_ols.summary())\n",
    "\n",
    "# Fit the regression model: Generalized Least Squares extends OLS to handle both non-constant variance and correlation among errors.\n",
    "\n",
    "# Residuals and diagonal covariance matrix\n",
    "residuals = model_ols.resid\n",
    "sigma = np.diag(residuals**2)\n",
    "\n",
    "# # Fit the GLS model using sigma\n",
    "# model_gls = sm.GLS(target, predictors_with_const, sigma=sigma).fit()\n",
    "# print(\"GLS Summary:\")\n",
    "# print(model_gls.summary())\n",
    "\n"
   ]
  },
  {
   "cell_type": "markdown",
   "metadata": {},
   "source": [
    "Print your regression summary, and interpret the results. What are the most important varibles in your model and why? What can conclusions can you draw from your model and how confident in these conclusions are you? Add your responses as comments after your code."
   ]
  },
  {
   "cell_type": "code",
   "execution_count": null,
   "metadata": {},
   "outputs": [],
   "source": [
    "# | Variable            | Coefficient | t-value** | **p-value** | **Impact**                                                                 |\n",
    "# |---------------------|------------|-------------|-------------|-----------------------------------------------------------------------------|\n",
    "# | Fuel Barrels/Year   | 19.05      | 311.6       | < 0.0001    | Largest positive impact. Strongly correlated with fuel consumption.         |\n",
    "# | Combined MPG        | -3.04      | -71.6       | < 0.0001    | Largest negative impact. higher fuel efficiency reduces emissions. |\n",
    "# | Fuel Cost/Year      | 0.0323     | 67.0        | < 0.0001    | Positive impact.  indirect relationship with fuel consumption.       |\n",
    "# | Year                | -0.3206    | -33.06      | < 0.0001    | Negative impact. Newer vehicles have lower emissions.     |\n",
    "# | Cylinders           | 1.8788     | 22.6        | < 0.0001    | Positive impact. More cylinders mean larger engines and more fuel. |\n",
    "\n",
    "# Conclusions from the Model\n",
    "# R2 0.981 indicates that 98.1% of the variance in CO2 Emission Grams/Mile is explained by the predictors.\n",
    "# This is a very strong result, suggesting a good fit to the data.\n",
    "\n",
    "# F-statistic: 3.687e+05\n",
    "# A very high value with a p-value = 0.00 shows that the model as a whole is statistically significant.\n",
    "\n",
    "# Key Drivers of Emissions\n",
    "# - Fuel consumption (Fuel Barrels/Year) is the primary driver of CO2 emissions.\n",
    "# - Fuel efficiency (Combined MPG) significantly reduces emissions\n",
    "# - Vehicle characteristics like Cylinders and Year also contribute to emissions but to a lesser extent."
   ]
  },
  {
   "cell_type": "markdown",
   "metadata": {},
   "source": [
    "## Bonus Challenge: Error Analysis"
   ]
  },
  {
   "cell_type": "markdown",
   "metadata": {},
   "source": [
    "I am suspicious about the last few parties I have thrown: it seems that the more people I invite the more people are unable to attend. To know if my hunch is supported by data, I have decided to do an analysis. I have collected my data in the table below, where X is the number of people I invited, and Y is the number of people who attended. \n",
    "\n",
    "|  X |  Y |\n",
    "|----|----|\n",
    "| 1  |  1 |\n",
    "| 3  |  2 |\n",
    "| 4  |  4 |\n",
    "| 6  |  4 |\n",
    "| 8  |  5 |\n",
    "| 9  |  7 |\n",
    "| 11 |  8 |\n",
    "| 14 |  13 |"
   ]
  },
  {
   "cell_type": "markdown",
   "metadata": {},
   "source": [
    "We want to know if the relationship modeled by the two random variables is linear or not, and therefore if it is appropriate to model it with a linear regression. \n",
    "First, build a dataframe with the data. "
   ]
  },
  {
   "cell_type": "code",
   "execution_count": null,
   "metadata": {},
   "outputs": [],
   "source": [
    "import pandas as pd\n",
    "\n",
    "data = pd.DataFrame({\n",
    "    'people_invited': [1, 3, 4, 6, 8, 9, 11, 14],\n",
    "    'people_attended': [1, 2, 4, 4, 5, 7, 8, 13]\n",
    "})\n",
    "\n"
   ]
  },
  {
   "cell_type": "markdown",
   "metadata": {},
   "source": [
    "Draw a dispersion diagram (scatter plot) for the data, and fit a regression line."
   ]
  },
  {
   "cell_type": "code",
   "execution_count": null,
   "metadata": {},
   "outputs": [],
   "source": [
    "import matplotlib.pyplot as plt\n",
    "import numpy as np\n",
    "from sklearn.linear_model import LinearRegression\n",
    "import statsmodels.api as sm\n",
    "\n",
    "# Prepare data for regression\n",
    "people_invited = data['people_invited'].values.reshape(-1, 1)\n",
    "people_attended = data['people_attended'].values\n",
    "\n",
    "# Fit the linear regression model\n",
    "model = LinearRegression()\n",
    "model.fit(people_invited, people_attended)\n",
    "\n",
    "# Print coefficients and intercept\n",
    "print(f\"Intercept: {model.intercept_}\")\n",
    "print(f\"Coefficients: {model.coef_}\")\n",
    "\n",
    "# Calculate and print R²\n",
    "r2 = model.score(people_invited, people_attended)\n",
    "print(f\"R-squared (R²): {r2}\")\n",
    "\n",
    "# Make predictions for the regression line\n",
    "people_attended_pred = model.predict(people_invited)\n",
    "\n",
    "\n",
    "# Add a constant term to predictors\n",
    "people_invited_with_const = sm.add_constant(people_invited)\n",
    "\n",
    "# Fit the OLS model\n",
    "ols_model = sm.OLS(people_attended, people_invited_with_const).fit()\n",
    "\n",
    "# Print the full summary\n",
    "print(ols_model.summary())\n",
    "\n",
    "\n",
    "# Plot the scatter plot and regression line\n",
    "plt.figure(figsize=(8, 6))\n",
    "plt.scatter(people_invited, people_attended, color='blue', label='Data Points')  # Scatter plot\n",
    "plt.plot(people_invited, people_attended_pred, color='red', label='Regression Line')  # Regression line\n",
    "plt.title('Scatter Plot with Regression Line')\n",
    "plt.xlabel('people_invited')\n",
    "plt.ylabel('people_attended')\n",
    "plt.legend()\n",
    "plt.grid()\n",
    "plt.show()\n"
   ]
  },
  {
   "cell_type": "markdown",
   "metadata": {},
   "source": [
    "What do you see? What does this plot tell you about the likely relationship between the variables? Print the results from your regression."
   ]
  },
  {
   "cell_type": "code",
   "execution_count": null,
   "metadata": {},
   "outputs": [],
   "source": [
    "# Intercept: -0.43939393939393945\n",
    "# Coefficients: [0.84848485]\n",
    "# R-squared (R²): 0.9316696375519905\n",
    "#                             OLS Regression Results                            \n",
    "# ==============================================================================\n",
    "# Dep. Variable:                      y   R-squared:                       0.932\n",
    "# Model:                            OLS   Adj. R-squared:                  0.920\n",
    "# Method:                 Least Squares   F-statistic:                     81.81\n",
    "# Date:                Wed, 08 Jan 2025   Prob (F-statistic):           0.000102\n",
    "# Time:                        22:22:39   Log-Likelihood:                -10.800\n",
    "# No. Observations:                   8   AIC:                             25.60\n",
    "# Df Residuals:                       6   BIC:                             25.76\n",
    "# Df Model:                           1                                         \n",
    "# Covariance Type:            nonrobust                                         \n",
    "# ==============================================================================\n",
    "#                  coef    std err          t      P>|t|      [0.025      0.975]\n",
    "# ------------------------------------------------------------------------------\n",
    "# const         -0.4394      0.759     -0.579      0.584      -2.297       1.418\n",
    "# x1             0.8485      0.094      9.045      0.000       0.619       1.078\n",
    "# ==============================================================================\n",
    "# Omnibus:                        0.556   Durbin-Watson:                   1.867\n",
    "# Prob(Omnibus):                  0.757   Jarque-Bera (JB):                0.514\n",
    "# Skew:                           0.261   Prob(JB):                        0.773\n",
    "# Kurtosis:                       1.873   Cond. No.                         16.3\n",
    "# ==============================================================================\n",
    "\n",
    "# Notes:\n",
    "# [1] Standard Errors assume that the covariance matrix of the errors is correctly specified.\n",
    "\n",
    "\n",
    "# Positive Relationship: Inviting more people generally leads to more attendees."
   ]
  },
  {
   "cell_type": "markdown",
   "metadata": {},
   "source": [
    "Do you see any problematic points, or outliers, in your data? Remove these points and recalculate your regression. Print the new dispersion diagram with your new model and the results of your model. "
   ]
  },
  {
   "cell_type": "code",
   "execution_count": null,
   "metadata": {},
   "outputs": [],
   "source": [
    "from scipy.stats import zscore\n",
    "\n",
    "# Calculate Z-scores for both variables\n",
    "data['Z_Score_people_invited'] = zscore(data['people_invited'])\n",
    "data['Z_Score_people_attended'] = zscore(data['people_attended'])\n",
    "\n",
    "# Identify outliers\n",
    "outliers = data[(abs(data['Z_Score_people_invited']) > 3) | (abs(data['Z_Score_people_attended']) > 3)]\n",
    "\n",
    "# Check if the outliers dataframe is empty\n",
    "if outliers.empty:\n",
    "    print(\"There are no extreme outliers according to the Z-score method.\")\n",
    "else:\n",
    "    print(\"Outliers:\\n\", outliers)\n"
   ]
  },
  {
   "cell_type": "markdown",
   "metadata": {},
   "source": [
    "What changed? Based on the results of the two models and your graphs, what can you say about the form of the data with the problematic point and without it?"
   ]
  },
  {
   "cell_type": "markdown",
   "metadata": {},
   "source": [
    "I don't see a reason to discard any points. "
   ]
  }
 ],
 "metadata": {
  "kernelspec": {
   "display_name": "Python 3",
   "language": "python",
   "name": "python3"
  },
  "language_info": {
   "codemirror_mode": {
    "name": "ipython",
    "version": 3
   },
   "file_extension": ".py",
   "mimetype": "text/x-python",
   "name": "python",
   "nbconvert_exporter": "python",
   "pygments_lexer": "ipython3",
   "version": "3.10.10"
  }
 },
 "nbformat": 4,
 "nbformat_minor": 2
}
