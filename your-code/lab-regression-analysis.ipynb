{
 "cells": [
  {
   "cell_type": "markdown",
   "metadata": {},
   "source": [
    "# Lab: Regression Analysis"
   ]
  },
  {
   "cell_type": "markdown",
   "metadata": {},
   "source": [
    "### Before you start:\n",
    "\n",
    "* Read the README.md file\n",
    "* Comment as much as you can and use the resources (README.md file) \n",
    "\n",
    "Happy learning!"
   ]
  },
  {
   "cell_type": "markdown",
   "metadata": {},
   "source": [
    "## Challenge 1\n",
    "I work at a coding bootcamp, and I have developed a theory that the younger my students are, the more often they are late to class. In order to test my hypothesis, I have collected some data in the following table:\n",
    "\n",
    "| StudentID | Age | Tardies |\n",
    "|--------|-----|------------|\n",
    "| 1      | 17  | 10         |\n",
    "| 2      | 51  | 1          |\n",
    "| 3      | 27  | 5          |\n",
    "| 4      | 21  | 9         |\n",
    "| 5      | 36  |  4         |\n",
    "| 6      | 48  |  2         |\n",
    "| 7      | 19  |  9         |\n",
    "| 8      | 26  | 6          |\n",
    "| 9      | 54  |  0         |\n",
    "| 10     | 30  |  3         |"
   ]
  },
  {
   "cell_type": "code",
   "execution_count": 1,
   "metadata": {},
   "outputs": [],
   "source": [
    "import pandas as pd\n",
    "import numpy as np\n",
    "import plotly.express as px\n",
    "import statsmodels.formula.api as smf\n",
    "from sklearn.linear_model import LinearRegression\n",
    "import matplotlib.pyplot as plt\n",
    "import seaborn as sns"
   ]
  },
  {
   "cell_type": "markdown",
   "metadata": {},
   "source": [
    "Use this command to create a dataframe with the data provided in the table. \n",
    "~~~~\n",
    "student_data = pd.DataFrame({'Age': [17,51,27,21,36,48,19,26,54,30], 'Tardies': [10,1,5,9,4,2,9,6,0,3]})\n",
    "~~~~"
   ]
  },
  {
   "cell_type": "code",
   "execution_count": null,
   "metadata": {},
   "outputs": [],
   "source": [
    "# Your code here. \n",
    "student_data = pd.DataFrame({'Age': [17,51,27,21,36,48,19,26,54,30], 'Tardies': [10,1,5,9,4,2,9,6,0,3]})\n",
    "student_data"
   ]
  },
  {
   "cell_type": "markdown",
   "metadata": {},
   "source": [
    "Draw a dispersion diagram (scatter plot) for the data."
   ]
  },
  {
   "cell_type": "code",
   "execution_count": null,
   "metadata": {},
   "outputs": [],
   "source": [
    "# Draw a scatter plot for the data\n",
    "sns.scatterplot(data=student_data, x='Age', y='Tardies')\n",
    "plt.show()"
   ]
  },
  {
   "cell_type": "markdown",
   "metadata": {},
   "source": [
    "Do you see a trend? Can you make any hypotheses about the relationship between age and number of tardies?"
   ]
  },
  {
   "cell_type": "markdown",
   "metadata": {},
   "source": [
    "> It seems that there is an inverse relationship between age and number of tardies. The younger the student, the more tardies they have.The points suggest that there is an almost linear relationship between the two variables (age and tardies)."
   ]
  },
  {
   "cell_type": "markdown",
   "metadata": {},
   "source": [
    "Calculate the covariance and correlation of the variables in your plot. What is the difference between these two measures? Compare their values. What do they tell you in this case? Add your responses as comments after your code."
   ]
  },
  {
   "cell_type": "code",
   "execution_count": null,
   "metadata": {},
   "outputs": [],
   "source": [
    "# Calculate covariance and correlation of the variables.\n",
    "covariance = np.cov(student_data['Age'], student_data['Tardies'])\n",
    "correlation = np.corrcoef(student_data['Age'], student_data['Tardies'])\n",
    "display(covariance)\n",
    "display(correlation)\n",
    "print(f'Covariance: {covariance[0][1]}')\n",
    "print(f'Correlation: {correlation[0][1]}')\n",
    "\n",
    "print(\"The covariance is negative, which means that the variables are inversely related. The correlation is also negative and close to -1, which confirms there is a linear relationship between the variables.\")"
   ]
  },
  {
   "cell_type": "markdown",
   "metadata": {},
   "source": [
    "Build a regression model for this data. What will be your outcome variable? What type of regression are you using? Add your responses as comments after your code."
   ]
  },
  {
   "cell_type": "code",
   "execution_count": null,
   "metadata": {},
   "outputs": [],
   "source": [
    "# Build a linear regression model\n",
    "model = smf.ols(formula='Tardies ~ Age', data=student_data)\n",
    "results = model.fit()\n",
    "print(results.summary())\n",
    "print(results.params)\n",
    "\n",
    "'''I used the OLS regression model from the statsmodels library to build a linear regression model. \n",
    "The model shows that the coefficient for the Age variable is -0.2428 and the intercept is 12.8888  \n",
    "The R-squared value is 0.8823, which means that 88.23% of the variance in the Tardies variable can \n",
    "be explained by the Age variable.'''"
   ]
  },
  {
   "cell_type": "markdown",
   "metadata": {},
   "source": [
    "Plot your regression model on your scatter plot."
   ]
  },
  {
   "cell_type": "code",
   "execution_count": null,
   "metadata": {},
   "outputs": [],
   "source": [
    "x = student_data['Age']\n",
    "y = student_data['Tardies']\n",
    "\n",
    "a0, a1 = results.params\n",
    "plt.scatter(x, y, color='red')  # Scatter plot\n",
    "\n",
    "# Plot the regression line\n",
    "plt.plot([x.min(), x.max()], [a0 + a1 * x.min(), a0 + a1 * x.max()], alpha=0.8, color='blue')\n",
    "\n",
    "# Add pointed black lines to illustrate the errors\n",
    "for xi, yi in zip(x, y):\n",
    "    plt.plot([xi]*2, [yi, a0 + a1 * xi], \"k:\")\n",
    "\n",
    "# Optionally restrict the domain\n",
    "# plt.xlim(2, 9); plt.ylim(0, 20)\n",
    "\n",
    "plt.xlabel('Age')\n",
    "plt.ylabel('Tardies')\n",
    "plt.title('Regression Line and Errors')\n",
    "plt.show()\n",
    "\n",
    "print(a0, a1)"
   ]
  },
  {
   "cell_type": "markdown",
   "metadata": {},
   "source": [
    "Interpret the results of your model. What can conclusions can you draw from your model and how confident in these conclusions are you? Can we say that age is a good predictor of tardiness? Add your responses as comments after your code."
   ]
  },
  {
   "cell_type": "markdown",
   "metadata": {},
   "source": [
    "> The model indicates that there is a relationship between age and tardiness. The older the person, the less tardy they are. From the OSL, we obtained an R2 value of 0.88, which indicates that 88% of the variance in tardiness can be explained by age. The high value indicates that age is a good predictor of tardines, yet these results may not be accurate because the sample size is very small. Therefore, generalizing these results to the entire population may not be appropriate. More data is required to make a more accurate prediction."
   ]
  },
  {
   "cell_type": "markdown",
   "metadata": {},
   "source": [
    "### Extra practice with other libraries (sns and sklearn), not in the original lab"
   ]
  },
  {
   "cell_type": "code",
   "execution_count": null,
   "metadata": {},
   "outputs": [],
   "source": [
    "# Plot the regression line on scatter plot using sns for learning purposes\n",
    "sns.regplot(data=student_data, x='Age', y='Tardies', ci=None, line_kws={'color':'red'})\n",
    "# plot title\n",
    "plt.title('Tardies vs Age (sns.regplot)')\n",
    "plt.show()"
   ]
  },
  {
   "cell_type": "code",
   "execution_count": null,
   "metadata": {},
   "outputs": [],
   "source": [
    "# Build linear regresion model and graph it using sklearn for learning purposes\n",
    "\n",
    "lm = LinearRegression()\n",
    "lm.fit(student_data[['Age']], student_data['Tardies'])\n",
    "print(f'Intercept: {lm.intercept_}')\n",
    "print(f'Coefficient: {lm.coef_}')\n",
    "\n",
    "age_min, age_max = student_data['Age'].min(), student_data['Age'].max()\n",
    "\n",
    "age_model = np.arange(age_min, age_max).reshape(-1, 1)                  # Create a range of ages\n",
    "tardies_model = [lm.intercept_ + lm.coef_ * age for age in age_model]   # Calculate the tardies using the model\n",
    "\n",
    "plt.scatter(student_data['Age'], student_data['Tardies'])               # Scatter plot\n",
    "plt.plot(age_model, tardies_model, color='red')                         # Regression line\n",
    "plt.title('Tardies vs Age (sklearn Linear Regression)')\n",
    "plt.show()"
   ]
  },
  {
   "cell_type": "markdown",
   "metadata": {},
   "source": [
    "## Challenge 2\n",
    "For the second part of this lab, we will use the vehicles.csv data set. You can find a copy of the dataset in the git hub folder. This dataset includes variables related to vehicle characteristics, including the model, make, and energy efficiency standards, as well as each car's CO2 emissions. As discussed in class the goal of this exercise is to predict vehicles' CO2 emissions based on several independent variables. "
   ]
  },
  {
   "cell_type": "code",
   "execution_count": 59,
   "metadata": {},
   "outputs": [],
   "source": [
    "# Import any libraries you may need & the data\n",
    "vehicles = pd.read_csv(\"../vehicles.csv\")"
   ]
  },
  {
   "cell_type": "code",
   "execution_count": null,
   "metadata": {},
   "outputs": [],
   "source": [
    "display(vehicles.head())\n",
    "display(vehicles.describe())\n",
    "vehicles.info()"
   ]
  },
  {
   "cell_type": "markdown",
   "metadata": {},
   "source": [
    "Let's use the following variables for our analysis: Year, Cylinders, Fuel Barrels/Year, Combined MPG, and Fuel Cost/Year. We will use 'CO2 Emission Grams/Mile' as our outcome variable. \n",
    "\n",
    "Calculate the correlations between each of these variables and the outcome. Which variable do you think will be the most important in determining CO2 emissions? Which provides the least amount of helpful information for determining CO2 emissions? Add your responses as comments after your code."
   ]
  },
  {
   "cell_type": "code",
   "execution_count": null,
   "metadata": {},
   "outputs": [],
   "source": [
    "# Your code here.\n",
    "\n",
    "cars = vehicles[['Year', 'Cylinders', 'Fuel Barrels/Year', 'Combined MPG', 'Fuel Cost/Year']]\n",
    "co2 = vehicles['CO2 Emission Grams/Mile']\n",
    "\n",
    "# Calculate the correlations between each of the variables and the CO2 emissions\n",
    "correlations = cars.corrwith(co2) # the same result as np.corrcoef\n",
    "display(correlations)\n",
    "\n",
    "''' I think the variables that will be the most important in determining CO2 emissions are 'Fuel Barrels/Year', 'Fuel Cost/Year, and probably 'Combined MPG'. \n",
    "My guess is that the other variables will not provide too much information'''"
   ]
  },
  {
   "cell_type": "markdown",
   "metadata": {},
   "source": [
    "Build a regression model for this data. What type of regression are you using? Add your responses as comments after your code."
   ]
  },
  {
   "cell_type": "code",
   "execution_count": null,
   "metadata": {},
   "outputs": [],
   "source": [
    "import statsmodels.api as sm\n",
    "\n",
    "# Add a constant to the independent variables matrix (for the intercept)\n",
    "X = sm.add_constant(cars)\n",
    "\n",
    "# Fit the OLS regression model\n",
    "model = sm.OLS(co2, X).fit()\n",
    "\n",
    "'''\n",
    "I used the OLS regression model from the statsmodels library to build a linear regression model.\n",
    "Since the model has multiple independent variables, I added a constant to the independent variables \n",
    "matrix to account for the intercept, and the model does not give us a line, but a hyperplane, since all\n",
    "variables are used to predict the CO2 emissions.'''"
   ]
  },
  {
   "cell_type": "markdown",
   "metadata": {},
   "source": [
    "Print your regression summary, and interpret the results. What are the most important varibles in your model and why? What can conclusions can you draw from your model and how confident in these conclusions are you? Add your responses as comments after your code."
   ]
  },
  {
   "cell_type": "code",
   "execution_count": null,
   "metadata": {},
   "outputs": [],
   "source": [
    "# Your code here.\n",
    "print(model.summary())"
   ]
  },
  {
   "cell_type": "markdown",
   "metadata": {},
   "source": [
    "> The regression model indicates that the most important variable in determining CO2 emissions is Fuel Barrels/Year. This is because it has the highest coefficient value. The R2 value of 0.98 indicates that 98% of the variance in CO2 emissions can be explained by the independent variables. The high R2 value suggests that the model is a good fit for the data. However, the high R2 value may also indicate overfitting. Therefore, it is important to test the model on new data to determine its accuracy.\n",
    ">\n",
    "> We can use the coefficients in the summary to get the equation of the hyperplane. The coefficients\n",
    ">\n",
    "> <div align = \"center\">\n",
    "> \n",
    "> | Variable            | Coefficient  |\n",
    "> |---------------------:|:--------------|\n",
    "> | const               | 769.8883     |\n",
    "> | Year                | -0.3206      |\n",
    "> | Cylinders           | 1.8788       |\n",
    "> | Fuel Barrels/Year   | 19.0529      |\n",
    "> | Combined MPG        | -3.0404      |\n",
    "> | Fuel Cost/Year      | 0.0323       |\n",
    "> \n",
    "> </div>\n",
    ">\n",
    "> give us the equation\n",
    "> $$ y = 769.8883 - 0.3206 \\times \\text{Year} + 1.8788 \\times \\text{Cylinders} + 19.0529 \\times \\text{Fuel Barrels/Year} - 3.0404 \\times \\text{Combined MPG} + 0.0323 \\times \\text{Fuel Cost/Year} $$"
   ]
  },
  {
   "cell_type": "markdown",
   "metadata": {},
   "source": [
    "## Bonus Challenge: Error Analysis"
   ]
  },
  {
   "cell_type": "markdown",
   "metadata": {},
   "source": [
    "I am suspicious about the last few parties I have thrown: it seems that the more people I invite the more people are unable to attend. To know if my hunch is supported by data, I have decided to do an analysis. I have collected my data in the table below, where X is the number of people I invited, and Y is the number of people who attended. \n",
    "\n",
    "|  X |  Y |\n",
    "|----|----|\n",
    "| 1  |  1 |\n",
    "| 3  |  2 |\n",
    "| 4  |  4 |\n",
    "| 6  |  4 |\n",
    "| 8  |  5 |\n",
    "| 9  |  7 |\n",
    "| 11 |  8 |\n",
    "| 14 |  13 |"
   ]
  },
  {
   "cell_type": "markdown",
   "metadata": {},
   "source": [
    "We want to know if the relationship modeled by the two random variables is linear or not, and therefore if it is appropriate to model it with a linear regression. \n",
    "First, build a dataframe with the data. "
   ]
  },
  {
   "cell_type": "code",
   "execution_count": null,
   "metadata": {},
   "outputs": [],
   "source": [
    "# Your code here.\n",
    "import pandas as pd\n",
    "df = pd.DataFrame({'Invited': [1,3,4,6,8,9,11,14], 'Attended': [1,2,4,4,5,7,8,13]})\n",
    "display(df.shape)\n",
    "df.head(15)"
   ]
  },
  {
   "cell_type": "markdown",
   "metadata": {},
   "source": [
    "Draw a dispersion diagram (scatter plot) for the data, and fit a regression line."
   ]
  },
  {
   "cell_type": "code",
   "execution_count": null,
   "metadata": {},
   "outputs": [],
   "source": [
    "# Your code here.\n",
    "import matplotlib.pyplot as plt\n",
    "import seaborn as sns\n",
    "\n",
    "# scater plot the points\n",
    "sns.scatterplot(data=df, x='Invited', y='Attended')\n",
    "plt.show()"
   ]
  },
  {
   "cell_type": "code",
   "execution_count": null,
   "metadata": {},
   "outputs": [],
   "source": [
    "import numpy as np\n",
    "import statsmodels.formula.api as smf\n",
    "\n",
    "# Calculate covariance and correlation of the variables.\n",
    "covariance = np.cov(df['Invited'], df['Attended'])\n",
    "correlation = np.corrcoef(df['Invited'], df['Attended'])\n",
    "print(f'Covariance: {covariance[0][1]}')\n",
    "print(f'Correlation: {correlation[0][1]}')\n",
    "\n",
    "# Build a linear regression model\n",
    "model = smf.ols(formula='Attended ~ Invited', data=df)\n",
    "results = model.fit()\n",
    "print(results.summary())\n",
    "\n",
    "# Plot the regression line and scatter plot\n",
    "x = df['Invited']\n",
    "y = df['Attended']\n",
    "\n",
    "a0, a1 = results.params\n",
    "plt.scatter(x, y, color='red')  # Scatter plot\n",
    "\n",
    "# Plot the regression line\n",
    "plt.plot([x.min(), x.max()], [a0 + a1 * x.min(), a0 + a1 * x.max()], alpha=0.8, color='blue')\n",
    "\n",
    "# Add pointed black lines to illustrate the errors\n",
    "for xi, yi in zip(x, y):\n",
    "    plt.plot([xi]*2, [yi, a0 + a1 * xi], \"k:\")\n",
    "plt.xlabel('Invited')\n",
    "plt.ylabel('Attended')\n",
    "plt.title('Regression Line and Errors')\n",
    "plt.show()"
   ]
  },
  {
   "cell_type": "markdown",
   "metadata": {},
   "source": [
    "What do you see? What does this plot tell you about the likely relationship between the variables? Print the results from your regression."
   ]
  },
  {
   "cell_type": "markdown",
   "metadata": {},
   "source": [
    "> The plot suggests that there is a linear relationship between the number of people invited and the number of people who attend. The regression model indicates that the relationship is linear. The R2 value of 0.93 indicates that 93% of the variance in the number of people who attend can be explained by the number of people invited. The high R2 value suggests that the model is a good fit for the data."
   ]
  },
  {
   "cell_type": "markdown",
   "metadata": {},
   "source": [
    "Do you see any problematic points, or outliers, in your data? Remove these points and recalculate your regression. Print the new dispersion diagram with your new model and the results of your model. "
   ]
  },
  {
   "cell_type": "code",
   "execution_count": null,
   "metadata": {},
   "outputs": [],
   "source": [
    "# Remove last datapoint\n",
    "df2 = df[:-1]\n",
    "display(df2.shape)\n",
    "\n",
    "covariance = np.cov(df2['Invited'], df2['Attended'])\n",
    "correlation = np.corrcoef(df2['Invited'], df2['Attended'])\n",
    "print(f'Covariance: {covariance[0][1]}')\n",
    "print(f'Correlation: {correlation[0][1]}')\n",
    "\n",
    "# Build a linear regression model\n",
    "model = smf.ols(formula='Attended ~ Invited', data=df2)\n",
    "results = model.fit()\n",
    "print(results.summary())\n",
    "\n",
    "# Plot the regression line and scatter plot\n",
    "x = df2['Invited']\n",
    "y = df2['Attended']\n",
    "\n",
    "a0, a1 = results.params\n",
    "plt.scatter(x, y, color='red')  # Scatter plot\n",
    "\n",
    "# Plot the regression line\n",
    "plt.plot([x.min(), x.max()], [a0 + a1 * x.min(), a0 + a1 * x.max()], alpha=0.8, color='blue')\n",
    "\n",
    "# Add pointed black lines to illustrate the errors\n",
    "for xi, yi in zip(x, y):\n",
    "    plt.plot([xi]*2, [yi, a0 + a1 * xi], \"k:\")\n",
    "plt.xlabel('Invited')\n",
    "plt.ylabel('Attended')\n",
    "plt.title('Regression Line and Errors')\n",
    "plt.show()\n"
   ]
  },
  {
   "cell_type": "markdown",
   "metadata": {},
   "source": [
    "What changed? Based on the results of the two models and your graphs, what can you say about the form of the data with the problematic point and without it?"
   ]
  },
  {
   "cell_type": "markdown",
   "metadata": {},
   "source": [
    "> Removing the problematic point gave us a sligtly larger R2 (0.943), and the datapoints are closer to the regression line (that is, the errors are smaller, also confirmed with the \"std error\" value in the summary). The coefficient values also changed, but the general trend of the data remains the same."
   ]
  }
 ],
 "metadata": {
  "kernelspec": {
   "display_name": "base",
   "language": "python",
   "name": "python3"
  },
  "language_info": {
   "codemirror_mode": {
    "name": "ipython",
    "version": 3
   },
   "file_extension": ".py",
   "mimetype": "text/x-python",
   "name": "python",
   "nbconvert_exporter": "python",
   "pygments_lexer": "ipython3",
   "version": "3.12.7"
  }
 },
 "nbformat": 4,
 "nbformat_minor": 2
}
