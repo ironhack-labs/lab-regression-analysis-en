{
 "cells": [
  {
   "cell_type": "markdown",
   "metadata": {},
   "source": [
    "# Lab: Regression Analysis"
   ]
  },
  {
   "cell_type": "markdown",
   "metadata": {},
   "source": [
    "## Challenge 1\n",
    "I work at a coding bootcamp, and I have developed a theory that the younger my students are, the more often they are late to class. In order to test my hypothesis, I have collected some data in the following table:\n",
    "\n",
    "| StudentID | Age | Tardies |\n",
    "|--------|-----|------------|\n",
    "| 1      | 17  | 10         |\n",
    "| 2      | 51  | 1          |\n",
    "| 3      | 27  | 5          |\n",
    "| 4      | 21  | 9         |\n",
    "| 5      | 36  |  4         |\n",
    "| 6      | 48  |  2         |\n",
    "| 7      | 19  |  9         |\n",
    "| 8      | 26  | 6          |\n",
    "| 9      | 54  |  0         |\n",
    "| 10     | 30  |  3         |"
   ]
  },
  {
   "cell_type": "code",
   "execution_count": null,
   "metadata": {},
   "outputs": [],
   "source": [
    "import pandas as pd\n",
    "import numpy as np\n",
    "import plotly.express as px\n",
    "import statsmodels.formula.api as smf\n",
    "from sklearn.linear_model import LinearRegression\n",
    "import matplotlib.pyplot as plt\n",
    "import seaborn as sns"
   ]
  },
  {
   "cell_type": "markdown",
   "metadata": {},
   "source": [
    "Use this command to create a dataframe with the data provided in the table. \n",
    "~~~~\n",
    "student_data = pd.DataFrame({'Age': [17,51,27,21,36,48,19,26,54,30], 'Tardies': [10,1,5,9,4,2,9,6,0,3]})\n",
    "~~~~"
   ]
  },
  {
   "cell_type": "code",
   "execution_count": null,
   "metadata": {},
   "outputs": [],
   "source": [
    "student_data = pd.DataFrame({'Age': [17,51,27,21,36,48,19,26,54,30], 'Tardies': [10,1,5,9,4,2,9,6,0,3]})"
   ]
  },
  {
   "cell_type": "markdown",
   "metadata": {},
   "source": [
    "Draw a dispersion diagram (scatter plot) for the data."
   ]
  },
  {
   "cell_type": "code",
   "execution_count": null,
   "metadata": {},
   "outputs": [],
   "source": [
    "# Create scatter plot\n",
    "plt.figure(figsize=(8, 6))  # Set the figure size\n",
    "sns.scatterplot(x='Age', y='Tardies', data=student_data)\n",
    "\n",
    "# Add labels and title\n",
    "plt.xlabel('Age')\n",
    "plt.ylabel('Tardies')\n",
    "plt.title('Scatter Plot of Age vs. Tardies')\n",
    "\n",
    "# Show the plot\n",
    "plt.show()"
   ]
  },
  {
   "cell_type": "markdown",
   "metadata": {},
   "source": [
    "Do you see a trend? Can you make any hypotheses about the relationship between age and number of tardies?"
   ]
  },
  {
   "cell_type": "markdown",
   "metadata": {},
   "source": [
    "### Do you see a trend?\n",
    "\n",
    "The scatter plot shows a potential inverse trend between age and the number of tardies—generally, as age increases, the number of tardies decreases.\n",
    "\n",
    "### Can you make any hypotheses about the relationship between age and number of tardies?\n",
    "\n",
    "- **Maturity Impact**: Older individuals might have better time management skills, leading to fewer tardies.\n",
    "- **Responsibilities and Priorities**: Older individuals could have different responsibilities or priorities that reduce tardiness.\n",
    "- **Environment or Routine**: Younger individuals might experience less structured routines, contributing to higher tardiness."
   ]
  },
  {
   "cell_type": "markdown",
   "metadata": {},
   "source": [
    "Calculate the covariance and correlation of the variables in your plot. What is the difference between these two measures? Compare their values. What do they tell you in this case? Add your responses as comments after your code."
   ]
  },
  {
   "cell_type": "code",
   "execution_count": null,
   "metadata": {},
   "outputs": [],
   "source": [
    "# Calculate covariance\n",
    "covariance = student_data['Age'].cov(student_data['Tardies'])\n",
    "\n",
    "# Calculate correlation\n",
    "correlation = student_data['Age'].corr(student_data['Tardies'])\n",
    "\n",
    "# Print results\n",
    "print(f\"Covariance between Age and Tardies: {covariance:.4f}\")\n",
    "print(f\"Correlation between Age and Tardies: {correlation:.4f}\")\n"
   ]
  },
  {
   "cell_type": "markdown",
   "metadata": {},
   "source": [
    "#### Comments on results\n",
    "\n",
    "- Covariance: Covariance measures the direction of the linear relationship between Age and Tardies. \n",
    "\n",
    "    In this case, a negative covariance indicates that as Age increases, Tardies tend to decrease. However, the magnitude of covariance depends on the units of the variables, making it hard to interpret directly.\n",
    "\n",
    "- Correlation: Correlation standardizes this relationship, providing a value between -1 and 1. A correlation near -1 indicates a strong negative linear relationship. \n",
    "\n",
    "    In this case, the correlation value gives a clear indication of the strength and direction of the relationship without being affected by the variables' units.\n"
   ]
  },
  {
   "cell_type": "markdown",
   "metadata": {},
   "source": [
    "Build a regression model for this data. What will be your outcome variable? What type of regression are you using? Add your responses as comments after your code."
   ]
  },
  {
   "cell_type": "code",
   "execution_count": null,
   "metadata": {},
   "outputs": [],
   "source": [
    "# Regression Model\n",
    "# Define independent (X) and dependent (y) variables\n",
    "X = student_data[['Age']]  # Predictor variable (independent variable)\n",
    "y = student_data['Tardies']  # Outcome variable (dependent variable)\n",
    "\n",
    "# Initialize and fit the regression model\n",
    "model = LinearRegression()\n",
    "model.fit(X, y)\n",
    "\n",
    "# Print regression coefficients\n",
    "print(f\"Intercept: {model.intercept_}\")\n",
    "print(f\"Coefficient: {model.coef_[0]}\")"
   ]
  },
  {
   "cell_type": "markdown",
   "metadata": {},
   "source": [
    "### Comments on the regression model\n",
    "\n",
    "- Outcome variable: The dependent variable in this regression is 'Tardies', which we aim to predict based on 'Age'.\n",
    "- Type of regression: __I'm using a simple linear regression model as there is only one independent variable (Age)__.\n",
    "\n",
    "The coefficient indicates the rate at which Tardies decrease with Age. In the following plot we could see the regression line and helps us understand the linear relationship between Age and Tardies."
   ]
  },
  {
   "cell_type": "markdown",
   "metadata": {},
   "source": [
    "Plot your regression model on your scatter plot."
   ]
  },
  {
   "cell_type": "code",
   "execution_count": null,
   "metadata": {},
   "outputs": [],
   "source": [
    "# Predict values and add to the data for visualization\n",
    "student_data['Predicted_Tardies'] = model.predict(X)\n",
    "\n",
    "# Plot the regression line\n",
    "plt.figure(figsize=(8, 6))\n",
    "sns.scatterplot(x='Age', y='Tardies', data=student_data, label='Actual Data')\n",
    "plt.plot(student_data['Age'], student_data['Predicted_Tardies'], color='red', label='Regression Line')\n",
    "plt.xlabel('Age')\n",
    "plt.ylabel('Tardies')\n",
    "plt.title('Regression Model: Age vs. Tardies')\n",
    "plt.legend()\n",
    "plt.show()"
   ]
  },
  {
   "cell_type": "code",
   "execution_count": null,
   "metadata": {},
   "outputs": [],
   "source": [
    "import statsmodels.api as sm\n",
    "\n",
    "# Calculate R-squared\n",
    "r_squared = model.score(X, y)\n",
    "print(f\"R-squared: {r_squared}\")\n",
    "\n",
    "mse_train = np.mean((y_train_pred - y_train)**2)\n",
    "\n",
    "\n",
    "# Calculate p-values using statsmodels\n",
    "X_with_constant = sm.add_constant(X)  # Add constant term for intercept\n",
    "ols_model = sm.OLS(y, X_with_constant).fit()\n",
    "p_values = ols_model.pvalues\n",
    "\n",
    "# Print p-values\n",
    "print(\"P-values:\")\n",
    "print(p_values)"
   ]
  },
  {
   "cell_type": "markdown",
   "metadata": {},
   "source": [
    "Interpret the results of your model. What can conclusions can you draw from your model and how confident in these conclusions are you? Can we say that age is a good predictor of tardiness? Add your responses as comments after your code."
   ]
  },
  {
   "cell_type": "markdown",
   "metadata": {},
   "source": [
    "### Comments on results:\n",
    "\n",
    "The regression model visualized in the scatter plot with the regression line (red) shows a clear linear relationship between age and tardiness, where tardiness decreases as age increases. The negative slope of the regression line and the statistically significant results suggest that as age increases, tardiness decreases. The statistical measures (high R-squared, significant p-values) provide strong confidence in the model's conclusions. \n",
    "\n",
    "The R-squared indicates that 88% of the variability in tardiness can be explained by the variability in age. This is a strong value, suggesting that age is a good predictor of tardiness. Since R-squared is high, age is a reliable predictor of tardiness within the scope of this dataset.\n",
    "\n",
    "The p-value for both the constant (intercept) and the age variable is very low (below 0.05), indicating that the relationship between age and tardiness is statistically significant. In other words, the effect of age on tardiness is unlikely to have occurred by chance."
   ]
  },
  {
   "cell_type": "markdown",
   "metadata": {},
   "source": [
    "## Challenge 2\n",
    "For the second part of this lab, we will use the vehicles.csv data set. You can find a copy of the dataset in the git hub folder. This dataset includes variables related to vehicle characteristics, including the model, make, and energy efficiency standards, as well as each car's CO2 emissions. As discussed in class the goal of this exercise is to predict vehicles' CO2 emissions based on several independent variables. "
   ]
  },
  {
   "cell_type": "code",
   "execution_count": null,
   "metadata": {},
   "outputs": [],
   "source": [
    "# Import any libraries you may need & the data\n",
    "vehicles = pd.read_csv(\"../vehicles.csv\")\n",
    "vehicles.head()"
   ]
  },
  {
   "cell_type": "markdown",
   "metadata": {},
   "source": [
    "Let's use the following variables for our analysis: Year, Cylinders, Fuel Barrels/Year, Combined MPG, and Fuel Cost/Year. We will use 'CO2 Emission Grams/Mile' as our outcome variable. \n",
    "\n",
    "Calculate the correlations between each of these variables and the outcome. Which variable do you think will be the most important in determining CO2 emissions? Which provides the least amount of helpful information for determining CO2 emissions? Add your responses as comments after your code."
   ]
  },
  {
   "cell_type": "code",
   "execution_count": null,
   "metadata": {},
   "outputs": [],
   "source": [
    "# Select the relevant variables\n",
    "variables = ['Year', 'Cylinders', 'Fuel Barrels/Year', 'Combined MPG', 'Fuel Cost/Year', 'CO2 Emission Grams/Mile']\n",
    "df = vehicles[variables]\n",
    "\n",
    "# Calculate the correlations between each variable and the outcome variable\n",
    "outcome = 'CO2 Emission Grams/Mile'\n",
    "predictors = ['Year', 'Cylinders', 'Fuel Barrels/Year', 'Combined MPG', 'Fuel Cost/Year']\n",
    "\n",
    "correlations = {}\n",
    "for predictor in predictors:\n",
    "    corr = df[predictor].corr(df[outcome])\n",
    "    correlations[predictor] = corr\n",
    "\n",
    "# Print the correlation coefficients\n",
    "print(\"Correlation coefficients with CO2 Emission Grams/Mile:\")\n",
    "for predictor in correlations:\n",
    "    print(f\"  o {predictor}: {correlations[predictor]:.4f}\")"
   ]
  },
  {
   "cell_type": "markdown",
   "metadata": {},
   "source": [
    "### Comments on resuls:\n",
    "- Based on the correlation coefficients, 'Fuel Barrels/Year' has the highest positive correlation with CO2 Emission Grams/Mile, indicating it is the most important variable in determining CO2 emissions.\n",
    "\n",
    "- 'Year' has the lowest correlation with CO2 Emission Grams/Mile, suggesting it provides the least amount of helpful information for determining CO2 emissions."
   ]
  },
  {
   "cell_type": "markdown",
   "metadata": {},
   "source": [
    "Build a regression model for this data. What type of regression are you using? Add your responses as comments after your code."
   ]
  },
  {
   "cell_type": "code",
   "execution_count": null,
   "metadata": {},
   "outputs": [],
   "source": [
    "from sklearn.model_selection import train_test_split\n",
    "from sklearn.linear_model import LinearRegression\n",
    "from sklearn.metrics import mean_squared_error, r2_score\n",
    "\n",
    "# Define predictors (X) and outcome (y)\n",
    "X = df[['Year', 'Cylinders', 'Fuel Barrels/Year', 'Combined MPG', 'Fuel Cost/Year']]\n",
    "y = df['CO2 Emission Grams/Mile']\n",
    "\n",
    "# Split the data into training and testing sets\n",
    "X_train, X_test, y_train, y_test = train_test_split(X, y, test_size=0.2, random_state=42)\n",
    "\n",
    "# Initialize and train the linear regression model\n",
    "model = LinearRegression()\n",
    "model.fit(X_train, y_train)"
   ]
  },
  {
   "cell_type": "markdown",
   "metadata": {},
   "source": [
    "### Comments:\n",
    "1. The regression model used here is a Linear Regression. Linear regression assumes a linear relationship between the predictors and the outcome variable. The regression model used in the code is appropriate for multiple variables because linear regression can handle multiple predictors (independent variables) in addition to the dependent variable (outcome).\n",
    "2. The LinearRegression model from sklearn supports multiple predictors without any additional modifications. The model assigns a coefficient to each predictor, which represents the effect of that predictor on the dependent variable while holding other predictors constant."
   ]
  },
  {
   "cell_type": "markdown",
   "metadata": {},
   "source": [
    "Print your regression summary, and interpret the results. What are the most important varibles in your model and why? What can conclusions can you draw from your model and how confident in these conclusions are you? Add your responses as comments after your code."
   ]
  },
  {
   "cell_type": "code",
   "execution_count": null,
   "metadata": {},
   "outputs": [],
   "source": [
    "# Make predictions with the sklearn LinearRegression Model\n",
    "y_pred = model.predict(X_test)\n",
    "\n",
    "# Evaluate the model\n",
    "mse = mean_squared_error(y_test, y_pred)\n",
    "r2 = r2_score(y_test, y_pred)\n",
    "\n",
    "# Print evaluation metrics\n",
    "print(f\"Mean Squared Error (MSE): {mse:.2f}\")\n",
    "print(f\"R-squared (R2): {r2:.4f}\")\n",
    "\n",
    "# Print the coefficients\n",
    "coefficients = pd.DataFrame({'Feature': X.columns, 'Coefficient': model.coef_})\n",
    "print(\"\\nCoefficients:\")\n",
    "print(coefficients)\n",
    "\n",
    "# Fit the Regression Model using statsmodels (statsmodels.api)\n",
    "model_ols = sm.OLS(y_train, X_train).fit()\n",
    "\n",
    "# Print the regression summary\n",
    "print(model_ols.summary())\n",
    "\n",
    "# Extract the p-values\n",
    "p_values = model_ols.pvalues\n",
    "print(\"\\nP-values for the predictors:\")\n",
    "print(p_values)\n",
    "\n",
    "# Extract the coefficients\n",
    "coefficients = model_ols.params\n",
    "print(\"\\nCoefficients of the predictors:\")\n",
    "print(coefficients)"
   ]
  },
  {
   "cell_type": "markdown",
   "metadata": {},
   "source": [
    "### Interpretation of the results\n",
    "1. The regression summary provides coefficients, p-values, and R-squared values.\n",
    "2. The most important variables in the model can be identified by looking at the p-values and coefficients:\n",
    "    - Variables with smaller p-values (typically < 0.05) are statistically significant.\n",
    "    - Larger coefficients (in absolute value) indicate a stronger impact on the dependent variable.\n",
    "3. Based on the coefficients:\n",
    "    - 'Fuel Barrels/Year' is likely the most important variable because it has a large positive coefficient, indicating a strong impact on CO2 emissions.\n",
    "    - 'Combined MPG' has a significant negative coefficient, meaning higher MPG reduces CO2 emissions.\n",
    "4. The 'Year' variable may have the least importance if its p-value is high, suggesting it does not contribute significantly to the model.\n",
    "\n",
    "### Conclusions from the model:\n",
    "- The model explains a portion of the variability in CO2 emissions (as indicated by the R-squared value).\n",
    "- Fuel consumption metrics ('Fuel Barrels/Year' and 'Combined MPG') are key drivers of CO2 emissions.\n",
    "- Variables like 'Year' may not add much explanatory correlation or knowledge for the analysis.\n",
    "\n",
    "### Confidence in conclusions:\n",
    "- Confidence depends on the p-values and overall R-squared.\n",
    "- If the p-values for key variables are low and the R-squared is high, we can be confident in the model's conclusions.\n",
    "- However, external factors not included in the model may also affect CO2 emissions, so the model's predictions have limitations.\n"
   ]
  },
  {
   "cell_type": "markdown",
   "metadata": {},
   "source": [
    "## Bonus Challenge: Error Analysis"
   ]
  },
  {
   "cell_type": "markdown",
   "metadata": {},
   "source": [
    "I am suspicious about the last few parties I have thrown: it seems that the more people I invite the more people are unable to attend. To know if my hunch is supported by data, I have decided to do an analysis. I have collected my data in the table below, where X is the number of people I invited, and Y is the number of people who attended. \n",
    "\n",
    "|  X |  Y |\n",
    "|----|----|\n",
    "| 1  |  1 |\n",
    "| 3  |  2 |\n",
    "| 4  |  4 |\n",
    "| 6  |  4 |\n",
    "| 8  |  5 |\n",
    "| 9  |  7 |\n",
    "| 11 |  8 |\n",
    "| 14 |  13 |"
   ]
  },
  {
   "cell_type": "markdown",
   "metadata": {},
   "source": [
    "We want to know if the relationship modeled by the two random variables is linear or not, and therefore if it is appropriate to model it with a linear regression. \n",
    "First, build a dataframe with the data. "
   ]
  },
  {
   "cell_type": "code",
   "execution_count": null,
   "metadata": {},
   "outputs": [],
   "source": [
    "import numpy as np\n",
    "import matplotlib.pyplot as plt\n",
    "from scipy.stats import linregress\n",
    "\n",
    "# Data\n",
    "X = np.array([1, 3, 4, 6, 8, 9, 11, 14])  # Number of people invited\n",
    "Y = np.array([1, 2, 4, 4, 5, 7, 8, 13])  # Number of people attended\n",
    "\n",
    "# Calculate correlation coefficient\n",
    "correlation_coefficient = np.corrcoef(X, Y)[0, 1]\n",
    "\n",
    "# Perform linear regression\n",
    "slope, intercept, r_value, p_value, std_err = linregress(X, Y)\n",
    "\n",
    "# Generate regression line\n",
    "regression_line = slope * X + intercept\n",
    "\n",
    "# Print results\n",
    "print(\"Correlation Coefficient (r):\", correlation_coefficient)\n",
    "print(\"Linear Regression Equation: Y = {:.2f}X + {:.2f}\".format(slope, intercept))\n",
    "print(\"Coefficient of Determination (r^2):\", r_value**2)\n",
    "print(\"P-value:\", p_value)\n",
    "print(\"Standard Error:\", std_err)"
   ]
  },
  {
   "cell_type": "markdown",
   "metadata": {},
   "source": [
    "Draw a dispersion diagram (scatter plot) for the data, and fit a regression line."
   ]
  },
  {
   "cell_type": "code",
   "execution_count": null,
   "metadata": {},
   "outputs": [],
   "source": [
    "# Plot the data and regression line\n",
    "plt.scatter(X, Y, label=\"Data points\", color=\"blue\")\n",
    "plt.plot(X, regression_line, color='red', label=f\"Regression line: Y = {slope:.2f}X + {intercept:.2f}\")\n",
    "plt.xlabel(\"Number of People Invited (X)\")\n",
    "plt.ylabel(\"Number of People Attended (Y)\")\n",
    "plt.title(\"Analysis of Invitations vs Attendance\")\n",
    "plt.legend()\n",
    "plt.grid(True)\n",
    "plt.show()"
   ]
  },
  {
   "cell_type": "markdown",
   "metadata": {},
   "source": [
    "What do you see? What does this plot tell you about the likely relationship between the variables? Print the results from your regression."
   ]
  },
  {
   "cell_type": "markdown",
   "metadata": {},
   "source": [
    "*your explanation here*"
   ]
  },
  {
   "cell_type": "markdown",
   "metadata": {},
   "source": [
    "Do you see any problematic points, or outliers, in your data? Remove these points and recalculate your regression. Print the new dispersion diagram with your new model and the results of your model. "
   ]
  },
  {
   "cell_type": "markdown",
   "metadata": {},
   "source": [
    "### What do I see?\n",
    "- The data points (blue dots) represent the number of people invited (X) versus the number of people who attended (Y).\n",
    "- A red regression line models the relationship between X and Y, with the equation Y = 0.85X - 0.44.\n",
    "\n",
    "### What does the plot tell about the relationship?\n",
    "- The plot suggests a positive linear relationship: as the number of people invited increases, the number of attendees also increases.\n",
    "- The slope of 0.85 indicates that, on average, for every additional person invited, 0.85 people attend.\n",
    "- The relationship is quite strong, as shown by a high correlation coefficient.\n",
    "\n",
    "### Regression Results:\n",
    "- Correlation Coefficient (r): 0.965 (strong positive correlation).\n",
    "- Regression Equation: Y=0.85X − 0.44.\n",
    "- Coefficient of Determination (R2): 0.932 (93.2% of the variance in Y is explained by X).\n",
    "- P-value: Statistically significant (exact value can be derived from the code).\n",
    "\n",
    "This analysis does not support the suspicion that more invitations lead to fewer attendees. Instead, it suggests that inviting more people generally results in more attendees."
   ]
  },
  {
   "cell_type": "code",
   "execution_count": null,
   "metadata": {},
   "outputs": [],
   "source": [
    "# Specify points to remove (index-based)\n",
    "indices_to_remove = [1, 7]  # Adjust indices based on points you want to exclude\n",
    "X_filtered = np.delete(X, indices_to_remove)\n",
    "Y_filtered = np.delete(Y, indices_to_remove)\n",
    "\n",
    "# Recalculate regression with filtered data\n",
    "slope, intercept, r_value, p_value, std_err = linregress(X_filtered, Y_filtered)\n",
    "correlation_coefficient = np.corrcoef(X_filtered, Y_filtered)[0, 1]\n",
    "\n",
    "# Generate regression line\n",
    "regression_line = slope * X_filtered + intercept\n",
    "\n",
    "# Print updated results\n",
    "print(\"Updated Regression Model:\")\n",
    "print(f\"Correlation Coefficient (r): {correlation_coefficient:.3f}\")\n",
    "print(f\"Linear Regression Equation: Y = {slope:.2f}X + {intercept:.2f}\")\n",
    "print(f\"Coefficient of Determination (r^2): {r_value**2:.3f}\")\n",
    "print(f\"P-value: {p_value}\")\n",
    "print(f\"Standard Error: {std_err:.3f}\")\n",
    "\n",
    "# Plot filtered data and new regression line\n",
    "plt.scatter(X_filtered, Y_filtered, label=\"Filtered Data points\", color=\"blue\")\n",
    "plt.plot(X_filtered, regression_line, color='red', label=f\"Regression line: Y = {slope:.2f}X + {intercept:.2f}\")\n",
    "plt.xlabel(\"Number of People Invited (X)\")\n",
    "plt.ylabel(\"Number of People Attended (Y)\")\n",
    "plt.title(\"Updated Analysis of Invitations vs Attendance\")\n",
    "plt.legend()\n",
    "plt.grid(True)\n",
    "plt.show()\n"
   ]
  },
  {
   "cell_type": "markdown",
   "metadata": {},
   "source": [
    "What changed? Based on the results of the two models and your graphs, what can you say about the form of the data with the problematic point and without it?"
   ]
  },
  {
   "cell_type": "markdown",
   "metadata": {},
   "source": [
    "### What changed between the two models?\n",
    "- Slope of the Regression Line:\n",
    "    - Original: 0.85, suggesting a steeper relationship between the number of people invited and attendees.\n",
    "    - Updated: 0.66, indicating a less steep relationship.\n",
    "- Intercept:\n",
    "    - Original: −0.44, with attendees starting at a lower baseline.\n",
    "    - Updated: 0.52, with attendees starting at a higher baseline when fewer people are invited.\n",
    "- Coefficient of Determination (R2): \n",
    "    - Original: 0.932, indicating that 93.2% of the variability in attendance was explained by the invitations.\n",
    "    - Updated: 0.937, slightly higher, showing that the updated model fits the filtered data slightly better.\n",
    "### Impact of Removing Points:\n",
    "    - Removing certain points has flattened the slope of the regression line, suggesting that the relationship between invitations and attendance is less strong in the updated model.\n",
    "    - The updated data points provide a more consistent trend.\n",
    "### With vs. Without the Problematic Points:\n",
    "    - With Problematic Points: The data showed a slightly steeper trend, but certain outliers or influential points might have skewed the slope and intercept.\n",
    "    - Without Problematic Points: The data now aligns more closely with a linear trend, leading to a model that better represents the majority of the data points.\n",
    "### What this tells us about the form of the data:\n",
    "    - With the problematic points, the relationship appeared to be stronger, but it might not have been representative of the overall trend.\n",
    "    - Removing these points reveals a more moderate but consistent linear relationship between the number of invitations and attendees."
   ]
  }
 ],
 "metadata": {
  "kernelspec": {
   "display_name": "Python 3 (ipykernel)",
   "language": "python",
   "name": "python3"
  },
  "language_info": {
   "codemirror_mode": {
    "name": "ipython",
    "version": 3
   },
   "file_extension": ".py",
   "mimetype": "text/x-python",
   "name": "python",
   "nbconvert_exporter": "python",
   "pygments_lexer": "ipython3",
   "version": "3.12.7"
  }
 },
 "nbformat": 4,
 "nbformat_minor": 4
}
