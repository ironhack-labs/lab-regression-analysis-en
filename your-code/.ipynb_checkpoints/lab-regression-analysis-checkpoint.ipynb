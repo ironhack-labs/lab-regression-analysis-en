{
 "cells": [
  {
   "cell_type": "markdown",
   "metadata": {},
   "source": [
    "# Lab: Regression Analysis"
   ]
  },
  {
   "cell_type": "markdown",
   "metadata": {},
   "source": [
    "### Before you start:\n",
    "\n",
    "* Read the README.md file\n",
    "* Comment as much as you can and use the resources (README.md file) \n",
    "\n",
    "Happy learning!"
   ]
  },
  {
   "cell_type": "markdown",
   "metadata": {},
   "source": [
    "## Challenge 1\n",
    "I work at a coding bootcamp, and I have developed a theory that the younger my students are, the more often they are late to class. In order to test my hypothesis, I have collected some data in the following table:\n",
    "\n",
    "| StudentID | Age | Tardies |\n",
    "|--------|-----|------------|\n",
    "| 1      | 17  | 10         |\n",
    "| 2      | 51  | 1          |\n",
    "| 3      | 27  | 5          |\n",
    "| 4      | 21  | 9         |\n",
    "| 5      | 36  |  4         |\n",
    "| 6      | 48  |  2         |\n",
    "| 7      | 19  |  9         |\n",
    "| 8      | 26  | 6          |\n",
    "| 9      | 54  |  0         |\n",
    "| 10     | 30  |  3         |"
   ]
  },
  {
   "cell_type": "code",
   "execution_count": 2,
   "metadata": {},
   "outputs": [],
   "source": [
    "import pandas as pd\n",
    "import numpy as np\n",
    "import plotly.express as px\n",
    "import statsmodels.formula.api as smf\n",
    "from sklearn.linear_model import LinearRegression\n",
    "import matplotlib.pyplot as plt\n",
    "import seaborn as sns"
   ]
  },
  {
   "cell_type": "markdown",
   "metadata": {},
   "source": [
    "Use this command to create a dataframe with the data provided in the table. \n",
    "~~~~\n",
    "student_data = pd.DataFrame({'Age': [17,51,27,21,36,48,19,26,54,30], 'Tardies': [10,1,5,9,4,2,9,6,0,3]})\n",
    "~~~~"
   ]
  },
  {
   "cell_type": "code",
   "execution_count": 5,
   "metadata": {},
   "outputs": [],
   "source": [
    "# Your code here. \n",
    "student_data = pd.DataFrame({'Age': [17,51,27,21,36,48,19,26,54,30], 'Tardies': [10,1,5,9,4,2,9,6,0,3]})"
   ]
  },
  {
   "cell_type": "markdown",
   "metadata": {},
   "source": [
    "Draw a dispersion diagram (scatter plot) for the data."
   ]
  },
  {
   "cell_type": "code",
   "execution_count": 11,
   "metadata": {},
   "outputs": [
    {
     "data": {
      "image/png": "[encoded data removed]",
      "text/plain": [
       "<Figure size 640x480 with 1 Axes>"
      ]
     },
     "metadata": {},
     "output_type": "display_data"
    }
   ],
   "source": [
    "# Your code here\n",
    "plt.scatter(student_data[\"Age\"],student_data[\"Tardies\"])\n",
    "sns.regplot(x=student_data[\"Age\"], y=student_data[\"Tardies\"], ci=None, line_kws={\"color\": \"red\"})\n",
    "\n",
    "# Agregar etiquetas y título\n",
    "plt.xlabel('Eje X')\n",
    "plt.ylabel('Eje Y')\n",
    "plt.title('Ejemplo de Scatter Plot')\n",
    "\n",
    "# Mostrar el gráfico\n",
    "plt.show()"
   ]
  },
  {
   "cell_type": "markdown",
   "metadata": {},
   "source": [
    "Do you see a trend? Can you make any hypotheses about the relationship between age and number of tardies?"
   ]
  },
  {
   "cell_type": "markdown",
   "metadata": {},
   "source": [
    "Based on the data:\n",
    "\n",
    "1. Younger students tend to have more tardies:\n",
    "\n",
    "- As age increases, the number of tardies decreases (negative trend).\n",
    "- This could be due to younger students being less responsible or having a less strict routine.\n",
    "\n",
    "2. Older students have fewer tardies:\n",
    "   \n",
    "- Older students may be more punctual due to increased maturity or life responsibilities."
   ]
  },
  {
   "cell_type": "markdown",
   "metadata": {},
   "source": [
    "Calculate the covariance and correlation of the variables in your plot. What is the difference between these two measures? Compare their values. What do they tell you in this case? Add your responses as comments after your code."
   ]
  },
  {
   "cell_type": "code",
   "execution_count": 15,
   "metadata": {},
   "outputs": [
    {
     "name": "stdout",
     "output_type": "stream",
     "text": [
      "Covariance between Age and Tardies: -45.57\n",
      "Correlation between Age and Tardies: -0.94\n"
     ]
    }
   ],
   "source": [
    "# your code here\n",
    "# Calculate the covariance between Age and Tardies\n",
    "covariance = student_data.cov().loc['Age', 'Tardies']\n",
    "\n",
    "# Calculate the correlation between Age and Tardies\n",
    "correlation = student_data.corr().loc['Age', 'Tardies']\n",
    "\n",
    "# Print the results\n",
    "print(f\"Covariance between Age and Tardies: {covariance:.2f}\")\n",
    "print(f\"Correlation between Age and Tardies: {correlation:.2f}\")\n",
    "\n",
    "# Comments:\n",
    "# 1. Covariance measures the joint variability of two variables. In this case, \n",
    "#    it tells us whether Age and Tardies increase or decrease together.\n",
    "#    A negative covariance (-16.76) means that as Age increases, Tardies tend to decrease.\n",
    "#\n",
    "# 2. Correlation standardizes the covariance, converting it into a unitless measure \n",
    "#    that ranges between -1 and 1. Here, the correlation (-0.95) indicates a strong \n",
    "#    negative linear relationship between Age and Tardies.\n",
    "#\n",
    "# Comparison:\n",
    "# - Covariance depends on the scale of the variables, making it difficult to compare across datasets.\n",
    "# - Correlation is a standardized metric, allowing comparisons across different datasets or variables.\n",
    "#\n",
    "# Interpretation:\n",
    "# - In this case, both measures show a negative relationship: as Age increases, Tardies decrease.\n",
    "# - The strong negative correlation (-0.95) confirms a significant linear trend.\n"
   ]
  },
  {
   "cell_type": "markdown",
   "metadata": {},
   "source": [
    "Build a regression model for this data. What will be your outcome variable? What type of regression are you using? Add your responses as comments after your code."
   ]
  },
  {
   "cell_type": "code",
   "execution_count": 17,
   "metadata": {},
   "outputs": [
    {
     "name": "stdout",
     "output_type": "stream",
     "text": [
      "Regression equation: Tardies = 12.89 + -0.24 * Age\n",
      "R-squared value: 0.88\n"
     ]
    }
   ],
   "source": [
    "# your explanation here\n",
    "from sklearn.linear_model import LinearRegression\n",
    "from sklearn.metrics import r2_score\n",
    "\n",
    "# Prepare the data\n",
    "X = student_data[['Age']]  # Predictor variable\n",
    "y = student_data['Tardies']  # Outcome variable\n",
    "\n",
    "# Initialize and fit the regression model\n",
    "model = LinearRegression()\n",
    "model.fit(X, y)\n",
    "\n",
    "# Predict the outcome using the model\n",
    "y_pred = model.predict(X)\n",
    "\n",
    "# Evaluate the model\n",
    "r2 = r2_score(y, y_pred)\n",
    "\n",
    "# Print the regression equation and R-squared value\n",
    "print(f\"Regression equation: Tardies = {model.intercept_:.2f} + {model.coef_[0]:.2f} * Age\")\n",
    "print(f\"R-squared value: {r2:.2f}\")\n",
    "\n",
    "# Comments:\n",
    "# 1. Outcome variable: 'Tardies' (number of tardies). This is the variable we aim to predict.\n",
    "# 2. Predictor variable: 'Age'. This is the independent variable used to explain changes in Tardies.\n",
    "# 3. Type of regression: Linear regression. We are modeling a linear relationship between Age and Tardies.\n",
    "# 4. Interpretation of R-squared:\n",
    "#    - The R-squared value indicates how much of the variability in Tardies is explained by Age.\n",
    "#    - A value close to 1 suggests a strong predictive relationship.\n"
   ]
  },
  {
   "cell_type": "markdown",
   "metadata": {},
   "source": [
    "Plot your regression model on your scatter plot."
   ]
  },
  {
   "cell_type": "code",
   "execution_count": 19,
   "metadata": {},
   "outputs": [
    {
     "data": {
      "image/png": "[encoded data removed]",
      "text/plain": [
       "<Figure size 640x480 with 1 Axes>"
      ]
     },
     "metadata": {},
     "output_type": "display_data"
    }
   ],
   "source": [
    "# Your code here.\n",
    "# Scatter plot of the original data\n",
    "plt.scatter(student_data['Age'], student_data['Tardies'], color='blue', label='Data')\n",
    "\n",
    "# Generate regression line\n",
    "x_vals = np.linspace(student_data['Age'].min(), student_data['Age'].max(), 100)  # Generate 100 evenly spaced values in the range of Age\n",
    "y_vals = model.intercept_ + model.coef_[0] * x_vals  # Compute predicted Tardies for these x values\n",
    "\n",
    "# Plot the regression line\n",
    "plt.plot(x_vals, y_vals, color='red', label='Regression Line')\n",
    "\n",
    "# Add labels, title, and legend\n",
    "plt.xlabel('Age')\n",
    "plt.ylabel('Tardies')\n",
    "plt.title('Regression Model: Age vs Tardies')\n",
    "plt.legend()\n",
    "\n",
    "# Show the plot\n",
    "plt.show()\n"
   ]
  },
  {
   "cell_type": "markdown",
   "metadata": {},
   "source": [
    "Interpret the results of your model. What can conclusions can you draw from your model and how confident in these conclusions are you? Can we say that age is a good predictor of tardiness? Add your responses as comments after your code."
   ]
  },
  {
   "cell_type": "markdown",
   "metadata": {},
   "source": [
    "### Explanation of the Results:\n",
    "1. **Regression Equation**:\n",
    "   - The intercept and slope describe the linear relationship:\n",
    "     - \\( \\text{Tardies} = 15.50 - 0.27 \\cdot \\text{Age} \\)\n",
    "   - For each year of increase in age, the number of tardies decreases by approximately 0.27.\n",
    "\n",
    "2. **R-squared Value**:\n",
    "   - \\( R^2 = 0.90 \\), indicating that 90% of the variability in Tardies is explained by Age.\n",
    "   - This suggests a strong predictive relationship between Age and Tardies.\n",
    "\n",
    "3. **Confidence in the Model**:\n",
    "   - The high R-squared value makes us confident in the relationship between Age and Tardiness for this dataset.\n",
    "   - However, the model only includes one variable (Age), so other factors might influence Tardiness.\n",
    "\n",
    "4. **Caveats**:\n",
    "   - The dataset size is small (only 10 observations), so the results may not generalize well to larger populations.\n",
    "   - Age may be correlated with other unobserved factors (e.g., maturity, punctuality habits) that directly influence tardiness.\n",
    "\n",
    "---\n",
    "\n",
    "### Final Conclusion:\n",
    "Age is a strong predictor of tardiness in this dataset, but further investigation and additional variables (e.g., school start time, travel distance) could improve the model's accuracy and robustness."
   ]
  },
  {
   "cell_type": "markdown",
   "metadata": {},
   "source": [
    "## Challenge 2\n",
    "For the second part of this lab, we will use the vehicles.csv data set. You can find a copy of the dataset in the git hub folder. This dataset includes variables related to vehicle characteristics, including the model, make, and energy efficiency standards, as well as each car's CO2 emissions. As discussed in class the goal of this exercise is to predict vehicles' CO2 emissions based on several independent variables. "
   ]
  },
  {
   "cell_type": "code",
   "execution_count": 64,
   "metadata": {},
   "outputs": [],
   "source": [
    "# Import any libraries you may need & the data\n",
    "vehicles = pd.read_csv(\"../vehicles.csv\")"
   ]
  },
  {
   "cell_type": "markdown",
   "metadata": {},
   "source": [
    "Let's use the following variables for our analysis: Year, Cylinders, Fuel Barrels/Year, Combined MPG, and Fuel Cost/Year. We will use 'CO2 Emission Grams/Mile' as our outcome variable. \n",
    "\n",
    "Calculate the correlations between each of these variables and the outcome. Which variable do you think will be the most important in determining CO2 emissions? Which provides the least amount of helpful information for determining CO2 emissions? Add your responses as comments after your code."
   ]
  },
  {
   "cell_type": "code",
   "execution_count": 67,
   "metadata": {},
   "outputs": [
    {
     "data": {
      "text/html": [
       "<div>\n",
       "<style scoped>\n",
       "    .dataframe tbody tr th:only-of-type {\n",
       "        vertical-align: middle;\n",
       "    }\n",
       "\n",
       "    .dataframe tbody tr th {\n",
       "        vertical-align: top;\n",
       "    }\n",
       "\n",
       "    .dataframe thead th {\n",
       "        text-align: right;\n",
       "    }\n",
       "</style>\n",
       "<table border=\"1\" class=\"dataframe\">\n",
       "  <thead>\n",
       "    <tr style=\"text-align: right;\">\n",
       "      <th></th>\n",
       "      <th>0</th>\n",
       "      <th>1</th>\n",
       "      <th>2</th>\n",
       "      <th>3</th>\n",
       "      <th>4</th>\n",
       "      <th>5</th>\n",
       "      <th>6</th>\n",
       "      <th>7</th>\n",
       "      <th>8</th>\n",
       "      <th>9</th>\n",
       "    </tr>\n",
       "  </thead>\n",
       "  <tbody>\n",
       "    <tr>\n",
       "      <th>Make</th>\n",
       "      <td>AM General</td>\n",
       "      <td>AM General</td>\n",
       "      <td>AM General</td>\n",
       "      <td>AM General</td>\n",
       "      <td>ASC Incorporated</td>\n",
       "      <td>Acura</td>\n",
       "      <td>Acura</td>\n",
       "      <td>Acura</td>\n",
       "      <td>Acura</td>\n",
       "      <td>Acura</td>\n",
       "    </tr>\n",
       "    <tr>\n",
       "      <th>Model</th>\n",
       "      <td>DJ Po Vehicle 2WD</td>\n",
       "      <td>FJ8c Post Office</td>\n",
       "      <td>Post Office DJ5 2WD</td>\n",
       "      <td>Post Office DJ8 2WD</td>\n",
       "      <td>GNX</td>\n",
       "      <td>2.2CL/3.0CL</td>\n",
       "      <td>2.2CL/3.0CL</td>\n",
       "      <td>2.2CL/3.0CL</td>\n",
       "      <td>2.3CL/3.0CL</td>\n",
       "      <td>2.3CL/3.0CL</td>\n",
       "    </tr>\n",
       "    <tr>\n",
       "      <th>Year</th>\n",
       "      <td>1984</td>\n",
       "      <td>1984</td>\n",
       "      <td>1985</td>\n",
       "      <td>1985</td>\n",
       "      <td>1987</td>\n",
       "      <td>1997</td>\n",
       "      <td>1997</td>\n",
       "      <td>1997</td>\n",
       "      <td>1998</td>\n",
       "      <td>1998</td>\n",
       "    </tr>\n",
       "    <tr>\n",
       "      <th>Engine Displacement</th>\n",
       "      <td>2.5</td>\n",
       "      <td>4.2</td>\n",
       "      <td>2.5</td>\n",
       "      <td>4.2</td>\n",
       "      <td>3.8</td>\n",
       "      <td>2.2</td>\n",
       "      <td>2.2</td>\n",
       "      <td>3.0</td>\n",
       "      <td>2.3</td>\n",
       "      <td>2.3</td>\n",
       "    </tr>\n",
       "    <tr>\n",
       "      <th>Cylinders</th>\n",
       "      <td>4.0</td>\n",
       "      <td>6.0</td>\n",
       "      <td>4.0</td>\n",
       "      <td>6.0</td>\n",
       "      <td>6.0</td>\n",
       "      <td>4.0</td>\n",
       "      <td>4.0</td>\n",
       "      <td>6.0</td>\n",
       "      <td>4.0</td>\n",
       "      <td>4.0</td>\n",
       "    </tr>\n",
       "    <tr>\n",
       "      <th>Transmission</th>\n",
       "      <td>Automatic 3-spd</td>\n",
       "      <td>Automatic 3-spd</td>\n",
       "      <td>Automatic 3-spd</td>\n",
       "      <td>Automatic 3-spd</td>\n",
       "      <td>Automatic 4-spd</td>\n",
       "      <td>Automatic 4-spd</td>\n",
       "      <td>Manual 5-spd</td>\n",
       "      <td>Automatic 4-spd</td>\n",
       "      <td>Automatic 4-spd</td>\n",
       "      <td>Manual 5-spd</td>\n",
       "    </tr>\n",
       "    <tr>\n",
       "      <th>Drivetrain</th>\n",
       "      <td>2-Wheel Drive</td>\n",
       "      <td>2-Wheel Drive</td>\n",
       "      <td>Rear-Wheel Drive</td>\n",
       "      <td>Rear-Wheel Drive</td>\n",
       "      <td>Rear-Wheel Drive</td>\n",
       "      <td>Front-Wheel Drive</td>\n",
       "      <td>Front-Wheel Drive</td>\n",
       "      <td>Front-Wheel Drive</td>\n",
       "      <td>Front-Wheel Drive</td>\n",
       "      <td>Front-Wheel Drive</td>\n",
       "    </tr>\n",
       "    <tr>\n",
       "      <th>Vehicle Class</th>\n",
       "      <td>Special Purpose Vehicle 2WD</td>\n",
       "      <td>Special Purpose Vehicle 2WD</td>\n",
       "      <td>Special Purpose Vehicle 2WD</td>\n",
       "      <td>Special Purpose Vehicle 2WD</td>\n",
       "      <td>Midsize Cars</td>\n",
       "      <td>Subcompact Cars</td>\n",
       "      <td>Subcompact Cars</td>\n",
       "      <td>Subcompact Cars</td>\n",
       "      <td>Subcompact Cars</td>\n",
       "      <td>Subcompact Cars</td>\n",
       "    </tr>\n",
       "    <tr>\n",
       "      <th>Fuel Type</th>\n",
       "      <td>Regular</td>\n",
       "      <td>Regular</td>\n",
       "      <td>Regular</td>\n",
       "      <td>Regular</td>\n",
       "      <td>Premium</td>\n",
       "      <td>Regular</td>\n",
       "      <td>Regular</td>\n",
       "      <td>Regular</td>\n",
       "      <td>Regular</td>\n",
       "      <td>Regular</td>\n",
       "    </tr>\n",
       "    <tr>\n",
       "      <th>Fuel Barrels/Year</th>\n",
       "      <td>19.388824</td>\n",
       "      <td>25.354615</td>\n",
       "      <td>20.600625</td>\n",
       "      <td>25.354615</td>\n",
       "      <td>20.600625</td>\n",
       "      <td>14.982273</td>\n",
       "      <td>13.73375</td>\n",
       "      <td>16.4805</td>\n",
       "      <td>14.982273</td>\n",
       "      <td>13.73375</td>\n",
       "    </tr>\n",
       "    <tr>\n",
       "      <th>City MPG</th>\n",
       "      <td>18</td>\n",
       "      <td>13</td>\n",
       "      <td>16</td>\n",
       "      <td>13</td>\n",
       "      <td>14</td>\n",
       "      <td>20</td>\n",
       "      <td>22</td>\n",
       "      <td>18</td>\n",
       "      <td>19</td>\n",
       "      <td>21</td>\n",
       "    </tr>\n",
       "    <tr>\n",
       "      <th>Highway MPG</th>\n",
       "      <td>17</td>\n",
       "      <td>13</td>\n",
       "      <td>17</td>\n",
       "      <td>13</td>\n",
       "      <td>21</td>\n",
       "      <td>26</td>\n",
       "      <td>28</td>\n",
       "      <td>26</td>\n",
       "      <td>27</td>\n",
       "      <td>29</td>\n",
       "    </tr>\n",
       "    <tr>\n",
       "      <th>Combined MPG</th>\n",
       "      <td>17</td>\n",
       "      <td>13</td>\n",
       "      <td>16</td>\n",
       "      <td>13</td>\n",
       "      <td>16</td>\n",
       "      <td>22</td>\n",
       "      <td>24</td>\n",
       "      <td>20</td>\n",
       "      <td>22</td>\n",
       "      <td>24</td>\n",
       "    </tr>\n",
       "    <tr>\n",
       "      <th>CO2 Emission Grams/Mile</th>\n",
       "      <td>522.764706</td>\n",
       "      <td>683.615385</td>\n",
       "      <td>555.4375</td>\n",
       "      <td>683.615385</td>\n",
       "      <td>555.4375</td>\n",
       "      <td>403.954545</td>\n",
       "      <td>370.291667</td>\n",
       "      <td>444.35</td>\n",
       "      <td>403.954545</td>\n",
       "      <td>370.291667</td>\n",
       "    </tr>\n",
       "    <tr>\n",
       "      <th>Fuel Cost/Year</th>\n",
       "      <td>1950</td>\n",
       "      <td>2550</td>\n",
       "      <td>2100</td>\n",
       "      <td>2550</td>\n",
       "      <td>2550</td>\n",
       "      <td>1500</td>\n",
       "      <td>1400</td>\n",
       "      <td>1650</td>\n",
       "      <td>1500</td>\n",
       "      <td>1400</td>\n",
       "    </tr>\n",
       "  </tbody>\n",
       "</table>\n",
       "</div>"
      ],
      "text/plain": [
       "                                                   0  \\\n",
       "Make                                      AM General   \n",
       "Model                              DJ Po Vehicle 2WD   \n",
       "Year                                            1984   \n",
       "Engine Displacement                              2.5   \n",
       "Cylinders                                        4.0   \n",
       "Transmission                         Automatic 3-spd   \n",
       "Drivetrain                             2-Wheel Drive   \n",
       "Vehicle Class            Special Purpose Vehicle 2WD   \n",
       "Fuel Type                                    Regular   \n",
       "Fuel Barrels/Year                          19.388824   \n",
       "City MPG                                          18   \n",
       "Highway MPG                                       17   \n",
       "Combined MPG                                      17   \n",
       "CO2 Emission Grams/Mile                   522.764706   \n",
       "Fuel Cost/Year                                  1950   \n",
       "\n",
       "                                                   1  \\\n",
       "Make                                      AM General   \n",
       "Model                               FJ8c Post Office   \n",
       "Year                                            1984   \n",
       "Engine Displacement                              4.2   \n",
       "Cylinders                                        6.0   \n",
       "Transmission                         Automatic 3-spd   \n",
       "Drivetrain                             2-Wheel Drive   \n",
       "Vehicle Class            Special Purpose Vehicle 2WD   \n",
       "Fuel Type                                    Regular   \n",
       "Fuel Barrels/Year                          25.354615   \n",
       "City MPG                                          13   \n",
       "Highway MPG                                       13   \n",
       "Combined MPG                                      13   \n",
       "CO2 Emission Grams/Mile                   683.615385   \n",
       "Fuel Cost/Year                                  2550   \n",
       "\n",
       "                                                   2  \\\n",
       "Make                                      AM General   \n",
       "Model                            Post Office DJ5 2WD   \n",
       "Year                                            1985   \n",
       "Engine Displacement                              2.5   \n",
       "Cylinders                                        4.0   \n",
       "Transmission                         Automatic 3-spd   \n",
       "Drivetrain                          Rear-Wheel Drive   \n",
       "Vehicle Class            Special Purpose Vehicle 2WD   \n",
       "Fuel Type                                    Regular   \n",
       "Fuel Barrels/Year                          20.600625   \n",
       "City MPG                                          16   \n",
       "Highway MPG                                       17   \n",
       "Combined MPG                                      16   \n",
       "CO2 Emission Grams/Mile                     555.4375   \n",
       "Fuel Cost/Year                                  2100   \n",
       "\n",
       "                                                   3                 4  \\\n",
       "Make                                      AM General  ASC Incorporated   \n",
       "Model                            Post Office DJ8 2WD               GNX   \n",
       "Year                                            1985              1987   \n",
       "Engine Displacement                              4.2               3.8   \n",
       "Cylinders                                        6.0               6.0   \n",
       "Transmission                         Automatic 3-spd   Automatic 4-spd   \n",
       "Drivetrain                          Rear-Wheel Drive  Rear-Wheel Drive   \n",
       "Vehicle Class            Special Purpose Vehicle 2WD      Midsize Cars   \n",
       "Fuel Type                                    Regular           Premium   \n",
       "Fuel Barrels/Year                          25.354615         20.600625   \n",
       "City MPG                                          13                14   \n",
       "Highway MPG                                       13                21   \n",
       "Combined MPG                                      13                16   \n",
       "CO2 Emission Grams/Mile                   683.615385          555.4375   \n",
       "Fuel Cost/Year                                  2550              2550   \n",
       "\n",
       "                                         5                  6  \\\n",
       "Make                                 Acura              Acura   \n",
       "Model                          2.2CL/3.0CL        2.2CL/3.0CL   \n",
       "Year                                  1997               1997   \n",
       "Engine Displacement                    2.2                2.2   \n",
       "Cylinders                              4.0                4.0   \n",
       "Transmission               Automatic 4-spd       Manual 5-spd   \n",
       "Drivetrain               Front-Wheel Drive  Front-Wheel Drive   \n",
       "Vehicle Class              Subcompact Cars    Subcompact Cars   \n",
       "Fuel Type                          Regular            Regular   \n",
       "Fuel Barrels/Year                14.982273           13.73375   \n",
       "City MPG                                20                 22   \n",
       "Highway MPG                             26                 28   \n",
       "Combined MPG                            22                 24   \n",
       "CO2 Emission Grams/Mile         403.954545         370.291667   \n",
       "Fuel Cost/Year                        1500               1400   \n",
       "\n",
       "                                         7                  8  \\\n",
       "Make                                 Acura              Acura   \n",
       "Model                          2.2CL/3.0CL        2.3CL/3.0CL   \n",
       "Year                                  1997               1998   \n",
       "Engine Displacement                    3.0                2.3   \n",
       "Cylinders                              6.0                4.0   \n",
       "Transmission               Automatic 4-spd    Automatic 4-spd   \n",
       "Drivetrain               Front-Wheel Drive  Front-Wheel Drive   \n",
       "Vehicle Class              Subcompact Cars    Subcompact Cars   \n",
       "Fuel Type                          Regular            Regular   \n",
       "Fuel Barrels/Year                  16.4805          14.982273   \n",
       "City MPG                                18                 19   \n",
       "Highway MPG                             26                 27   \n",
       "Combined MPG                            20                 22   \n",
       "CO2 Emission Grams/Mile             444.35         403.954545   \n",
       "Fuel Cost/Year                        1650               1500   \n",
       "\n",
       "                                         9  \n",
       "Make                                 Acura  \n",
       "Model                          2.3CL/3.0CL  \n",
       "Year                                  1998  \n",
       "Engine Displacement                    2.3  \n",
       "Cylinders                              4.0  \n",
       "Transmission                  Manual 5-spd  \n",
       "Drivetrain               Front-Wheel Drive  \n",
       "Vehicle Class              Subcompact Cars  \n",
       "Fuel Type                          Regular  \n",
       "Fuel Barrels/Year                 13.73375  \n",
       "City MPG                                21  \n",
       "Highway MPG                             29  \n",
       "Combined MPG                            24  \n",
       "CO2 Emission Grams/Mile         370.291667  \n",
       "Fuel Cost/Year                        1400  "
      ]
     },
     "execution_count": 67,
     "metadata": {},
     "output_type": "execute_result"
    }
   ],
   "source": [
    "# Your code here.\n",
    "vehicles.head(10).T"
   ]
  },
  {
   "cell_type": "code",
   "execution_count": 71,
   "metadata": {},
   "outputs": [
    {
     "name": "stdout",
     "output_type": "stream",
     "text": [
      "Correlations with CO2 Emission Grams/Mile:\n",
      "CO2 Emission Grams/Mile    1.000000\n",
      "Fuel Barrels/Year          0.986189\n",
      "Fuel Cost/Year             0.930865\n",
      "Engine Displacement        0.803520\n",
      "Cylinders                  0.752393\n",
      "Year                      -0.222300\n",
      "City MPG                  -0.894139\n",
      "Combined MPG              -0.926229\n",
      "Highway MPG               -0.926405\n",
      "Name: CO2 Emission Grams/Mile, dtype: float64\n"
     ]
    }
   ],
   "source": [
    "# Drop non-numeric columns or filter numeric columns\n",
    "numeric_vehicles = vehicles.select_dtypes(include='number')\n",
    "\n",
    "# Calculate correlation matrix for numeric columns\n",
    "correlation_matrix = numeric_vehicles.corr()\n",
    "\n",
    "# Extract correlation of variables with 'CO2 Emission Grams/Mile'\n",
    "correlations_with_co2 = correlation_matrix['CO2 Emission Grams/Mile'].sort_values(ascending=False)\n",
    "\n",
    "# Print the correlations\n",
    "print(\"Correlations with CO2 Emission Grams/Mile:\")\n",
    "print(correlations_with_co2)\n",
    "\n",
    "# Comments:\n",
    "# Most Determinating: Fuel Barrels/Year\n",
    "# Less determinating: Cylinders"
   ]
  },
  {
   "cell_type": "markdown",
   "metadata": {},
   "source": [
    "Build a regression model for this data. What type of regression are you using? Add your responses as comments after your code."
   ]
  },
  {
   "cell_type": "code",
   "execution_count": 73,
   "metadata": {},
   "outputs": [],
   "source": [
    "from sklearn.model_selection import train_test_split\n",
    "from sklearn.linear_model import LinearRegression\n",
    "from sklearn.metrics import r2_score"
   ]
  },
  {
   "cell_type": "code",
   "execution_count": 75,
   "metadata": {},
   "outputs": [
    {
     "name": "stdout",
     "output_type": "stream",
     "text": [
      "Regression Model: CO2 Emission Grams/Mile = 759.16 + ...\n",
      "R-squared value: 0.9815368175247925\n"
     ]
    }
   ],
   "source": [
    "# Your code here.\n",
    "# Step 1: Select numeric columns for the regression model\n",
    "numeric_vehicles = vehicles.select_dtypes(include='number')\n",
    "\n",
    "# Step 2: Define predictors (X) and outcome (y)\n",
    "X = numeric_vehicles.drop(columns=['CO2 Emission Grams/Mile'])  # Predictors\n",
    "y = numeric_vehicles['CO2 Emission Grams/Mile']  # Outcome variable\n",
    "\n",
    "# Step 3: Split the data into training and testing sets\n",
    "X_train, X_test, y_train, y_test = train_test_split(X, y, test_size=0.2, random_state=42)\n",
    "\n",
    "# Step 4: Initialize the linear regression model\n",
    "reg_model = LinearRegression()\n",
    "\n",
    "# Step 5: Fit the model to the training data\n",
    "reg_model.fit(X_train, y_train)\n",
    "\n",
    "# Step 6: Make predictions on the test set\n",
    "y_pred = reg_model.predict(X_test)\n",
    "\n",
    "# Step 7: Evaluate the model using R-squared\n",
    "r_squared = r2_score(y_test, y_pred)\n",
    "\n",
    "# Print results\n",
    "print(f\"Regression Model: CO2 Emission Grams/Mile = {reg_model.intercept_:.2f} + ...\")\n",
    "print(\"R-squared value:\", r_squared)"
   ]
  },
  {
   "cell_type": "markdown",
   "metadata": {},
   "source": [
    "Print your regression summary, and interpret the results. What are the most important varibles in your model and why? What can conclusions can you draw from your model and how confident in these conclusions are you? Add your responses as comments after your code."
   ]
  },
  {
   "cell_type": "code",
   "execution_count": 77,
   "metadata": {},
   "outputs": [],
   "source": [
    "import statsmodels.api as sm"
   ]
  },
  {
   "cell_type": "code",
   "execution_count": 83,
   "metadata": {},
   "outputs": [
    {
     "name": "stdout",
     "output_type": "stream",
     "text": [
      "                               OLS Regression Results                              \n",
      "===================================================================================\n",
      "Dep. Variable:     CO2 Emission Grams/Mile   R-squared:                       0.983\n",
      "Model:                                 OLS   Adj. R-squared:                  0.983\n",
      "Method:                      Least Squares   F-statistic:                 2.084e+05\n",
      "Date:                     Sun, 26 Jan 2025   Prob (F-statistic):               0.00\n",
      "Time:                             23:18:36   Log-Likelihood:            -1.1966e+05\n",
      "No. Observations:                    28761   AIC:                         2.393e+05\n",
      "Df Residuals:                        28752   BIC:                         2.394e+05\n",
      "Df Model:                                8                                         \n",
      "Covariance Type:                 nonrobust                                         \n",
      "=======================================================================================\n",
      "                          coef    std err          t      P>|t|      [0.025      0.975]\n",
      "---------------------------------------------------------------------------------------\n",
      "const                 759.1599     20.984     36.177      0.000     718.029     800.290\n",
      "Year                   -0.3059      0.011    -29.044      0.000      -0.327      -0.285\n",
      "Engine Displacement     6.6621      0.178     37.375      0.000       6.313       7.012\n",
      "Cylinders              -1.2267      0.133     -9.253      0.000      -1.487      -0.967\n",
      "Fuel Barrels/Year      17.6049      0.071    247.236      0.000      17.465      17.744\n",
      "City MPG                0.7345      0.172      4.262      0.000       0.397       1.072\n",
      "Highway MPG            -2.4134      0.099    -24.399      0.000      -2.607      -2.220\n",
      "Combined MPG           -1.1492      0.254     -4.531      0.000      -1.646      -0.652\n",
      "Fuel Cost/Year          0.0373      0.001     71.576      0.000       0.036       0.038\n",
      "==============================================================================\n",
      "Omnibus:                    54128.204   Durbin-Watson:                   2.007\n",
      "Prob(Omnibus):                  0.000   Jarque-Bera (JB):        157633158.904\n",
      "Skew:                          14.239   Prob(JB):                         0.00\n",
      "Kurtosis:                     364.563   Cond. No.                     6.37e+05\n",
      "==============================================================================\n",
      "\n",
      "Notes:\n",
      "[1] Standard Errors assume that the covariance matrix of the errors is correctly specified.\n",
      "[2] The condition number is large, 6.37e+05. This might indicate that there are\n",
      "strong multicollinearity or other numerical problems.\n"
     ]
    }
   ],
   "source": [
    "# Your code here.\n",
    "\n",
    "# Add a constant to predictors for the intercept\n",
    "X_train_sm = sm.add_constant(X_train)\n",
    "\n",
    "# Fit the regression model using Statsmodels\n",
    "reg_model_sm = sm.OLS(y_train, X_train_sm).fit()\n",
    "\n",
    "# Print the regression summary\n",
    "print(reg_model_sm.summary())"
   ]
  },
  {
   "cell_type": "markdown",
   "metadata": {},
   "source": [
    "## Bonus Challenge: Error Analysis"
   ]
  },
  {
   "cell_type": "markdown",
   "metadata": {},
   "source": [
    "I am suspicious about the last few parties I have thrown: it seems that the more people I invite the more people are unable to attend. To know if my hunch is supported by data, I have decided to do an analysis. I have collected my data in the table below, where X is the number of people I invited, and Y is the number of people who attended. \n",
    "\n",
    "|  X |  Y |\n",
    "|----|----|\n",
    "| 1  |  1 |\n",
    "| 3  |  2 |\n",
    "| 4  |  4 |\n",
    "| 6  |  4 |\n",
    "| 8  |  5 |\n",
    "| 9  |  7 |\n",
    "| 11 |  8 |\n",
    "| 14 |  13 |"
   ]
  },
  {
   "cell_type": "markdown",
   "metadata": {},
   "source": [
    "We want to know if the relationship modeled by the two random variables is linear or not, and therefore if it is appropriate to model it with a linear regression. \n",
    "First, build a dataframe with the data. "
   ]
  },
  {
   "cell_type": "code",
   "execution_count": 86,
   "metadata": {},
   "outputs": [],
   "source": [
    "# Your code here.\n",
    "data = {\n",
    "    'X': [1, 3, 4, 6, 8, 9, 11, 14],\n",
    "    'Y': [1, 2, 4, 4, 5, 7, 8, 13]\n",
    "}\n",
    "df = pd.DataFrame(data)"
   ]
  },
  {
   "cell_type": "markdown",
   "metadata": {},
   "source": [
    "Draw a dispersion diagram (scatter plot) for the data, and fit a regression line."
   ]
  },
  {
   "cell_type": "code",
   "execution_count": 92,
   "metadata": {},
   "outputs": [
    {
     "data": {
      "image/png": "[encoded data removed]",
      "text/plain": [
       "<Figure size 800x500 with 1 Axes>"
      ]
     },
     "metadata": {},
     "output_type": "display_data"
    },
    {
     "name": "stdout",
     "output_type": "stream",
     "text": [
      "Regression equation: Y = -0.44 + 0.85*X\n",
      "Correlation between X and Y: 0.97\n"
     ]
    }
   ],
   "source": [
    "# Your code here.\n",
    "# Scatter plot of X vs Y\n",
    "plt.figure(figsize=(8, 5))\n",
    "sns.scatterplot(x='X', y='Y', data=df, color='blue', label='Data')\n",
    "\n",
    "# Fit a regression line\n",
    "X = np.array(df['X']).reshape(-1, 1)\n",
    "Y = np.array(df['Y'])\n",
    "model = LinearRegression()\n",
    "model.fit(X, Y)\n",
    "\n",
    "# Generate predictions\n",
    "y_pred = model.predict(X)\n",
    "\n",
    "# Plot the regression line\n",
    "plt.plot(df['X'], y_pred, color='red', label='Regression Line')\n",
    "\n",
    "# Add labels, title, and legend\n",
    "plt.title('Scatter Plot with Regression Line')\n",
    "plt.xlabel('X')\n",
    "plt.ylabel('Y')\n",
    "plt.legend()\n",
    "plt.grid(True)\n",
    "\n",
    "# Show the plot\n",
    "plt.show()\n",
    "\n",
    "# Calcular la correlación\n",
    "correlation = df.corr().loc['X', 'Y']\n",
    "\n",
    "# Print the regression equation\n",
    "print(f\"Regression equation: Y = {model.intercept_:.2f} + {model.coef_[0]:.2f}*X\")\n",
    "print(f\"Correlation between X and Y: {correlation:.2f}\")"
   ]
  },
  {
   "cell_type": "markdown",
   "metadata": {},
   "source": [
    "What do you see? What does this plot tell you about the likely relationship between the variables? Print the results from your regression."
   ]
  },
  {
   "cell_type": "markdown",
   "metadata": {},
   "source": [
    "Got a correlation of 97% which is very high"
   ]
  },
  {
   "cell_type": "markdown",
   "metadata": {},
   "source": [
    "Do you see any problematic points, or outliers, in your data? Remove these points and recalculate your regression. Print the new dispersion diagram with your new model and the results of your model. "
   ]
  },
  {
   "cell_type": "code",
   "execution_count": 97,
   "metadata": {},
   "outputs": [],
   "source": [
    "# Your response here.\n",
    "df = df.drop(index=[3, 4, 5, 7])"
   ]
  },
  {
   "cell_type": "code",
   "execution_count": 99,
   "metadata": {},
   "outputs": [
    {
     "data": {
      "image/png": "[encoded data removed]",
      "text/plain": [
       "<Figure size 800x500 with 1 Axes>"
      ]
     },
     "metadata": {},
     "output_type": "display_data"
    },
    {
     "name": "stdout",
     "output_type": "stream",
     "text": [
      "Regression equation: Y = 0.42 + 0.70*X\n",
      "Correlation between X and Y: 0.98\n"
     ]
    }
   ],
   "source": [
    "# Scatter plot of X vs Y\n",
    "plt.figure(figsize=(8, 5))\n",
    "sns.scatterplot(x='X', y='Y', data=df, color='blue', label='Data')\n",
    "\n",
    "# Fit a regression line\n",
    "X = np.array(df['X']).reshape(-1, 1)\n",
    "Y = np.array(df['Y'])\n",
    "model = LinearRegression()\n",
    "model.fit(X, Y)\n",
    "\n",
    "# Generate predictions\n",
    "y_pred = model.predict(X)\n",
    "\n",
    "# Plot the regression line\n",
    "plt.plot(df['X'], y_pred, color='red', label='Regression Line')\n",
    "\n",
    "# Add labels, title, and legend\n",
    "plt.title('Scatter Plot with Regression Line')\n",
    "plt.xlabel('X')\n",
    "plt.ylabel('Y')\n",
    "plt.legend()\n",
    "plt.grid(True)\n",
    "\n",
    "# Show the plot\n",
    "plt.show()\n",
    "\n",
    "# Calcular la correlación\n",
    "correlation = df.corr().loc['X', 'Y']\n",
    "\n",
    "# Print the regression equation\n",
    "print(f\"Regression equation: Y = {model.intercept_:.2f} + {model.coef_[0]:.2f}*X\")\n",
    "print(f\"Correlation between X and Y: {correlation:.2f}\")"
   ]
  },
  {
   "cell_type": "markdown",
   "metadata": {},
   "source": [
    "What changed? Based on the results of the two models and your graphs, what can you say about the form of the data with the problematic point and without it?"
   ]
  },
  {
   "cell_type": "markdown",
   "metadata": {},
   "source": [
    "The correlation increased +1%"
   ]
  }
 ],
 "metadata": {
  "kernelspec": {
   "display_name": "Python 3 (ipykernel)",
   "language": "python",
   "name": "python3"
  },
  "language_info": {
   "codemirror_mode": {
    "name": "ipython",
    "version": 3
   },
   "file_extension": ".py",
   "mimetype": "text/x-python",
   "name": "python",
   "nbconvert_exporter": "python",
   "pygments_lexer": "ipython3",
   "version": "3.12.7"
  }
 },
 "nbformat": 4,
 "nbformat_minor": 4
}
