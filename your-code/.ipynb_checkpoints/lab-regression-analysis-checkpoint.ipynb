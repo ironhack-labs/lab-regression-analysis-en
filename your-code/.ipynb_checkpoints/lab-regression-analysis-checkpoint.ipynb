{
 "cells": [
  {
   "cell_type": "markdown",
   "metadata": {},
   "source": [
    "# Lab: Regression Analysis"
   ]
  },
  {
   "cell_type": "markdown",
   "metadata": {},
   "source": [
    "### Before you start:\n",
    "\n",
    "* Read the README.md file\n",
    "* Comment as much as you can and use the resources (README.md file) \n",
    "\n",
    "Happy learning!"
   ]
  },
  {
   "cell_type": "markdown",
   "metadata": {},
   "source": [
    "## Challenge 1\n",
    "I work at a coding bootcamp, and I have developed a theory that the younger my students are, the more often they are late to class. In order to test my hypothesis, I have collected some data in the following table:\n",
    "\n",
    "| StudentID | Age | Tardies |\n",
    "|--------|-----|------------|\n",
    "| 1      | 17  | 10         |\n",
    "| 2      | 51  | 1          |\n",
    "| 3      | 27  | 5          |\n",
    "| 4      | 21  | 9         |\n",
    "| 5      | 36  |  4         |\n",
    "| 6      | 48  |  2         |\n",
    "| 7      | 19  |  9         |\n",
    "| 8      | 26  | 6          |\n",
    "| 9      | 54  |  0         |\n",
    "| 10     | 30  |  3         |"
   ]
  },
  {
   "cell_type": "code",
   "execution_count": 211,
   "metadata": {},
   "outputs": [],
   "source": [
    "import pandas as pd\n",
    "import numpy as np\n",
    "import plotly.express as px\n",
    "import statsmodels.api as sm\n",
    "from sklearn.linear_model import LinearRegression, Ridge\n",
    "import matplotlib.pyplot as plt\n",
    "import seaborn as sns\n",
    "from numpy.polynomial.polynomial import Polynomial\n",
    "from sklearn.model_selection import train_test_split\n",
    "from sklearn.metrics import r2_score, root_mean_squared_error, mean_absolute_error"
   ]
  },
  {
   "cell_type": "markdown",
   "metadata": {},
   "source": [
    "Use this command to create a dataframe with the data provided in the table. \n",
    "~~~~\n",
    "student_data = pd.DataFrame({'Age': [17,51,27,21,36,48,19,26,54,30], 'Tardies': [10,1,5,9,4,2,9,6,0,3]})\n",
    "~~~~"
   ]
  },
  {
   "cell_type": "code",
   "execution_count": 24,
   "metadata": {},
   "outputs": [],
   "source": [
    "# Your code here. \n",
    "student_data = pd.DataFrame({'Age': [17,51,27,21,36,48,19,26,54,30], 'Tardies': [10,1,5,9,4,2,9,6,0,3]})"
   ]
  },
  {
   "cell_type": "markdown",
   "metadata": {},
   "source": [
    "Draw a dispersion diagram (scatter plot) for the data."
   ]
  },
  {
   "cell_type": "code",
   "execution_count": 27,
   "metadata": {},
   "outputs": [
    {
     "data": {
      "image/png": "[encoded data removed]",
      "text/plain": [
       "<Figure size 800x600 with 1 Axes>"
      ]
     },
     "metadata": {},
     "output_type": "display_data"
    }
   ],
   "source": [
    "# Your code here\n",
    "\n",
    "plt.figure(figsize=(8, 6))\n",
    "plt.scatter(student_data['Age'], student_data['Tardies'], color='blue')\n",
    "\n",
    "# Calculate the trendline (linear regression)\n",
    "p = np.polyfit(student_data['Age'], student_data['Tardies'], 1)\n",
    "plt.plot(student_data['Age'], np.polyval(p, student_data['Age']), color='red', label='Trendline')\n",
    "\n",
    "# Add titles and labels\n",
    "plt.title('Scatter Plot of Age vs. Tardies with Trendline')\n",
    "plt.xlabel('Age')\n",
    "plt.ylabel('Tardies')\n",
    "\n",
    "# Show legend\n",
    "plt.legend()\n",
    "\n",
    "# Show the plot\n",
    "plt.show()"
   ]
  },
  {
   "cell_type": "markdown",
   "metadata": {},
   "source": [
    "Do you see a trend? Can you make any hypotheses about the relationship between age and number of tardies?"
   ]
  },
  {
   "cell_type": "markdown",
   "metadata": {},
   "source": [
    "The tardies reduces with age. so its like a strong negative correlation"
   ]
  },
  {
   "cell_type": "markdown",
   "metadata": {},
   "source": [
    "Calculate the covariance and correlation of the variables in your plot. What is the difference between these two measures? Compare their values. What do they tell you in this case? Add your responses as comments after your code."
   ]
  },
  {
   "cell_type": "code",
   "execution_count": 32,
   "metadata": {},
   "outputs": [
    {
     "name": "stdout",
     "output_type": "stream",
     "text": [
      "Covariance: -45.56666666666666\n",
      "Correlation: -0.9391626886887122\n"
     ]
    }
   ],
   "source": [
    "# your code here\n",
    "\n",
    "# Covariance calculation\n",
    "covariance = np.cov(student_data['Age'], student_data['Tardies'])[0, 1]\n",
    "\n",
    "# Correlation calculation\n",
    "correlation = np.corrcoef(student_data['Age'], student_data['Tardies'])[0, 1]\n",
    "\n",
    "# Print results\n",
    "print(f\"Covariance: {covariance}\")\n",
    "print(f\"Correlation: {correlation}\")"
   ]
  },
  {
   "cell_type": "markdown",
   "metadata": {},
   "source": [
    "Both Covariance and Correlation are negative, Covariance just tells us that there is a strong relationship but doesn't define the direction where as Correlation tells us the strength and direction of the variables age and tardiness \n",
    "and with -0.93 its clear that they have a strong negative correlation."
   ]
  },
  {
   "cell_type": "markdown",
   "metadata": {},
   "source": [
    "Build a regression model for this data. What will be your outcome variable? What type of regression are you using? Add your responses as comments after your code."
   ]
  },
  {
   "cell_type": "code",
   "execution_count": 45,
   "metadata": {},
   "outputs": [
    {
     "name": "stdout",
     "output_type": "stream",
     "text": [
      "Train Set Shape: (7, 1)\n",
      "Test Set Shape: (3, 1)\n",
      "R2 Score: -26.37386413918165\n",
      "RMSE Score: 4.271913243437234\n"
     ]
    }
   ],
   "source": [
    "# your explanation here\n",
    "X = student_data[['Age']]\n",
    "y = student_data[['Tardies']]\n",
    "\n",
    "X_train, X_test, y_train, y_test = train_test_split(X, y, test_size=0.3, random_state=42)\n",
    "\n",
    "print(\"Train Set Shape: {}\".format(X_train.shape))\n",
    "print(\"Test Set Shape: {}\".format(X_test.shape))\n",
    "\n",
    "model = LinearRegression().fit(X_train,y_train)\n",
    "\n",
    "y_preds = model.predict(X_test)\n",
    "\n",
    "print(\"R2 Score: {}\".format(r2_score(y_test,y_preds)))\n",
    "print(\"RMSE Score: {}\".format(root_mean_squared_error(y_test,y_preds)))\n"
   ]
  },
  {
   "cell_type": "markdown",
   "metadata": {},
   "source": [
    "Plot your regression model on your scatter plot."
   ]
  },
  {
   "cell_type": "code",
   "execution_count": 57,
   "metadata": {},
   "outputs": [
    {
     "name": "stderr",
     "output_type": "stream",
     "text": [
      "/opt/anaconda3/lib/python3.12/site-packages/sklearn/base.py:493: UserWarning: X does not have valid feature names, but LinearRegression was fitted with feature names\n",
      "  warnings.warn(\n"
     ]
    },
    {
     "data": {
      "image/png": "[encoded data removed]",
      "text/plain": [
       "<Figure size 800x600 with 1 Axes>"
      ]
     },
     "metadata": {},
     "output_type": "display_data"
    }
   ],
   "source": [
    "# Your code here.\n",
    "# Scatter plot of the data\n",
    "plt.figure(figsize=(8, 6))\n",
    "plt.scatter(student_data['Age'], student_data['Tardies'], color='blue', label='Data')\n",
    "\n",
    "# Plot regression line using the trained model\n",
    "x_range = np.linspace(min(student_data['Age']), max(student_data['Age']), 100).reshape(-1, 1)\n",
    "y_line = model.predict(x_range)\n",
    "plt.plot(x_range, y_line, color='red', label='Regression Line')\n",
    "\n",
    "# Additional plot formatting\n",
    "plt.title('Scatter Plot of Age vs. Tardies with Regression Line')\n",
    "plt.xlabel('Age')\n",
    "plt.ylabel('Tardies')\n",
    "plt.legend()\n",
    "\n",
    "# Show the plot\n",
    "plt.show()"
   ]
  },
  {
   "cell_type": "markdown",
   "metadata": {},
   "source": [
    "Interpret the results of your model. What can conclusions can you draw from your model and how confident in these conclusions are you? Can we say that age is a good predictor of tardiness? Add your responses as comments after your code."
   ]
  },
  {
   "cell_type": "markdown",
   "metadata": {},
   "source": [
    "R² being negative indicates that your model doesn't explain the variability in the target variable and is not a good fit.\n",
    "RMSE being high relative to the scale of Tardies suggests the model has large prediction errors. Age is not a good predictor of tradiness based on the small dataset we have. We need further analysis with a bigger dataset to come to any conclusions."
   ]
  },
  {
   "cell_type": "markdown",
   "metadata": {},
   "source": [
    "## Challenge 2\n",
    "For the second part of this lab, we will use the vehicles.csv data set. You can find a copy of the dataset in the git hub folder. This dataset includes variables related to vehicle characteristics, including the model, make, and energy efficiency standards, as well as each car's CO2 emissions. As discussed in class the goal of this exercise is to predict vehicles' CO2 emissions based on several independent variables. "
   ]
  },
  {
   "cell_type": "code",
   "execution_count": 62,
   "metadata": {},
   "outputs": [],
   "source": [
    "# Import any libraries you may need & the data\n",
    "vehicles = pd.read_csv(\"vehicles.csv\")"
   ]
  },
  {
   "cell_type": "markdown",
   "metadata": {},
   "source": [
    "Let's use the following variables for our analysis: Year, Cylinders, Fuel Barrels/Year, Combined MPG, and Fuel Cost/Year. We will use 'CO2 Emission Grams/Mile' as our outcome variable. \n",
    "\n",
    "Calculate the correlations between each of these variables and the outcome. Which variable do you think will be the most important in determining CO2 emissions? Which provides the least amount of helpful information for determining CO2 emissions? Add your responses as comments after your code."
   ]
  },
  {
   "cell_type": "code",
   "execution_count": 74,
   "metadata": {},
   "outputs": [
    {
     "data": {
      "text/html": [
       "<div>\n",
       "<style scoped>\n",
       "    .dataframe tbody tr th:only-of-type {\n",
       "        vertical-align: middle;\n",
       "    }\n",
       "\n",
       "    .dataframe tbody tr th {\n",
       "        vertical-align: top;\n",
       "    }\n",
       "\n",
       "    .dataframe thead th {\n",
       "        text-align: right;\n",
       "    }\n",
       "</style>\n",
       "<table border=\"1\" class=\"dataframe\">\n",
       "  <thead>\n",
       "    <tr style=\"text-align: right;\">\n",
       "      <th></th>\n",
       "      <th>Make</th>\n",
       "      <th>Model</th>\n",
       "      <th>Year</th>\n",
       "      <th>Engine Displacement</th>\n",
       "      <th>Cylinders</th>\n",
       "      <th>Transmission</th>\n",
       "      <th>Drivetrain</th>\n",
       "      <th>Vehicle Class</th>\n",
       "      <th>Fuel Type</th>\n",
       "      <th>Fuel Barrels/Year</th>\n",
       "      <th>City MPG</th>\n",
       "      <th>Highway MPG</th>\n",
       "      <th>Combined MPG</th>\n",
       "      <th>CO2 Emission Grams/Mile</th>\n",
       "      <th>Fuel Cost/Year</th>\n",
       "    </tr>\n",
       "  </thead>\n",
       "  <tbody>\n",
       "    <tr>\n",
       "      <th>0</th>\n",
       "      <td>AM General</td>\n",
       "      <td>DJ Po Vehicle 2WD</td>\n",
       "      <td>1984</td>\n",
       "      <td>2.5</td>\n",
       "      <td>4.0</td>\n",
       "      <td>Automatic 3-spd</td>\n",
       "      <td>2-Wheel Drive</td>\n",
       "      <td>Special Purpose Vehicle 2WD</td>\n",
       "      <td>Regular</td>\n",
       "      <td>19.388824</td>\n",
       "      <td>18</td>\n",
       "      <td>17</td>\n",
       "      <td>17</td>\n",
       "      <td>522.764706</td>\n",
       "      <td>1950</td>\n",
       "    </tr>\n",
       "    <tr>\n",
       "      <th>1</th>\n",
       "      <td>AM General</td>\n",
       "      <td>FJ8c Post Office</td>\n",
       "      <td>1984</td>\n",
       "      <td>4.2</td>\n",
       "      <td>6.0</td>\n",
       "      <td>Automatic 3-spd</td>\n",
       "      <td>2-Wheel Drive</td>\n",
       "      <td>Special Purpose Vehicle 2WD</td>\n",
       "      <td>Regular</td>\n",
       "      <td>25.354615</td>\n",
       "      <td>13</td>\n",
       "      <td>13</td>\n",
       "      <td>13</td>\n",
       "      <td>683.615385</td>\n",
       "      <td>2550</td>\n",
       "    </tr>\n",
       "    <tr>\n",
       "      <th>2</th>\n",
       "      <td>AM General</td>\n",
       "      <td>Post Office DJ5 2WD</td>\n",
       "      <td>1985</td>\n",
       "      <td>2.5</td>\n",
       "      <td>4.0</td>\n",
       "      <td>Automatic 3-spd</td>\n",
       "      <td>Rear-Wheel Drive</td>\n",
       "      <td>Special Purpose Vehicle 2WD</td>\n",
       "      <td>Regular</td>\n",
       "      <td>20.600625</td>\n",
       "      <td>16</td>\n",
       "      <td>17</td>\n",
       "      <td>16</td>\n",
       "      <td>555.437500</td>\n",
       "      <td>2100</td>\n",
       "    </tr>\n",
       "  </tbody>\n",
       "</table>\n",
       "</div>"
      ],
      "text/plain": [
       "         Make                Model  Year  Engine Displacement  Cylinders  \\\n",
       "0  AM General    DJ Po Vehicle 2WD  1984                  2.5        4.0   \n",
       "1  AM General     FJ8c Post Office  1984                  4.2        6.0   \n",
       "2  AM General  Post Office DJ5 2WD  1985                  2.5        4.0   \n",
       "\n",
       "      Transmission        Drivetrain                Vehicle Class Fuel Type  \\\n",
       "0  Automatic 3-spd     2-Wheel Drive  Special Purpose Vehicle 2WD   Regular   \n",
       "1  Automatic 3-spd     2-Wheel Drive  Special Purpose Vehicle 2WD   Regular   \n",
       "2  Automatic 3-spd  Rear-Wheel Drive  Special Purpose Vehicle 2WD   Regular   \n",
       "\n",
       "   Fuel Barrels/Year  City MPG  Highway MPG  Combined MPG  \\\n",
       "0          19.388824        18           17            17   \n",
       "1          25.354615        13           13            13   \n",
       "2          20.600625        16           17            16   \n",
       "\n",
       "   CO2 Emission Grams/Mile  Fuel Cost/Year  \n",
       "0               522.764706            1950  \n",
       "1               683.615385            2550  \n",
       "2               555.437500            2100  "
      ]
     },
     "execution_count": 74,
     "metadata": {},
     "output_type": "execute_result"
    }
   ],
   "source": [
    "# Your code here.\n",
    "vehicles.head(3)"
   ]
  },
  {
   "cell_type": "code",
   "execution_count": 84,
   "metadata": {},
   "outputs": [
    {
     "data": {
      "text/plain": [
       "Index(['Make', 'Model', 'Year', 'Engine Displacement', 'Cylinders',\n",
       "       'Transmission', 'Drivetrain', 'Vehicle Class', 'Fuel Type',\n",
       "       'Fuel Barrels/Year', 'City MPG', 'Highway MPG', 'Combined MPG',\n",
       "       'CO2 Emission Grams/Mile', 'Fuel Cost/Year'],\n",
       "      dtype='object')"
      ]
     },
     "execution_count": 84,
     "metadata": {},
     "output_type": "execute_result"
    }
   ],
   "source": [
    "vehicles.columns"
   ]
  },
  {
   "cell_type": "code",
   "execution_count": 109,
   "metadata": {},
   "outputs": [
    {
     "name": "stdout",
     "output_type": "stream",
     "text": [
      "Train Set Shape: (25166, 7)\n",
      "Test Set Shape: (10786, 7)\n",
      "R2 Score: 0.9828698466113032\n",
      "RMSE Score: 15.474320960441839\n"
     ]
    }
   ],
   "source": [
    "X = vehicles[['Engine Displacement',\n",
    "              'Fuel Barrels/Year', \n",
    "              'City MPG', \n",
    "              'Highway MPG', \n",
    "              'Combined MPG',\n",
    "              'Fuel Cost/Year']]\n",
    "\n",
    "y = vehicles[['CO2 Emission Grams/Mile']]\n",
    "\n",
    "\n",
    "# Add a constant term for the intercept\n",
    "X = sm.add_constant(X)\n",
    "\n",
    "X_train, X_test, y_train, y_test = train_test_split(X, y, test_size=0.3, random_state=42)\n",
    "\n",
    "print(\"Train Set Shape: {}\".format(X_train.shape))\n",
    "print(\"Test Set Shape: {}\".format(X_test.shape))\n",
    "\n",
    "model = LinearRegression().fit(X_train,y_train)\n",
    "\n",
    "y_preds = model.predict(X_test)\n",
    "\n",
    "print(\"R2 Score: {}\".format(r2_score(y_test,y_preds)))\n",
    "print(\"RMSE Score: {}\".format(root_mean_squared_error(y_test,y_preds)))"
   ]
  },
  {
   "cell_type": "markdown",
   "metadata": {},
   "source": [
    "Build a regression model for this data. What type of regression are you using? Add your responses as comments after your code."
   ]
  },
  {
   "cell_type": "code",
   "execution_count": 112,
   "metadata": {},
   "outputs": [
    {
     "name": "stdout",
     "output_type": "stream",
     "text": [
      "R2 Score: 0.9828698072892688\n",
      "RMSE Score: 15.474338720978457\n"
     ]
    }
   ],
   "source": [
    "# Your code here.\n",
    "model2 = Ridge().fit(X_train,y_train)\n",
    "\n",
    "y_preds_2 = model2.predict(X_test)\n",
    "\n",
    "print(\"R2 Score: {}\".format(r2_score(y_test,y_preds_2)))\n",
    "print(\"RMSE Score: {}\".format(root_mean_squared_error(y_test,y_preds_2)))"
   ]
  },
  {
   "cell_type": "markdown",
   "metadata": {},
   "source": [
    "Print your regression summary, and interpret the results. What are the most important varibles in your model and why? What can conclusions can you draw from your model and how confident in these conclusions are you? Add your responses as comments after your code."
   ]
  },
  {
   "cell_type": "code",
   "execution_count": 115,
   "metadata": {},
   "outputs": [
    {
     "name": "stdout",
     "output_type": "stream",
     "text": [
      "                               OLS Regression Results                              \n",
      "===================================================================================\n",
      "Dep. Variable:     CO2 Emission Grams/Mile   R-squared:                       0.982\n",
      "Model:                                 OLS   Adj. R-squared:                  0.982\n",
      "Method:                      Least Squares   F-statistic:                 2.274e+05\n",
      "Date:                     Thu, 12 Dec 2024   Prob (F-statistic):               0.00\n",
      "Time:                             15:32:04   Log-Likelihood:            -1.0559e+05\n",
      "No. Observations:                    25166   AIC:                         2.112e+05\n",
      "Df Residuals:                        25159   BIC:                         2.113e+05\n",
      "Df Model:                                6                                         \n",
      "Covariance Type:                 nonrobust                                         \n",
      "=======================================================================================\n",
      "                          coef    std err          t      P>|t|      [0.025      0.975]\n",
      "---------------------------------------------------------------------------------------\n",
      "const                 157.7707      1.999     78.944      0.000     153.853     161.688\n",
      "Engine Displacement     4.5456      0.125     36.235      0.000       4.300       4.792\n",
      "Fuel Barrels/Year      17.8798      0.075    238.593      0.000      17.733      18.027\n",
      "City MPG                0.9223      0.191      4.840      0.000       0.549       1.296\n",
      "Highway MPG            -2.9499      0.108    -27.275      0.000      -3.162      -2.738\n",
      "Combined MPG           -1.0882      0.281     -3.879      0.000      -1.638      -0.538\n",
      "Fuel Cost/Year          0.0335      0.001     63.655      0.000       0.032       0.035\n",
      "==============================================================================\n",
      "Omnibus:                    46748.949   Durbin-Watson:                   2.014\n",
      "Prob(Omnibus):                  0.000   Jarque-Bera (JB):        118967135.742\n",
      "Skew:                          13.873   Prob(JB):                         0.00\n",
      "Kurtosis:                     338.686   Cond. No.                     3.87e+04\n",
      "==============================================================================\n",
      "\n",
      "Notes:\n",
      "[1] Standard Errors assume that the covariance matrix of the errors is correctly specified.\n",
      "[2] The condition number is large, 3.87e+04. This might indicate that there are\n",
      "strong multicollinearity or other numerical problems.\n"
     ]
    }
   ],
   "source": [
    "# Your code here.\n",
    "model = sm.OLS(y_train, X_train).fit()\n",
    "# Print the regression summary\n",
    "print(model.summary())"
   ]
  },
  {
   "cell_type": "markdown",
   "metadata": {},
   "source": [
    "R²: 0.982\n",
    "This indicates that 98.2% of the variability in CO2 Emissions is explained by the predictors in the model. This is a very high value, suggesting a strong model fit.\n",
    "Adjusted R²: 0.982\n",
    "Adjusted R² accounts for the number of predictors in the model and confirms that the model's fit remains excellent after accounting for the complexity of the model.\n",
    "\n",
    "The p-values for all predictors are 0.000, meaning all variables are statistically significant at the 0.05 level. This suggests that every predictor contributes meaningfully to explaining CO2 emissions.\n",
    "\n",
    "The extremely high F-statistic and low p-value indicate that the model, as a whole, is statistically significant. At least one of the predictors explains variability in CO2 emissions.\n",
    "\n",
    "The model explains nearly all variability in CO2 emissions with a high degree of confidence, as indicated by the high R² and significant predictors.\n",
    "The relationships align with expectations: higher fuel consumption and engine size increase emissions, while better fuel efficiency reduces them.\n",
    "Despite the strong performance, the residual non-normality (Omnibus and Jarque-Bera results) suggests potential outliers or skewness in the data, which may warrant further investigation. The model may overfit. So some Normalization may be required before fitting the model\n"
   ]
  },
  {
   "cell_type": "markdown",
   "metadata": {},
   "source": [
    "## Bonus Challenge: Error Analysis"
   ]
  },
  {
   "cell_type": "markdown",
   "metadata": {},
   "source": [
    "I am suspicious about the last few parties I have thrown: it seems that the more people I invite the more people are unable to attend. To know if my hunch is supported by data, I have decided to do an analysis. I have collected my data in the table below, where X is the number of people I invited, and Y is the number of people who attended. \n",
    "\n",
    "|  X |  Y |\n",
    "|----|----|\n",
    "| 1  |  1 |\n",
    "| 3  |  2 |\n",
    "| 4  |  4 |\n",
    "| 6  |  4 |\n",
    "| 8  |  5 |\n",
    "| 9  |  7 |\n",
    "| 11 |  8 |\n",
    "| 14 |  13 |"
   ]
  },
  {
   "cell_type": "markdown",
   "metadata": {},
   "source": [
    "We want to know if the relationship modeled by the two random variables is linear or not, and therefore if it is appropriate to model it with a linear regression. \n",
    "First, build a dataframe with the data. "
   ]
  },
  {
   "cell_type": "code",
   "execution_count": 206,
   "metadata": {},
   "outputs": [],
   "source": [
    "# Your code here.\n",
    "data = pd.DataFrame({'X': [1,3,4,6,8,9,11,14], 'Y': [1,2,4,4,5,7,8,13]})"
   ]
  },
  {
   "cell_type": "markdown",
   "metadata": {},
   "source": [
    "Draw a dispersion diagram (scatter plot) for the data, and fit a regression line."
   ]
  },
  {
   "cell_type": "code",
   "execution_count": 259,
   "metadata": {},
   "outputs": [
    {
     "name": "stdout",
     "output_type": "stream",
     "text": [
      "R2 Score: 0.9931\n",
      "RMSE Score: 0.2079\n"
     ]
    },
    {
     "name": "stderr",
     "output_type": "stream",
     "text": [
      "/opt/anaconda3/lib/python3.12/site-packages/sklearn/base.py:493: UserWarning: X does not have valid feature names, but LinearRegression was fitted with feature names\n",
      "  warnings.warn(\n"
     ]
    },
    {
     "data": {
      "image/png": "[encoded data removed]",
      "text/plain": [
       "<Figure size 800x600 with 1 Axes>"
      ]
     },
     "metadata": {},
     "output_type": "display_data"
    }
   ],
   "source": [
    "# Adjusted data after outlier removal\n",
    "X = sm.add_constant(data[['X']])\n",
    "y = data['Y']\n",
    "\n",
    "# Train-test split\n",
    "X_train, X_test, y_train, y_test = train_test_split(X, y, test_size=0.2, random_state=42)\n",
    "\n",
    "# Train the model\n",
    "model = LinearRegression().fit(X_train, y_train)\n",
    "\n",
    "# Predict on the test set\n",
    "y_preds_test = model.predict(X_test)\n",
    "\n",
    "# Evaluate the model\n",
    "r2 = r2_score(y_test, y_preds_test)\n",
    "rmse = root_mean_squared_error(y_test, y_preds_test)\n",
    "\n",
    "print(\"R2 Score: {:.4f}\".format(r2))\n",
    "print(\"RMSE Score: {:.4f}\".format(rmse))\n",
    "\n",
    "# Predict values for the regression line (using the full range of X)\n",
    "X_full = np.linspace(min(data['X']), max(data['X']), 100)\n",
    "X_full_const = sm.add_constant(X_full)  # Add constant term for the intercept\n",
    "y_full_pred = model.predict(X_full_const)\n",
    "\n",
    "# Plot\n",
    "plt.figure(figsize=(8, 6))\n",
    "\n",
    "# Scatter plot for data points\n",
    "plt.scatter(data['X'], data['Y'], color='blue', label='Actual Data')\n",
    "\n",
    "# Plot regression line\n",
    "plt.plot(X_full, y_full_pred, color='red', label='Regression Line')\n",
    "\n",
    "# Customize the plot\n",
    "plt.title(\"Scatter Plot with Regression Line\")\n",
    "plt.xlabel(\"X\")\n",
    "plt.ylabel(\"Y\")\n",
    "plt.legend()\n",
    "plt.grid(True)\n",
    "\n",
    "# Show the plot\n",
    "plt.show()"
   ]
  },
  {
   "cell_type": "code",
   "execution_count": 261,
   "metadata": {},
   "outputs": [
    {
     "name": "stdout",
     "output_type": "stream",
     "text": [
      "                            OLS Regression Results                            \n",
      "==============================================================================\n",
      "Dep. Variable:                      Y   R-squared:                       0.920\n",
      "Model:                            OLS   Adj. R-squared:                  0.901\n",
      "Method:                 Least Squares   F-statistic:                     46.31\n",
      "Date:                Thu, 12 Dec 2024   Prob (F-statistic):            0.00244\n",
      "Time:                        16:24:48   Log-Likelihood:                -8.9347\n",
      "No. Observations:                   6   AIC:                             21.87\n",
      "Df Residuals:                       4   BIC:                             21.45\n",
      "Df Model:                           1                                         \n",
      "Covariance Type:            nonrobust                                         \n",
      "==============================================================================\n",
      "                 coef    std err          t      P>|t|      [0.025      0.975]\n",
      "------------------------------------------------------------------------------\n",
      "const         -0.3802      1.059     -0.359      0.738      -3.320       2.560\n",
      "X              0.8473      0.125      6.805      0.002       0.502       1.193\n",
      "==============================================================================\n",
      "Omnibus:                          nan   Durbin-Watson:                   1.086\n",
      "Prob(Omnibus):                    nan   Jarque-Bera (JB):                0.641\n",
      "Skew:                           0.096   Prob(JB):                        0.726\n",
      "Kurtosis:                       1.410   Cond. No.                         17.0\n",
      "==============================================================================\n",
      "\n",
      "Notes:\n",
      "[1] Standard Errors assume that the covariance matrix of the errors is correctly specified.\n"
     ]
    },
    {
     "name": "stderr",
     "output_type": "stream",
     "text": [
      "/opt/anaconda3/lib/python3.12/site-packages/statsmodels/stats/stattools.py:74: ValueWarning: omni_normtest is not valid with less than 8 observations; 6 samples were given.\n",
      "  warn(\"omni_normtest is not valid with less than 8 observations; %i \"\n"
     ]
    }
   ],
   "source": [
    "# Your code here.\n",
    "model = sm.OLS(y_train, X_train).fit()\n",
    "# Print the regression summary\n",
    "print(model.summary())"
   ]
  },
  {
   "cell_type": "markdown",
   "metadata": {},
   "source": [
    "What do you see? What does this plot tell you about the likely relationship between the variables? Print the results from your regression."
   ]
  },
  {
   "cell_type": "markdown",
   "metadata": {},
   "source": [
    "*your explanation here*\n",
    "The dataset is too small to make any conclusions however from the graph there seems to be a positive correlation between the two variables and also the R2 squares explain the model performance significantly. There seems to be one point outlier."
   ]
  },
  {
   "cell_type": "markdown",
   "metadata": {},
   "source": [
    "Do you see any problematic points, or outliers, in your data? Remove these points and recalculate your regression. Print the new dispersion diagram with your new model and the results of your model. "
   ]
  },
  {
   "cell_type": "code",
   "execution_count": 266,
   "metadata": {},
   "outputs": [
    {
     "name": "stdout",
     "output_type": "stream",
     "text": [
      "R2 Score: -0.5472\n",
      "RMSE Score: 0.6219\n"
     ]
    },
    {
     "name": "stderr",
     "output_type": "stream",
     "text": [
      "/opt/anaconda3/lib/python3.12/site-packages/sklearn/base.py:493: UserWarning: X does not have valid feature names, but LinearRegression was fitted with feature names\n",
      "  warnings.warn(\n"
     ]
    },
    {
     "data": {
      "image/png": "[encoded data removed]",
      "text/plain": [
       "<Figure size 800x600 with 1 Axes>"
      ]
     },
     "metadata": {},
     "output_type": "display_data"
    }
   ],
   "source": [
    "# Adjusted data after outlier removal\n",
    "data_mod = data[data['X'] < 14]\n",
    "\n",
    "X = sm.add_constant(data_mod[['X']])\n",
    "y = data_mod['Y']\n",
    "\n",
    "# Train-test split\n",
    "X_train, X_test, y_train, y_test = train_test_split(X, y, test_size=0.2, random_state=42)\n",
    "\n",
    "# Train the model\n",
    "model = LinearRegression().fit(X_train, y_train)\n",
    "\n",
    "# Predict on the test set\n",
    "y_preds_test = model.predict(X_test)\n",
    "\n",
    "# Evaluate the model\n",
    "r2 = r2_score(y_test, y_preds_test)\n",
    "rmse = root_mean_squared_error(y_test, y_preds_test)\n",
    "\n",
    "print(\"R2 Score: {:.4f}\".format(r2))\n",
    "print(\"RMSE Score: {:.4f}\".format(rmse))\n",
    "\n",
    "# Predict values for the regression line (using the full range of X)\n",
    "X_full = np.linspace(min(data_mod['X']), max(data_mod['X']), 100)\n",
    "X_full_const = sm.add_constant(X_full)  # Add constant term for the intercept\n",
    "y_full_pred = model.predict(X_full_const)\n",
    "\n",
    "# Plot\n",
    "plt.figure(figsize=(8, 6))\n",
    "\n",
    "# Scatter plot for data points\n",
    "plt.scatter(data_mod['X'], data_mod['Y'], color='blue', label='Actual Data')\n",
    "\n",
    "# Plot regression line\n",
    "plt.plot(X_full, y_full_pred, color='red', label='Regression Line')\n",
    "\n",
    "# Customize the plot\n",
    "plt.title(\"Scatter Plot with Regression Line (Outliers Removed)\")\n",
    "plt.xlabel(\"X\")\n",
    "plt.ylabel(\"Y\")\n",
    "plt.legend()\n",
    "plt.grid(True)\n",
    "\n",
    "# Show the plot\n",
    "plt.show()"
   ]
  },
  {
   "cell_type": "code",
   "execution_count": 268,
   "metadata": {},
   "outputs": [
    {
     "name": "stdout",
     "output_type": "stream",
     "text": [
      "                            OLS Regression Results                            \n",
      "==============================================================================\n",
      "Dep. Variable:                      Y   R-squared:                       0.859\n",
      "Model:                            OLS   Adj. R-squared:                  0.813\n",
      "Method:                 Least Squares   F-statistic:                     18.33\n",
      "Date:                Thu, 12 Dec 2024   Prob (F-statistic):             0.0234\n",
      "Time:                        16:25:03   Log-Likelihood:                -4.6174\n",
      "No. Observations:                   5   AIC:                             13.23\n",
      "Df Residuals:                       3   BIC:                             12.45\n",
      "Df Model:                           1                                         \n",
      "Covariance Type:            nonrobust                                         \n",
      "==============================================================================\n",
      "                 coef    std err          t      P>|t|      [0.025      0.975]\n",
      "------------------------------------------------------------------------------\n",
      "const          0.8630      1.161      0.743      0.511      -2.831       4.557\n",
      "X              0.6233      0.146      4.282      0.023       0.160       1.087\n",
      "==============================================================================\n",
      "Omnibus:                          nan   Durbin-Watson:                   1.662\n",
      "Prob(Omnibus):                    nan   Jarque-Bera (JB):                0.692\n",
      "Skew:                          -0.350   Prob(JB):                        0.708\n",
      "Kurtosis:                       1.317   Cond. No.                         26.7\n",
      "==============================================================================\n",
      "\n",
      "Notes:\n",
      "[1] Standard Errors assume that the covariance matrix of the errors is correctly specified.\n"
     ]
    },
    {
     "name": "stderr",
     "output_type": "stream",
     "text": [
      "/opt/anaconda3/lib/python3.12/site-packages/statsmodels/stats/stattools.py:74: ValueWarning: omni_normtest is not valid with less than 8 observations; 5 samples were given.\n",
      "  warn(\"omni_normtest is not valid with less than 8 observations; %i \"\n"
     ]
    }
   ],
   "source": [
    "# Your code here.\n",
    "model = sm.OLS(y_train, X_train).fit()\n",
    "# Print the regression summary\n",
    "print(model.summary())"
   ]
  },
  {
   "cell_type": "markdown",
   "metadata": {},
   "source": [
    "What changed? Based on the results of the two models and your graphs, what can you say about the form of the data with the problematic point and without it?"
   ]
  },
  {
   "cell_type": "markdown",
   "metadata": {},
   "source": [
    "R-squared (R²): 0.859 This indicates that 85.9% of the variability in 𝑌, Y is explained by 𝑋, which suggests a strong linear relationship.\n",
    "Adjusted R-squared: 0.813 Adjusted for the number of predictors; it is slightly lower but still confirms a strong model fit.\n",
    "The low p-value (< 0.05) indicates that the model as a whole is statistically significant.\n",
    "The dataset contains only 5 observations, which limits the generalizability of the results and may increase sensitivity to outliers.\n",
    "\n",
    "The model captures a strong linear relationship between 𝑋\n",
    "The results are reliable for the observed range of 𝑋, but due to the small sample size, conclusions should be drawn cautiously.\n",
    "Further data collection is recommended to validate and strengthen the model."
   ]
  },
  {
   "cell_type": "code",
   "execution_count": null,
   "metadata": {},
   "outputs": [],
   "source": []
  }
 ],
 "metadata": {
  "kernelspec": {
   "display_name": "Python 3 (ipykernel)",
   "language": "python",
   "name": "python3"
  },
  "language_info": {
   "codemirror_mode": {
    "name": "ipython",
    "version": 3
   },
   "file_extension": ".py",
   "mimetype": "text/x-python",
   "name": "python",
   "nbconvert_exporter": "python",
   "pygments_lexer": "ipython3",
   "version": "3.12.4"
  }
 },
 "nbformat": 4,
 "nbformat_minor": 4
}
