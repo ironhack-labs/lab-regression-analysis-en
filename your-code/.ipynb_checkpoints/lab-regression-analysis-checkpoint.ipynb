{
 "cells": [
  {
   "cell_type": "markdown",
   "metadata": {},
   "source": [
    "# Lab: Regression Analysis"
   ]
  },
  {
   "cell_type": "markdown",
   "metadata": {},
   "source": [
    "### Before you start:\n",
    "\n",
    "* Read the README.md file\n",
    "* Comment as much as you can and use the resources (README.md file) \n",
    "\n",
    "Happy learning!"
   ]
  },
  {
   "cell_type": "markdown",
   "metadata": {},
   "source": [
    "## Challenge 1\n",
    "I work at a coding bootcamp, and I have developed a theory that the younger my students are, the more often they are late to class. In order to test my hypothesis, I have collected some data in the following table:\n",
    "\n",
    "| StudentID | Age | Tardies |\n",
    "|--------|-----|------------|\n",
    "| 1      | 17  | 10         |\n",
    "| 2      | 51  | 1          |\n",
    "| 3      | 27  | 5          |\n",
    "| 4      | 21  | 9         |\n",
    "| 5      | 36  |  4         |\n",
    "| 6      | 48  |  2         |\n",
    "| 7      | 19  |  9         |\n",
    "| 8      | 26  | 6          |\n",
    "| 9      | 54  |  0         |\n",
    "| 10     | 30  |  3         |"
   ]
  },
  {
   "cell_type": "code",
   "execution_count": null,
   "metadata": {},
   "outputs": [],
   "source": [
    "import pandas as pd\n",
    "import numpy as np\n",
    "import plotly.express as px\n",
    "import statsmodels.formula.api as smf\n",
    "from sklearn.linear_model import LinearRegression\n",
    "import matplotlib.pyplot as plt\n",
    "import seaborn as sns"
   ]
  },
  {
   "cell_type": "markdown",
   "metadata": {},
   "source": [
    "Use this command to create a dataframe with the data provided in the table. \n",
    "~~~~\n",
    "student_data = pd.DataFrame({'Age': [17,51,27,21,36,48,19,26,54,30], 'Tardies': [10,1,5,9,4,2,9,6,0,3]})\n",
    "~~~~"
   ]
  },
  {
   "cell_type": "code",
   "execution_count": null,
   "metadata": {},
   "outputs": [],
   "source": [
    "# Your code here. \n",
    "student_data = pd.DataFrame({'Age': [17,51,27,21,36,48,19,26,54,30], 'Tardies': [10,1,5,9,4,2,9,6,0,3]})\n"
   ]
  },
  {
   "cell_type": "markdown",
   "metadata": {},
   "source": [
    "Draw a dispersion diagram (scatter plot) for the data."
   ]
  },
  {
   "cell_type": "code",
   "execution_count": null,
   "metadata": {},
   "outputs": [],
   "source": [
    "# Your code here\n",
    "\n",
    "sns.scatterplot(data=student_data, x='Age', y='Tardies')\n",
    "plt.title('Scatter Plot of Age vs Tardies')\n",
    "plt.xlabel('Age')\n",
    "plt.ylabel('Tardies')\n",
    "plt.show()\n",
    "\n"
   ]
  },
  {
   "cell_type": "markdown",
   "metadata": {},
   "source": [
    "Do you see a trend? Can you make any hypotheses about the relationship between age and number of tardies?"
   ]
  },
  {
   "cell_type": "markdown",
   "metadata": {},
   "source": [
    "*your explanation here*\n",
    "\n",
    "It appears there is a negative relationship between Age and Tardies. As the age increases, the number of tardies tends to decrease.\n"
   ]
  },
  {
   "cell_type": "markdown",
   "metadata": {},
   "source": [
    "Calculate the covariance and correlation of the variables in your plot. What is the difference between these two measures? Compare their values. What do they tell you in this case? Add your responses as comments after your code."
   ]
  },
  {
   "cell_type": "code",
   "execution_count": null,
   "metadata": {},
   "outputs": [],
   "source": [
    "# your code here\n",
    "\n",
    "covariance = student_data['Age'].cov(student_data['Tardies'])\n",
    "print(f\"Covariance between Age and Tardies: {covariance}\")\n",
    "\n",
    "correlation = student_data['Age'].corr(student_data['Tardies'])\n",
    "print(f\"Correlation between Age and Tardies: {correlation}\")"
   ]
  },
  {
   "cell_type": "markdown",
   "metadata": {},
   "source": [
    "Build a regression model for this data. What will be your outcome variable? What type of regression are you using? Add your responses as comments after your code."
   ]
  },
  {
   "cell_type": "code",
   "execution_count": null,
   "metadata": {},
   "outputs": [],
   "source": [
    "# your explanation here\n",
    "X = student_data[['Age']]  # Predictor: Age\n",
    "y = student_data['Tardies']  # Outcome: Tardies\n",
    "\n",
    "model = LinearRegression()\n",
    "model.fit(X, y)\n",
    "\n",
    "slope = model.coef_[0]\n",
    "intercept = model.intercept_\n",
    "\n",
    "print(f\"Regression Equation: Tardies = {intercept:.2f} + {slope:.2f} * Age\")\n",
    "\n",
    "predicted_tardies = model.predict(X)"
   ]
  },
  {
   "cell_type": "markdown",
   "metadata": {},
   "source": [
    "Plot your regression model on your scatter plot."
   ]
  },
  {
   "cell_type": "code",
   "execution_count": null,
   "metadata": {},
   "outputs": [],
   "source": [
    "# Your code here.\n",
    "\n",
    "sns.scatterplot(x=student_data['Age'], y=student_data['Tardies'], label='Actual Data')\n",
    "plt.plot(student_data['Age'], predicted_tardies, color='red', label='Regression Line')\n",
    "plt.title('Age vs Tardies Regression')\n",
    "plt.xlabel('Age')\n",
    "plt.ylabel('Tardies')\n",
    "plt.legend()\n",
    "plt.show()"
   ]
  },
  {
   "cell_type": "markdown",
   "metadata": {},
   "source": [
    "Interpret the results of your model. What can conclusions can you draw from your model and how confident in these conclusions are you? Can we say that age is a good predictor of tardiness? Add your responses as comments after your code."
   ]
  },
  {
   "cell_type": "markdown",
   "metadata": {},
   "source": [
    "*your explanation here*\n",
    "\n",
    "### Comments:\n",
    "1. **Outcome Variable**:\n",
    "   - The outcome variable (dependent variable) is **Tardies**, as we are predicting the number of tardies based on the student's age.\n",
    "\n",
    "2. **Predictor Variable**:\n",
    "   - The predictor variable (independent variable) is **Age**, as it is used to predict tardies.\n",
    "\n",
    "3. **Type of Regression**:\n",
    "   - We are using **Linear Regression** because we are modeling the relationship between a continuous predictor (Age) and a continuous outcome variable (Tardies).\n",
    "\n",
    "4. **Interpretation of Results**:\n",
    "   - The **intercept** represents the predicted number of tardies when the age is zero.\n",
    "   - The **slope** indicates the change in the number of tardies for a one-unit increase in age.\n",
    "\n",
    "---"
   ]
  },
  {
   "cell_type": "markdown",
   "metadata": {},
   "source": [
    "## Challenge 2\n",
    "For the second part of this lab, we will use the vehicles.csv data set. You can find a copy of the dataset in the git hub folder. This dataset includes variables related to vehicle characteristics, including the model, make, and energy efficiency standards, as well as each car's CO2 emissions. As discussed in class the goal of this exercise is to predict vehicles' CO2 emissions based on several independent variables. "
   ]
  },
  {
   "cell_type": "code",
   "execution_count": null,
   "metadata": {},
   "outputs": [],
   "source": [
    "# Import any libraries you may need & the data\n",
    "vehicles = pd.read_csv(\"C:\\\\Users\\\\andre\\\\Google Drive\\\\My Drive\\\\Education\\\\IronHack - DS & ML Bootcamp\\\\5. Week 4\\\\Labs\\\\3\\\\lab-regression-analysis-en\\\\vehicles.csv\")\n",
    "\n",
    "vehicles.head()"
   ]
  },
  {
   "cell_type": "markdown",
   "metadata": {},
   "source": [
    "Let's use the following variables for our analysis: Year, Cylinders, Fuel Barrels/Year, Combined MPG, and Fuel Cost/Year. We will use 'CO2 Emission Grams/Mile' as our outcome variable. \n",
    "\n",
    "Calculate the correlations between each of these variables and the outcome. Which variable do you think will be the most important in determining CO2 emissions? Which provides the least amount of helpful information for determining CO2 emissions? Add your responses as comments after your code."
   ]
  },
  {
   "cell_type": "code",
   "execution_count": null,
   "metadata": {},
   "outputs": [],
   "source": [
    "# Your code here.\n",
    "\n",
    "correlation_columns = ['Year', 'Cylinders', 'Fuel Barrels/Year', 'Combined MPG', 'Fuel Cost/Year', 'CO2 Emission Grams/Mile']\n",
    "\n",
    "correlation_data = vehicles[correlation_columns]\n",
    "\n",
    "correlation_matrix = correlation_data.corr()\n",
    "\n",
    "print(correlation_matrix['CO2 Emission Grams/Mile'])\n"
   ]
  },
  {
   "cell_type": "markdown",
   "metadata": {},
   "source": [
    "Build a regression model for this data. What type of regression are you using? Add your responses as comments after your code."
   ]
  },
  {
   "cell_type": "code",
   "execution_count": null,
   "metadata": {},
   "outputs": [],
   "source": [
    "# Your code here.\n",
    "\n",
    "import statsmodels.api as sm\n",
    "\n",
    "X = vehicles[['Year', 'Cylinders', 'Fuel Barrels/Year', 'Combined MPG', 'Fuel Cost/Year']]\n",
    "y = vehicles['CO2 Emission Grams/Mile']\n",
    "\n",
    "X = sm.add_constant(X)\n",
    "\n",
    "model = sm.OLS(y, X).fit()\n",
    "\n",
    "\"\"\"\n",
    "Regression Type: Multiple linear regression is used because we are predicting one continuous outcome variable \n",
    "(CO2 Emission Grams/Mile) based on multiple continuous predictors.\n",
    "\"\"\""
   ]
  },
  {
   "cell_type": "markdown",
   "metadata": {},
   "source": [
    "Print your regression summary, and interpret the results. What are the most important varibles in your model and why? What can conclusions can you draw from your model and how confident in these conclusions are you? Add your responses as comments after your code."
   ]
  },
  {
   "cell_type": "code",
   "execution_count": null,
   "metadata": {},
   "outputs": [],
   "source": [
    "# Your code here.\n",
    "\n",
    "print(model.summary())"
   ]
  },
  {
   "cell_type": "markdown",
   "metadata": {},
   "source": [
    "### Regression Summary Interpretation:\n",
    "\n",
    "#### **Key Results from the Summary**:\n",
    "1. **R-squared**: 0.981\n",
    "   - This indicates that **98.1%** of the variability in `CO2 Emission Grams/Mile` is explained by the independent variables. This is an excellent fit.\n",
    "\n",
    "2. **P-values**:\n",
    "   - All predictors have **p-values < 0.05**, indicating they are all statistically significant predictors of `CO2 Emission Grams/Mile`.\n",
    "\n",
    "3. **Coefficients**:\n",
    "   - **Year**:\n",
    "     - Coefficient: -0.3206\n",
    "     - Interpretation: For every additional year, CO2 emissions decrease by \\(0.32\\) grams/mile on average, holding other factors constant.\n",
    "   - **Cylinders**:\n",
    "     - Coefficient: 17.8788\n",
    "     - Interpretation: For every additional cylinder, CO2 emissions increase by \\(17.88\\) grams/mile on average.\n",
    "   - **Fuel Barrels/Year**:\n",
    "     - Coefficient: 19.0529\n",
    "     - Interpretation: Each additional fuel barrel consumed annually increases CO2 emissions by \\(19.05\\) grams/mile.\n",
    "   - **Combined MPG**:\n",
    "     - Coefficient: -3.0404\n",
    "     - Interpretation: For each additional mile per gallon in combined fuel efficiency, CO2 emissions decrease by \\(3.04\\) grams/mile.\n",
    "   - **Fuel Cost/Year**:\n",
    "     - Coefficient: 0.0323\n",
    "     - Interpretation: For every dollar increase in annual fuel cost, CO2 emissions increase by \\(0.0323\\) grams/mile.\n",
    "\n",
    "---\n",
    "\n",
    "### **Most Important Variables**:\n",
    "- The most impactful variables are those with **large absolute coefficients**:\n",
    "  - **Fuel Barrels/Year** (19.05)\n",
    "  - **Cylinders** (17.88)\n",
    "\n",
    "These variables have the strongest relationship with `CO2 Emission Grams/Mile`.\n",
    "\n",
    "---\n",
    "\n",
    "### **Least Important Variable**:\n",
    "- **Fuel Cost/Year**:\n",
    "  - While statistically significant (p < 0.05), its small coefficient (0.0323) suggests it has a minor effect on CO2 emissions compared to other variables.\n",
    "\n",
    "---\n",
    "\n",
    "### **Conclusions**:\n",
    "1. The model explains the variation in CO2 emissions very well, as evidenced by the high \\(R^2\\).\n",
    "2. **Fuel Barrels/Year**, **Cylinders**, and **Combined MPG** are critical drivers of CO2 emissions.\n",
    "3. The results are statistically significant, and we can be confident in the conclusions drawn from this model. However, multicollinearity warnings indicate potential overlap in the information provided by some predictors, which could slightly impact interpretability."
   ]
  },
  {
   "cell_type": "markdown",
   "metadata": {},
   "source": [
    "## Bonus Challenge: Error Analysis"
   ]
  },
  {
   "cell_type": "markdown",
   "metadata": {},
   "source": [
    "I am suspicious about the last few parties I have thrown: it seems that the more people I invite the more people are unable to attend. To know if my hunch is supported by data, I have decided to do an analysis. I have collected my data in the table below, where X is the number of people I invited, and Y is the number of people who attended. \n",
    "\n",
    "|  X |  Y |\n",
    "|----|----|\n",
    "| 1  |  1 |\n",
    "| 3  |  2 |\n",
    "| 4  |  4 |\n",
    "| 6  |  4 |\n",
    "| 8  |  5 |\n",
    "| 9  |  7 |\n",
    "| 11 |  8 |\n",
    "| 14 |  13 |"
   ]
  },
  {
   "cell_type": "markdown",
   "metadata": {},
   "source": [
    "We want to know if the relationship modeled by the two random variables is linear or not, and therefore if it is appropriate to model it with a linear regression. \n",
    "First, build a dataframe with the data. "
   ]
  },
  {
   "cell_type": "code",
   "execution_count": null,
   "metadata": {},
   "outputs": [],
   "source": [
    "# Your code here.\n",
    "data = pd.DataFrame({\n",
    "    'X': [1, 3, 4, 6, 8, 9, 11, 14],\n",
    "    'Y': [1, 2, 4, 4, 5, 7, 8, 13]\n",
    "})\n",
    "\n",
    "print(data)"
   ]
  },
  {
   "cell_type": "markdown",
   "metadata": {},
   "source": [
    "Draw a dispersion diagram (scatter plot) for the data, and fit a regression line."
   ]
  },
  {
   "cell_type": "code",
   "execution_count": null,
   "metadata": {},
   "outputs": [],
   "source": [
    "# Your code here.\n",
    "\n",
    "# Scatter plot with regression line\n",
    "sns.regplot(x=data['X'], y=data['Y'], ci=None)\n",
    "plt.title('Scatter Plot with Regression Line')\n",
    "plt.xlabel('Number of People Invited (X)')\n",
    "plt.ylabel('Number of People Attended (Y)')\n",
    "plt.show()\n",
    "\n",
    "# Fit a linear regression model\n",
    "X = data[['X']]\n",
    "y = data['Y']\n",
    "model = LinearRegression()\n",
    "model.fit(X, y)\n",
    "\n",
    "# Print regression results\n",
    "print(f\"Intercept: {model.intercept_}\")\n",
    "print(f\"Slope: {model.coef_[0]}\")"
   ]
  },
  {
   "cell_type": "markdown",
   "metadata": {},
   "source": [
    "What do you see? What does this plot tell you about the likely relationship between the variables? Print the results from your regression."
   ]
  },
  {
   "cell_type": "markdown",
   "metadata": {},
   "source": [
    "*your explanation here*\n",
    "\n",
    "### Observations:\n",
    "1. **Scatter Plot**:\n",
    "   - The points generally follow an upward trend, suggesting a **positive linear relationship** between the number of people invited (X) and the number of people who attended (Y).\n",
    "\n",
    "2. **Regression Line**:\n",
    "   - The regression line fits the data reasonably well, capturing the overall trend.\n",
    "   - Some points deviate slightly from the line, but there is no significant curvature or non-linear pattern.\n",
    "\n",
    "3. **Regression Results**:\n",
    "   - **Intercept**: (-0.439)\n",
    "     - Interpretation: If no one is invited (X = 0), the predicted number of attendees would be (-0.439), which doesn't make practical sense but is a statistical artifact of the regression.\n",
    "   - **Slope**: (0.848)\n",
    "     - Interpretation: For every additional person invited, the number of people attending increases by **0.848** on average.\n",
    "\n",
    "---\n",
    "\n",
    "### Likely Relationship:\n",
    "- The positive slope indicates a **direct linear relationship**: inviting more people leads to more attendees.\n",
    "- However, the slope being less than 1 suggests that not everyone invited ends up attending, which aligns with the scenario."
   ]
  },
  {
   "cell_type": "markdown",
   "metadata": {},
   "source": [
    "Do you see any problematic points, or outliers, in your data? Remove these points and recalculate your regression. Print the new dispersion diagram with your new model and the results of your model. "
   ]
  },
  {
   "cell_type": "code",
   "execution_count": null,
   "metadata": {},
   "outputs": [],
   "source": [
    "data_cleaned = data[data['Y'] != 13]\n",
    "\n",
    "# Replot and refit the model\n",
    "sns.regplot(x=data_cleaned['X'], y=data_cleaned['Y'], ci=None)\n",
    "plt.title('Scatter Plot with Regression Line (Outlier Removed)')\n",
    "plt.xlabel('Number of People Invited (X)')\n",
    "plt.ylabel('Number of People Attended (Y)')\n",
    "plt.show()\n",
    "\n",
    "X_cleaned = data_cleaned[['X']]\n",
    "y_cleaned = data_cleaned['Y']\n",
    "model_cleaned = LinearRegression()\n",
    "model_cleaned.fit(X_cleaned, y_cleaned)\n",
    "\n",
    "print(f\"New Intercept: {model_cleaned.intercept_}\")\n",
    "print(f\"New Slope: {model_cleaned.coef_[0]}\")"
   ]
  },
  {
   "cell_type": "markdown",
   "metadata": {},
   "source": [
    "What changed? Based on the results of the two models and your graphs, what can you say about the form of the data with the problematic point and without it?"
   ]
  },
  {
   "cell_type": "markdown",
   "metadata": {},
   "source": [
    "*your explanation here*\n",
    "\n",
    "#### What Changed?\n",
    "1. **Slope and Intercept**:\n",
    "   - The **new slope** decreased from 0.848 to **0.684**, meaning the rate of increase in attendance per additional invitation is now lower.\n",
    "   - The **new intercept** increased from -0.439 to **0.323**, which aligns better with the data since it's closer to zero.\n",
    "\n",
    "2. **Regression Line**:\n",
    "   - The new regression line fits the remaining data points more closely after removing the outlier.\n",
    "\n",
    "---\n",
    "\n",
    "#### With the Problematic Point:\n",
    "- The regression line was **steeper** due to the outlier pulling the line upward, resulting in an overestimation of the relationship between invitations and attendance.\n",
    "- The outlier distorted the overall model, making it less representative of the majority of data points.\n",
    "\n",
    "---\n",
    "\n",
    "#### Without the Problematic Point:\n",
    "- The regression line better represents the relationship between (X) (invitations) and (Y) (attendance).\n",
    "- The **outlier removal reveals a more accurate and moderate linear relationship**: for each additional invitation, about **0.68** people attend.\n",
    "\n",
    "---\n",
    "\n",
    "### Conclusion:\n",
    "- The outlier had a significant impact on the regression results, skewing the slope and intercept.\n",
    "- After removing the outlier, the model provides a more realistic representation of the data. This demonstrates the importance of identifying and addressing outliers in regression analysis."
   ]
  },
  {
   "cell_type": "code",
   "execution_count": null,
   "metadata": {},
   "outputs": [],
   "source": []
  }
 ],
 "metadata": {
  "kernelspec": {
   "display_name": "Python [conda env:base] *",
   "language": "python",
   "name": "conda-base-py"
  },
  "language_info": {
   "codemirror_mode": {
    "name": "ipython",
    "version": 3
   },
   "file_extension": ".py",
   "mimetype": "text/x-python",
   "name": "python",
   "nbconvert_exporter": "python",
   "pygments_lexer": "ipython3",
   "version": "3.12.7"
  }
 },
 "nbformat": 4,
 "nbformat_minor": 4
}
