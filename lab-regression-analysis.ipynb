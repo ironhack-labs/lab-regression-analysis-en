{
 "cells": [
  {
   "cell_type": "markdown",
   "metadata": {},
   "source": [
    "# Lab: Regression Analysis"
   ]
  },
  {
   "cell_type": "markdown",
   "metadata": {},
   "source": [
    "### Before you start:\n",
    "\n",
    "* Read the README.md file\n",
    "* Comment as much as you can and use the resources (README.md file) \n",
    "\n",
    "Happy learning!"
   ]
  },
  {
   "cell_type": "markdown",
   "metadata": {},
   "source": [
    "## Challenge 1\n",
    "I work at a coding bootcamp, and I have developed a theory that the younger my students are, the more often they are late to class. In order to test my hypothesis, I have collected some data in the following table:\n",
    "\n",
    "| StudentID | Age | Tardies |\n",
    "|--------|-----|------------|\n",
    "| 1      | 17  | 10         |\n",
    "| 2      | 51  | 1          |\n",
    "| 3      | 27  | 5          |\n",
    "| 4      | 21  | 9         |\n",
    "| 5      | 36  |  4         |\n",
    "| 6      | 48  |  2         |\n",
    "| 7      | 19  |  9         |\n",
    "| 8      | 26  | 6          |\n",
    "| 9      | 54  |  0         |\n",
    "| 10     | 30  |  3         |"
   ]
  },
  {
   "cell_type": "code",
   "execution_count": null,
   "metadata": {},
   "outputs": [],
   "source": [
    "import pandas as pd\n",
    "import numpy as np\n",
    "import plotly.express as px\n",
    "import statsmodels.formula.api as smf\n",
    "from sklearn.linear_model import LinearRegression\n",
    "import matplotlib.pyplot as plt\n",
    "import seaborn as sns"
   ]
  },
  {
   "cell_type": "markdown",
   "metadata": {},
   "source": [
    "Use this command to create a dataframe with the data provided in the table. \n",
    "~~~~\n",
    "student_data = pd.DataFrame({'Age': [17,51,27,21,36,48,19,26,54,30], 'Tardies': [10,1,5,9,4,2,9,6,0,3]})\n",
    "~~~~"
   ]
  },
  {
   "cell_type": "code",
   "execution_count": null,
   "metadata": {},
   "outputs": [],
   "source": [
    "# Your code here. \n",
    "student_data = pd.DataFrame({'Age': [17,51,27,21,36,48,19,26,54,30], 'Tardies': [10,1,5,9,4,2,9,6,0,3]})\n",
    "\n",
    "#Confirm the df was created\n",
    "print(student_data.head())\n",
    "\n"
   ]
  },
  {
   "cell_type": "markdown",
   "metadata": {},
   "source": [
    "Draw a dispersion diagram (scatter plot) for the data."
   ]
  },
  {
   "cell_type": "code",
   "execution_count": null,
   "metadata": {},
   "outputs": [],
   "source": [
    "# Your code here\n",
    "\n",
    "#Choosing columns to be used\n",
    "plt.scatter(student_data['Age'], student_data['Tardies'])\n",
    "\n",
    "# Adding labels and title\n",
    "plt.xlabel('Age')\n",
    "plt.ylabel('Tardies')\n",
    "plt.title('Time and Age Correlation Scatter Plot')\n",
    "\n",
    "# Display the plot\n",
    "plt.show()\n"
   ]
  },
  {
   "cell_type": "markdown",
   "metadata": {},
   "source": [
    "Do you see a trend? Can you make any hypotheses about the relationship between age and number of tardies?"
   ]
  },
  {
   "cell_type": "markdown",
   "metadata": {},
   "source": [
    "Yes, I understand that there is a correlation between age and tardies. My Hypothesis would be that as age progresses, tardies will be less frequent."
   ]
  },
  {
   "cell_type": "markdown",
   "metadata": {},
   "source": [
    "Calculate the covariance and correlation of the variables in your plot. What is the difference between these two measures? Compare their values. What do they tell you in this case? Add your responses as comments after your code."
   ]
  },
  {
   "cell_type": "code",
   "execution_count": null,
   "metadata": {},
   "outputs": [],
   "source": [
    "# your code here\n",
    "\n",
    "#Creating x and y\n",
    "x=student_data['Age']\n",
    "y=student_data['Tardies']\n",
    "\n",
    "#Calculate Covariance\n",
    "covariance_matrix = cov_matrix[0, 1]\n",
    "\n",
    "# Calculate standard deviations\n",
    "std_x = np.std(x)\n",
    "std_y = np.std(y)\n",
    "\n",
    "# Calculate correlation\n",
    "corr_xy = cov_xy / (std_x * std_y)\n",
    "\n",
    "#print\n",
    "print(\"Covariance:\", covariance_matrix)\n",
    "print(\"Correlation between variables:\", corr_xy)\n"
   ]
  },
  {
   "cell_type": "markdown",
   "metadata": {},
   "source": [
    "Build a regression model for this data. What will be your outcome variable? What type of regression are you using? Add your responses as comments after your code."
   ]
  },
  {
   "cell_type": "code",
   "execution_count": null,
   "metadata": {
    "scrolled": true
   },
   "outputs": [],
   "source": [
    "from sklearn.linear_model import LinearRegression\n",
    "\n",
    "# Assuming your DataFrame for age vs tardies is called 'df_age_tardies'\n",
    "X = student_data['Age'].values.reshape(-1, 1)  # Independent variable (age)\n",
    "y = student_data['Tardies'].values  # Dependent variable (tardies)\n",
    "\n",
    "# Create the regression model\n",
    "reg = LinearRegression()\n",
    "\n",
    "# Fit the model\n",
    "reg.fit(X, y)\n",
    "\n",
    "# Predict using the model\n",
    "y_pred = reg.predict(X)\n",
    "\n",
    "# Print the regression coefficients and intercept\n",
    "print(\"Regression Coefficients (Slope):\", reg.coef_)\n",
    "print(\"Intercept:\", reg.intercept_)\n"
   ]
  },
  {
   "cell_type": "markdown",
   "metadata": {},
   "source": [
    "Plot your regression model on your scatter plot."
   ]
  },
  {
   "cell_type": "code",
   "execution_count": null,
   "metadata": {},
   "outputs": [],
   "source": [
    "# Your code here.\n",
    "\n",
    "# Visualizing the results: Actual vs Predicted\n",
    "plt.scatter(X, y, color='blue', alpha=0.5, label=\"Data Points\")  # Plotting the actual data points\n",
    "plt.plot(X, y_pred, color='red', label=\"Regression Line\")  # Plotting the regression line\n",
    "plt.xlabel('Age')  # Label for x-axis\n",
    "plt.ylabel('Tardies')  # Label for y-axis\n",
    "plt.title('Age vs Tardies: Linear Regression Model')  # Title for the plot\n",
    "plt.legend()  # Adds the legend\n",
    "plt.show()  # Displays the plot\n"
   ]
  },
  {
   "cell_type": "markdown",
   "metadata": {},
   "source": [
    "Interpret the results of your model. What can conclusions can you draw from your model and how confident in these conclusions are you? Can we say that age is a good predictor of tardiness? Add your responses as comments after your code."
   ]
  },
  {
   "cell_type": "markdown",
   "metadata": {},
   "source": [
    "*your explanation here*"
   ]
  },
  {
   "cell_type": "markdown",
   "metadata": {},
   "source": [
    "## Challenge 2\n",
    "For the second part of this lab, we will use the vehicles.csv data set. You can find a copy of the dataset in the git hub folder. This dataset includes variables related to vehicle characteristics, including the model, make, and energy efficiency standards, as well as each car's CO2 emissions. As discussed in class the goal of this exercise is to predict vehicles' CO2 emissions based on several independent variables. "
   ]
  },
  {
   "cell_type": "code",
   "execution_count": null,
   "metadata": {},
   "outputs": [],
   "source": [
    "# Import any libraries you may need & the data\n",
    "vehicles = pd.read_csv(r\"C:\\Users\\sombe\\Downloads\\vehicles.csv\")\n",
    "\n",
    "print(vehicles.head())"
   ]
  },
  {
   "cell_type": "markdown",
   "metadata": {},
   "source": [
    "Let's use the following variables for our analysis: Year, Cylinders, Fuel Barrels/Year, Combined MPG, and Fuel Cost/Year. We will use 'CO2 Emission Grams/Mile' as our outcome variable. \n",
    "\n",
    "Calculate the correlations between each of these variables and the outcome. Which variable do you think will be the most important in determining CO2 emissions? Which provides the least amount of helpful information for determining CO2 emissions? Add your responses as comments after your code."
   ]
  },
  {
   "cell_type": "code",
   "execution_count": null,
   "metadata": {},
   "outputs": [],
   "source": [
    "# Your code here.\n",
    "\n",
    "# Assuming your 'vehicles' DataFrame is loaded\n",
    "# Let's calculate the correlations\n",
    "correlation_matrix = vehicles[['Year', 'Cylinders', 'Fuel Barrels/Year', 'Combined MPG', 'Fuel Cost/Year', 'CO2 Emission Grams/Mile']].corr()\n",
    "\n",
    "# Display the correlation matrix\n",
    "print(correlation_matrix)\n",
    "\n",
    "# Now, let's print the correlation of each variable with the outcome variable 'CO2 Emission Grams/Mile'\n",
    "correlations_with_outcome = correlation_matrix['CO2 Emission Grams/Mile']\n",
    "print(\"\\nCorrelations with CO2 Emission Grams/Mile:\")\n",
    "print(correlations_with_outcome)\n"
   ]
  },
  {
   "cell_type": "markdown",
   "metadata": {},
   "source": [
    "Build a regression model for this data. What type of regression are you using? Add your responses as comments after your code."
   ]
  },
  {
   "cell_type": "code",
   "execution_count": null,
   "metadata": {},
   "outputs": [],
   "source": [
    "# Your code here.\n",
    "import pandas as pd\n",
    "from sklearn.linear_model import LinearRegression\n",
    "from sklearn.model_selection import train_test_split\n",
    "from sklearn.metrics import mean_squared_error, r2_score\n",
    "\n",
    "# Assuming the 'vehicles' DataFrame is loaded\n",
    "\n",
    "# Define the independent variables (X) and the dependent variable (y)\n",
    "X = vehicles[['Year', 'Cylinders', 'Fuel Barrels/Year', 'Combined MPG', 'Fuel Cost/Year']]  # Features\n",
    "y = vehicles['CO2 Emission Grams/Mile']  # Target variable (Outcome)\n",
    "\n",
    "# Split the data into training and testing sets (80% train, 20% test)\n",
    "X_train, X_test, y_train, y_test = train_test_split(X, y, test_size=0.2, random_state=42)\n",
    "\n",
    "# Create and fit the Linear Regression model\n",
    "reg = LinearRegression()\n",
    "reg.fit(X_train, y_train)\n",
    "\n",
    "# Make predictions using the test set\n",
    "y_pred = reg.predict(X_test)\n",
    "\n",
    "# Evaluate the model\n",
    "mse = mean_squared_error(y_test, y_pred)  # Mean Squared Error\n",
    "r2 = r2_score(y_test, y_pred)  # R-squared (coefficient of determination)\n",
    "\n",
    "# Output the regression coefficients and evaluation metrics\n",
    "print(\"Regression Coefficients:\", reg.coef_)\n",
    "print(\"Intercept:\", reg.intercept_)\n",
    "print(\"Mean Squared Error (MSE):\", mse)\n",
    "print(\"R-squared:\", r2)\n",
    "\n",
    "# Optional: Visualize the actual vs predicted CO2 emissions\n",
    "import matplotlib.pyplot as plt\n",
    "\n",
    "plt.scatter(y_test, y_pred, alpha=0.3)\n",
    "plt.plot([0, max(y_test)], [0, max(y_test)], '--k')  # Ideal line where predicted = actual\n",
    "plt.xlabel('True CO2 Emission Grams/Mile')\n",
    "plt.ylabel('Predicted CO2 Emission Grams/Mile')\n",
    "plt.title('True vs Predicted CO2 Emission Grams/Mile')\n",
    "plt.show()\n"
   ]
  },
  {
   "cell_type": "markdown",
   "metadata": {},
   "source": [
    "Print your regression summary, and interpret the results. What are the most important varibles in your model and why? What can conclusions can you draw from your model and how confident in these conclusions are you? Add your responses as comments after your code."
   ]
  },
  {
   "cell_type": "code",
   "execution_count": null,
   "metadata": {},
   "outputs": [],
   "source": [
    "# Your code here.\n",
    "import statsmodels.api as sm\n",
    "\n",
    "# Add a constant to the independent variables (for the intercept term in the regression)\n",
    "X_with_const = sm.add_constant(X)\n",
    "\n",
    "# Create and fit the OLS (Ordinary Least Squares) regression model\n",
    "model = sm.OLS(y, X_with_const)\n",
    "results = model.fit()\n",
    "\n",
    "# Print the regression summary\n",
    "print(results.summary())\n",
    "\n",
    "# Optional: To evaluate the predicted values and residuals\n",
    "y_pred = results.predict(X_with_const)  # Predictions using the model\n"
   ]
  },
  {
   "cell_type": "markdown",
   "metadata": {},
   "source": [
    "## Bonus Challenge: Error Analysis"
   ]
  },
  {
   "cell_type": "markdown",
   "metadata": {},
   "source": [
    "I am suspicious about the last few parties I have thrown: it seems that the more people I invite the more people are unable to attend. To know if my hunch is supported by data, I have decided to do an analysis. I have collected my data in the table below, where X is the number of people I invited, and Y is the number of people who attended. \n",
    "\n",
    "|  X |  Y |\n",
    "|----|----|\n",
    "| 1  |  1 |\n",
    "| 3  |  2 |\n",
    "| 4  |  4 |\n",
    "| 6  |  4 |\n",
    "| 8  |  5 |\n",
    "| 9  |  7 |\n",
    "| 11 |  8 |\n",
    "| 14 |  13 |"
   ]
  },
  {
   "cell_type": "markdown",
   "metadata": {},
   "source": [
    "We want to know if the relationship modeled by the two random variables is linear or not, and therefore if it is appropriate to model it with a linear regression. \n",
    "First, build a dataframe with the data. "
   ]
  },
  {
   "cell_type": "code",
   "execution_count": null,
   "metadata": {},
   "outputs": [],
   "source": [
    "# Your code here.\n",
    "\n",
    "# Data for the party analysis\n",
    "data = {\n",
    "    'X': [1, 3, 4, 6, 8, 9, 11, 14],  # Number of people invited\n",
    "    'Y': [1, 2, 4, 4, 5, 7, 8, 13]   # Number of people who attended\n",
    "}\n",
    "\n",
    "# Create DataFrame\n",
    "df_party = pd.DataFrame(data)\n",
    "\n",
    "# Display the DataFrame\n",
    "print(df_party)\n"
   ]
  },
  {
   "cell_type": "markdown",
   "metadata": {},
   "source": [
    "Draw a dispersion diagram (scatter plot) for the data, and fit a regression line."
   ]
  },
  {
   "cell_type": "code",
   "execution_count": null,
   "metadata": {},
   "outputs": [],
   "source": [
    "# Your code here.\n",
    "\n",
    "# Data\n",
    "X = df_party['X'].values.reshape(-1, 1)  # Independent variable (number of people invited)\n",
    "y = df_party['Y'].values  # Dependent variable (number of people attended)\n",
    "\n",
    "# Create the regression model\n",
    "reg = LinearRegression()\n",
    "\n",
    "# Fit the model\n",
    "reg.fit(X, y)\n",
    "\n",
    "# Predict using the model\n",
    "y_pred = reg.predict(X)\n",
    "\n",
    "# Plotting the data points (scatter plot)\n",
    "plt.scatter(X, y, color='blue', label='Data Points')\n",
    "\n",
    "# Plotting the regression line\n",
    "plt.plot(X, y_pred, color='red', label='Regression Line')\n",
    "\n",
    "# Labels and title\n",
    "plt.xlabel('Number of People Invited (X)')\n",
    "plt.ylabel('Number of People Attended (Y)')\n",
    "plt.title('Scatter Plot with Regression Line')\n",
    "\n",
    "# Displaying the legend\n",
    "plt.legend()\n",
    "\n",
    "# Show the plot\n",
    "plt.show()"
   ]
  },
  {
   "cell_type": "markdown",
   "metadata": {},
   "source": [
    "What do you see? What does this plot tell you about the likely relationship between the variables? Print the results from your regression."
   ]
  },
  {
   "cell_type": "markdown",
   "metadata": {},
   "source": [
    "The data points follow an upward trend. As the number of people invited increases, the number of people attending also increases.\n",
    "The red regression line fits the data points well, indicating a positive linear relationship between the two variables. This suggests that the more people you invite, the more people attend, which is a consistent pattern."
   ]
  },
  {
   "cell_type": "markdown",
   "metadata": {},
   "source": [
    "Do you see any problematic points, or outliers, in your data? Remove these points and recalculate your regression. Print the new dispersion diagram with your new model and the results of your model. "
   ]
  },
  {
   "cell_type": "code",
   "execution_count": null,
   "metadata": {},
   "outputs": [],
   "source": [
    "# Calculate residuals (difference between actual and predicted values)\n",
    "residuals = y - y_pred\n",
    "\n",
    "# Set a threshold for outlier detection (e.g., 2 standard deviations away from the mean of residuals)\n",
    "threshold = 2 * np.std(residuals)\n",
    "\n",
    "# Identify the outliers (where residuals are beyond the threshold)\n",
    "outliers = np.abs(residuals) > threshold\n",
    "\n",
    "# Print the outliers (X and Y values of the outliers)\n",
    "print(f\"Outliers: {X[outliers]}, {y[outliers]}\")\n",
    "\n",
    "if np.sum(outliers) == 0:\n",
    "    print(\"There are no outliers.\")\n",
    "else:\n",
    "    print(f\"There are {np.sum(outliers)} outliers.\") \n",
    "\n",
    "\n",
    "# Data\n",
    "X = df_party['X'].values.reshape(-1, 1)  # Independent variable (number of people invited)\n",
    "y = df_party['Y'].values  # Dependent variable (number of people attended)\n",
    "\n",
    "# Create the regression model\n",
    "reg = LinearRegression()\n",
    "\n",
    "# Fit the model\n",
    "reg.fit(X, y)\n",
    "\n",
    "# Predict using the model\n",
    "y_pred = reg.predict(X)\n",
    "\n",
    "# Plotting the data points (scatter plot)\n",
    "plt.scatter(X, y, color='blue', label='Data Points')\n",
    "\n",
    "# Plotting the regression line\n",
    "plt.plot(X, y_pred, color='red', label='Regression Line')\n",
    "\n",
    "# Labels and title\n",
    "plt.xlabel('Number of People Invited (X)')\n",
    "plt.ylabel('Number of People Attended (Y)')\n",
    "plt.title('Scatter Plot with Regression Line')\n",
    "\n",
    "# Displaying the legend\n",
    "plt.legend()\n",
    "\n",
    "# Show the plot\n",
    "plt.show()"
   ]
  },
  {
   "cell_type": "markdown",
   "metadata": {},
   "source": [
    "What changed? Based on the results of the two models and your graphs, what can you say about the form of the data with the problematic point and without it?"
   ]
  },
  {
   "cell_type": "markdown",
   "metadata": {},
   "source": [
    "Nothing changed, because there were no changes made to the data set."
   ]
  },
  {
   "cell_type": "code",
   "execution_count": null,
   "metadata": {},
   "outputs": [],
   "source": []
  }
 ],
 "metadata": {
  "kernelspec": {
   "display_name": "Python 3 (ipykernel)",
   "language": "python",
   "name": "python3"
  },
  "language_info": {
   "codemirror_mode": {
    "name": "ipython",
    "version": 3
   },
   "file_extension": ".py",
   "mimetype": "text/x-python",
   "name": "python",
   "nbconvert_exporter": "python",
   "pygments_lexer": "ipython3",
   "version": "3.12.7"
  }
 },
 "nbformat": 4,
 "nbformat_minor": 4
}
